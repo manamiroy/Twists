{
 "cells": [
  {
   "cell_type": "code",
   "execution_count": 1,
   "id": "17f416",
   "metadata": {
    "collapsed": false
   },
   "outputs": [
   ],
   "source": [
    "load('definitions.sage')\n",
    "Es13 = EllipticCurve([0,a2,0,a4,a6])\n",
    "Es123 = EllipticCurve([0,0,0,a4,a6])\n",
    "Es3 = EllipticCurve([a1,a2,0,a4,a6])\n",
    "Es4 = EllipticCurve([a1,a2,a3,0,a6])"
   ]
  },
  {
   "cell_type": "markdown",
   "id": "dee86c",
   "metadata": {
    "collapsed": false
   },
   "source": [
    "Below, we supplement the proof of Proposition 3.4.\n",
    "\n",
    "\n",
    "**Case 1. Suppose $\\operatorname{typ}(E)=\\rm{I}_0$.**"
   ]
  },
  {
   "cell_type": "markdown",
   "id": "6a18f7",
   "metadata": {
    "collapsed": false
   },
   "source": [
    "**Subcase 1a.** Suppose $\\operatorname{char}(\\kappa) =2$ and $v(a_1)=0$. Then $a_1^{-1} \\in A$. The code below shows that we may assume that $\\mathcal{V}(E)=(=0,0,2,0,0)$. Consequently, $a_3 = \\pi^2 k$ and thus\n",
    "$$\\Delta \\equiv a_1^4(a_1^2a_6+a_4^2) \\mod \\pi.$$"
   ]
  },
  {
   "cell_type": "code",
   "execution_count": 5,
   "id": "058662",
   "metadata": {
    "collapsed": false
   },
   "outputs": [
    {
     "name": "stdout",
     "output_type": "stream",
     "text": [
      "a1p= a1\n",
      "a2p= a1^-1 * (a1*a2 + 9*a3)\n",
      "a3p= (4) * a3\n",
      "a4p= a1^-2 * (6*a1*a2*a3 + a1^2*a4 + 27*a3^2)\n",
      "ap6= a1^-3 * (9*a1*a2*a3^2 + 3*a1^2*a3*a4 + a1^3*a6 + 27*a3^3)\n",
      "None\n",
      "Delta = a1^3*k^3*pi^6 + k^4*pi^8 + a1^4*a2*k^2*pi^4 + a1^5*a4*k*pi^2 + a1^6*a6 + a1^4*a4^2 mod pi\n",
      "Delta = a1^4 * (a1^2*a6 + a4^2) mod pi\n"
     ]
    }
   ],
   "source": [
    "print(Ais(Es.change_weierstrass_model(1,3*a1^(-1)*a3,0,0)))\n",
    "print('Delta =',PolyModFactor(EllipticCurve([a1,a2,pi^2*k,a4,a6]).discriminant(),2),'mod pi')\n",
    "print('Delta =',factor( a1^6*a6 + a1^4*a4^2),'mod pi')"
   ]
  },
  {
   "cell_type": "markdown",
   "id": "64cac3",
   "metadata": {
    "collapsed": false
   },
   "source": [
    "Therefore, if $v(a_4)>0$ (resp. $v(a_6)>0$), then $v(a_6)=0$ (resp. $v(a_4)=0$). \n",
    "\n",
    "Now suppose that $v(a_4a_6)=0$. The code below yields an isomorphic elliptic curve $E'$ to $E$ that satisfies $\\mathcal{V}(E')=(=0,0,1,1,=0)$ (since $v(a_1^2a_6 - a_4^2)=0$ by assumption)."
   ]
  },
  {
   "cell_type": "code",
   "execution_count": 6,
   "id": "8ee55f",
   "metadata": {
    "collapsed": false
   },
   "outputs": [
    {
     "name": "stdout",
     "output_type": "stream",
     "text": [
      "a1p= a1\n",
      "a2p= a2\n",
      "a3p= (-1) * a1^-1 * (-a1*a3 + 2*a4)\n",
      "a4p= (2) * a4\n",
      "ap6= a1^-2 * (a1*a3*a4 + a1^2*a6 - a4^2)\n",
      "None\n"
     ]
    }
   ],
   "source": [
    "print(Ais(Es.change_weierstrass_model(1,0,0,-a1^(-1)*a4)))"
   ]
  },
  {
   "cell_type": "markdown",
   "id": "afb750",
   "metadata": {
    "collapsed": false
   },
   "source": [
    "If $v(a_3')\\ge 2$, then we are done. So suppose that $v(a_3')=1$. Then the code below shows that we can find an isomorphic elliptic curve $E''$ that satisfies $\\mathcal{V}(E'')=(=0,0,2,1,=0)$ "
   ]
  },
  {
   "cell_type": "code",
   "execution_count": 7,
   "id": "147875",
   "metadata": {
    "collapsed": false
   },
   "outputs": [
    {
     "name": "stdout",
     "output_type": "stream",
     "text": [
      "a1p= a1\n",
      "a2p= (-1) * a1^-2 * (-a1^2*a2 - 3*a1*a3 + 6*a4)\n",
      "a3p= (-2) * a1^-1 * (-a1*a3 + 2*a4)\n",
      "a4p= a1^-4 * (2*a1^3*a2*a3 + 2*a1^4*a4 + 3*a1^2*a3^2 - 4*a1^2*a2*a4 - 12*a1*a3*a4 + 12*a4^2)\n",
      "ap6= a1^-6 * (a1^4*a2*a3^2 + 3*a1^5*a3*a4 + a1^6*a6 + a1^3*a3^3 - 4*a1^3*a2*a3*a4 - 5*a1^4*a4^2 - 6*a1^2*a3^2*a4 + 4*a1^2*a2*a4^2 + 12*a1*a3*a4^2 - 8*a4^3)\n",
      "None\n"
     ]
    }
   ],
   "source": [
    "print(Ais(Es.change_weierstrass_model(1,0,0,-a1^(-1)*a4).change_weierstrass_model(1,-a1^(-1) * a1^-1 * (-a1*a3 + 2*a4),0,0)))"
   ]
  },
  {
   "cell_type": "markdown",
   "id": "472428",
   "metadata": {
    "collapsed": false
   },
   "source": [
    "**Subcase 1b.** Suppose $\\operatorname{char}(\\kappa) =2$ and $v(a_1)\\ge 1$. Then  $a_2 = \\pi k$, and the code below verifies that $\\Delta \\equiv a_3^4 \\mod \\pi$. Thus, $v(a_3)=0$. In addition, if $v(a_2)=0$, the code below shows we can find an isomorphic elliptic curve $E'$ such that \n",
    "$$\\mathcal{V}(E')=(1,1,=0,0,0).$$"
   ]
  },
  {
   "cell_type": "code",
   "execution_count": 8,
   "id": "28ad92",
   "metadata": {
    "collapsed": false
   },
   "outputs": [
    {
     "name": "stdout",
     "output_type": "stream",
     "text": [
      "Delta = a6*k^6*pi^6 + a3*a4*k^5*pi^5 + a2*a3^2*k^4*pi^4 + a4^2*k^4*pi^4 + a3^3*k^3*pi^3 + a3^4 mod pi\n",
      "Delta = a3^4 mod pi\n",
      "a1p= a1\n",
      "a2p= (4) * a2\n",
      "a3p= a1*a2 + a3\n",
      "a4p= 5*a2^2 + a4\n",
      "ap6= 2*a2^3 + a2*a4 + a6\n",
      "None\n"
     ]
    }
   ],
   "source": [
    "print('Delta =',PolyModFactor(EllipticCurve([k*pi,a2,a3,a4,a6]).discriminant(),2),'mod pi')\n",
    "print('Delta =', a3^4,'mod pi')\n",
    "print(Ais(Es.change_weierstrass_model(1,a2,0,0)))"
   ]
  },
  {
   "cell_type": "markdown",
   "id": "f35ebc",
   "metadata": {
    "collapsed": false
   },
   "source": [
    "**Case 2. Suppose $\\operatorname{typ}(E)=\\rm{I}_n$ for $n>0$.** By Tate's Algorithm, we may assume that $\\mathcal{V}(E)=(0,0,1,1,1)$ with $v(\\Delta)=n$ and $v(b_2)=0$.\n",
    "\n",
    "**Subcase 2a.** Suppose $\\operatorname{char}(\\kappa) = 2$. Then $v(b_2)=0$ implies that $v(a_1)=0$. The code below shows that we may suppose that $\\mathcal{V}(E)=(=0,0,\\infty,1,1)$."
   ]
  },
  {
   "cell_type": "code",
   "execution_count": 9,
   "id": "f552c7",
   "metadata": {
    "collapsed": false
   },
   "outputs": [
    {
     "name": "stdout",
     "output_type": "stream",
     "text": [
      "a1p= a1\n",
      "a2p= (-1) * a1^-1 * (-a1*a2 + 3*a3)\n",
      "a3p= 0\n",
      "a4p= a1^-2 * (-2*a1*a2*a3 + a1^2*a4 + 3*a3^2)\n",
      "ap6= a1^-3 * (a1*a2*a3^2 - a1^2*a3*a4 + a1^3*a6 - a3^3)\n",
      "None\n"
     ]
    }
   ],
   "source": [
    "print(Ais(Es.change_weierstrass_model(1,-a1^(-1)*a3,0,0)))"
   ]
  },
  {
   "cell_type": "markdown",
   "id": "e55aae",
   "metadata": {
    "collapsed": false
   },
   "source": [
    "Now suppose $v(a_2)=k <\\frac{n+1}{2}$. With $\\mathcal{V}(E)=(=0,0,\\infty,1,1)$, the code below shows that we may assume that $\\mathcal{V}(E)=(=0,0,=k+v(2),\\infty,1)$."
   ]
  },
  {
   "cell_type": "code",
   "execution_count": 10,
   "id": "3148b1",
   "metadata": {
    "collapsed": false
   },
   "outputs": [
    {
     "name": "stdout",
     "output_type": "stream",
     "text": [
      "a1p= a1\n",
      "a2p= a2\n",
      "a3p= (2) * a1^-1 * a4\n",
      "a4p= 0\n",
      "ap6= a1^-2 * (a1^2*a6 - a4^2)\n",
      "None\n"
     ]
    }
   ],
   "source": [
    "print(Ais(Es3.change_weierstrass_model(1,0,0,a1^-1*a4)))"
   ]
  },
  {
   "cell_type": "markdown",
   "id": "59e854",
   "metadata": {
    "collapsed": false
   },
   "source": [
    "Now suppose $\\mathcal{V}(E)=(=0,0,=k+v(2),\\infty,1)$ with $k+v(2) < \\frac{n+1}{2}$. The below shows that we may assume that $\\mathcal{V}(E)=(=0,0,\\infty,k+2v(2),1)$."
   ]
  },
  {
   "cell_type": "code",
   "execution_count": 11,
   "id": "6cedbd",
   "metadata": {
    "collapsed": false
   },
   "outputs": [
    {
     "name": "stdout",
     "output_type": "stream",
     "text": [
      "a1p= a1\n",
      "a2p= (-1) * a1^-1 * (-a1*a2 + 3*a3)\n",
      "a3p= 0\n",
      "a4p= a1^-2 * a3 * (-2*a1*a2 + 3*a3)\n",
      "ap6= a1^-3 * (a1*a2*a3^2 + a1^3*a6 - a3^3)\n",
      "None\n"
     ]
    }
   ],
   "source": [
    "print(Ais(Es4.change_weierstrass_model(1,-a1^(-1)*a3,0,0)))"
   ]
  },
  {
   "cell_type": "markdown",
   "id": "b9428d",
   "metadata": {
    "collapsed": false
   },
   "source": [
    "Continuing in this manner allows us to assume that $\\mathcal{V}(E)=(=0,0,\\frac{n+1}{2},\\frac{n+1}{2},1)$.\n",
    "\n",
    "We now consider the cases corresponding to $n$ being odd or even separately.\n",
    "\n",
    "**Suppose $n$ is odd.** If $v(a_3)=\\frac{n+1}{2}$, then $E$ is given by a normal model. So suppose that $v(a_3)>\\frac{n+1}{2}$. Set $r=\\pi^{\\frac{n+1}{2}}$. The code below shows that we may assume that $\\mathcal{V}(E)=(=0,0,=\\frac{n+1}{2},\\frac{n+1}{2},=n)$."
   ]
  },
  {
   "cell_type": "code",
   "execution_count": 5,
   "id": "b87dea",
   "metadata": {
    "collapsed": false
   },
   "outputs": [
    {
     "name": "stdout",
     "output_type": "stream",
     "text": [
      "a1= a1\n",
      "a2= a2 + 3*r\n",
      "a3= a1*r + a3\n",
      "a4= 2*a2*r + 3*r^2 + a4\n",
      "a6= a2*r^2 + r^3 + a4*r + a6\n",
      "None\n"
     ]
    }
   ],
   "source": [
    "print(Ais(Es.change_weierstrass_model(1,r,0,0)))"
   ]
  },
  {
   "cell_type": "markdown",
   "id": "a5d0a7",
   "metadata": {
    "collapsed": false
   },
   "source": [
    "**Suppose $n$ is even.** "
   ]
  },
  {
   "cell_type": "code",
   "execution_count": 6,
   "id": "4d562d",
   "metadata": {
    "collapsed": false
   },
   "outputs": [
    {
     "name": "stdout",
     "output_type": "stream",
     "text": [
      "a1= a1\n",
      "a2= a2\n",
      "a3= a3 + 2*w\n",
      "a4= (-1) * (a1*w - a4)\n",
      "a6= (-1) * (a3*w + w^2 - a6)\n",
      "None\n"
     ]
    }
   ],
   "source": [
    "print(Ais(Es.change_weierstrass_model(1,0,0,w)))"
   ]
  },
  {
   "cell_type": "markdown",
   "id": "208978",
   "metadata": {
    "collapsed": false
   },
   "source": [
    "**Subcase 2b.** Suppose $\\operatorname{char}(\\kappa) \\neq 2$. By Tate's Algorithm, and the fact that the characteristic is odd, we may assume that  $\\mathcal{V}(E)=(\\infty,=0,\\infty,1,1)$. Note that $v(a_2)=0$ is obtained from $v(b_2)=0$. Next, let $v(a_4)=k$. Since $2a_2 \\in A^{\\times}$, there exists $r \\in A$ such that $2a_2 r +a_4 = \\pi^{(n+3)/2}$. Since $r= (2a_2)^{-1}(\\pi^{(n+3)/2} - a_4)$, we deduce that $v(r) \\ge \\operatorname{min}(k,\\frac{n+3}{2})$. The the code below shows that we may assume that $\\mathcal{V}(E)=(\\infty,=0,\\infty,\\operatorname{min}(\\frac{n+3}{2},2k),1)$. We can then continue in the same manner, until we obtain as isomorphic elliptic curve $E'$ satisfying $\\mathcal{V}(E')=(\\infty,=0,\\infty,\\frac{n+3}{2},1)$."
   ]
  },
  {
   "cell_type": "code",
   "execution_count": 13,
   "id": "5348c3",
   "metadata": {
    "collapsed": false
   },
   "outputs": [
    {
     "name": "stdout",
     "output_type": "stream",
     "text": [
      "a1p= 0\n",
      "a2p= a2 + 3*r\n",
      "a3p= 0\n",
      "a4p= 2*a2*r + 3*r^2 + a4\n",
      "ap6= a2*r^2 + r^3 + a4*r + a6\n",
      "None\n"
     ]
    }
   ],
   "source": [
    "print(Ais(Es13.change_weierstrass_model(1,r,0,0)))"
   ]
  },
  {
   "cell_type": "markdown",
   "id": "cb4c5c",
   "metadata": {
    "collapsed": false
   },
   "source": [
    "Assuming $\\mathcal{V}(E)=(\\infty,=0,\\infty,\\frac{n+3}{2},1)$, the code below shows that $\\Delta = a_4^2 k_1 + a_6 k_2$ for some $k_1,k_2 \\in A$ with $v(k_2)=0$. Thus, $v(\\Delta)=n$ implies that $v(a_6)=n$."
   ]
  },
  {
   "cell_type": "code",
   "execution_count": 14,
   "id": "ef3d5b",
   "metadata": {
    "collapsed": false
   },
   "outputs": [
    {
     "name": "stdout",
     "output_type": "stream",
     "text": [
      "True\n"
     ]
    }
   ],
   "source": [
    "k1 = (-16) * (-a2^2 + 4*a4)\n",
    "k2 = (-16) * (4*a2^3 - 18*a2*a4 + 27*a6)\n",
    "print(Es13.discriminant() == a4^2 * k1 + a6*k2)"
   ]
  },
  {
   "cell_type": "markdown",
   "id": "da39a0",
   "metadata": {
    "collapsed": false
   },
   "source": [
    "**Case 3. Suppose $\\operatorname{typ}(E)=\\rm{II}$.**\n",
    "\n",
    "**Subcase 3a. Suppose $\\operatorname{char}(\\kappa) =2$.**  By Tate's Algorithm, we may assume that $\\mathcal{V}(E)=(0,0,1,1,=1)$ with $v(b_2)\\ge 1$. Since $v(b_2)\\ge 1$, it follows that $v(a_1)\\ge 1$. If $v(a_2) \\ge 1$, then we are done. So suppose $v(a_2)=0$. Then there is a $s \\in R$ such that $s^2 \\equiv a_2 \\mod \\pi$. The code below shows that we may then do a change of variables and assume that $\\mathcal{V}(E)=(1,1,1,1,=1)$."
   ]
  },
  {
   "cell_type": "code",
   "execution_count": 15,
   "id": "c38090",
   "metadata": {
    "collapsed": false
   },
   "outputs": [
    {
     "name": "stdout",
     "output_type": "stream",
     "text": [
      "b2= a1^2 + 4*a2\n",
      "a1p= a1 + 2*s\n",
      "a2p= (-1) * (a1*s + s^2 - a2)\n",
      "a3p= a3\n",
      "a4p= (-1) * (a3*s - a4)\n",
      "ap6= a6\n",
      "None\n"
     ]
    }
   ],
   "source": [
    "print('b2=',factor(Es.b2()))\n",
    "print(Ais(Es.change_weierstrass_model(1,0,s,0)))"
   ]
  },
  {
   "cell_type": "markdown",
   "id": "92876c",
   "metadata": {
    "collapsed": false
   },
   "source": [
    "**Subcase 3b. Suppose $\\operatorname{char}(\\kappa) \\ne 2$.** Done in paper."
   ]
  },
  {
   "cell_type": "markdown",
   "id": "45c9db",
   "metadata": {
    "collapsed": false
   },
   "source": [
    "**Case 4. Suppose $\\operatorname{typ}(E)=\\rm{III}$.** By Tate's Algorithm and Case 3, we may assume that if $\\operatorname{char}(\\kappa)=2$, then $\\mathcal{V}(E)=(1,1,1,1,2)$ with $v(b_8)=2$. Similarly, if $\\operatorname{char}(\\kappa)\\ne 2$, then $\\mathcal{V}(E)=(\\infty,1,\\infty,1,2)$ with $v(b_8)=2$. Since \n",
    "$$b_8 = a_2 a_3^2 - a_1 a_3 a_4 + a_1^2 a_6 - a_4^2 + 4a_2a_6,$$\n",
    "we see that $v(b_8)=2$ if and only if $v(a_4)=1$."
   ]
  },
  {
   "cell_type": "code",
   "execution_count": 16,
   "id": "562784",
   "metadata": {
    "collapsed": false
   },
   "outputs": [
    {
     "name": "stdout",
     "output_type": "stream",
     "text": [
      "b8= a2*a3^2 - a1*a3*a4 + a1^2*a6 - a4^2 + 4*a2*a6\n"
     ]
    }
   ],
   "source": [
    "print('b8=',factor(Es.b8()))"
   ]
  },
  {
   "cell_type": "markdown",
   "id": "4a344e",
   "metadata": {
    "collapsed": false
   },
   "source": [
    "**Case 5. Suppose $\\operatorname{typ}(E)=\\rm{IV}$.** By Tate's Algorithm and Case 3, we may assume the following:\n",
    "\n",
    "If $\\operatorname{char}(\\kappa) = 2$, then $\\mathcal{V}(E)=(1,1,1,2,2)$ with $v(b_6)=2$.\n",
    "\n",
    "If $\\operatorname{char}(\\kappa) \\ne 2$, then $\\mathcal{V}(E)=(\\infty,1,\\infty,2,2)$ with $v(b_6)=2$.\n",
    "\n",
    "Note that $b_6 =a_3^2 + 4a_6$. Thus, if $\\operatorname{char}(\\kappa) = 2$, then $v(b_6)=2$ if and only if $v(a_3)=1$. Similarly, if $\\operatorname{char}(\\kappa) \\ne 2$, then $v(b_6)=2$ if and only if $v(a_6)=2$."
   ]
  },
  {
   "cell_type": "code",
   "execution_count": 17,
   "id": "7a9287",
   "metadata": {
    "collapsed": false
   },
   "outputs": [
    {
     "name": "stdout",
     "output_type": "stream",
     "text": [
      "b6= a3^2 + 4*a6\n"
     ]
    }
   ],
   "source": [
    "print('b6=',factor(Es.b6()))"
   ]
  },
  {
   "cell_type": "markdown",
   "id": "499771",
   "metadata": {
    "collapsed": false
   },
   "source": [
    "**Case 6. Suppose $\\operatorname{typ}(E)=\\rm{I}_0^*$.** The case when $\\operatorname{char}\\kappa\\neq 2$ is done in the paper. So suppose that $\\operatorname{char}\\kappa = 2$. From Tate's Algorithm, we may assume that $\\mathcal{V}(E)=(  1,1,2,2,3)$ and that the following polynomial has distinct roots in $\\overline{\\kappa}$:\n",
    "$$ P(T)=T^{3}+a_{2,1}T^{2}+a_{4,2}T+a_{6,3}.$$\n",
    "In particular, the discriminant of $P(T)$ satisfies\n",
    "$$\\operatorname{Disc}(P)=\\pi^{-6}\\left(  a_{2}^{2}a_{4}^{2}-27a_{6}^{2}\\right)  \\not \\equiv 0\\ \\operatorname{mod}\\pi$$\n",
    "Consequently, if $v(a_4) \\ge 3$, then $v(a_6)=3$, as desired. So suppose that $v(a_4)=2$. Then there exists $r\\in R$ such that $r^2 \\equiv \\frac{a_4}{\\pi^2}$. The code below gives the Weierstrass coefficients $a_i'$ of $E'$, where $E'$ is the elliptic curve obtained from $E$ via the isomorphism $[1,\\pi r,0,0]$. Since $a_4' = \\pi^2 (2a_{2,1}r+3r^2 + a_{4,2})$ and $2a_{2,1}r+3r^2 + a_{4,2} \\equiv 3 a_{4,2} + a_{4,2} \\mod \\pi = 0 \\mod \\pi$, we have that $v(a_4')\\ge 3$. Thus, we have that $\\mathcal{V}(E')=(1,1,2,3,3)$. Since $\\operatorname{typ}(E')=\\rm{I}_0^*$, we conclude that $v(a_6') = 3$."
   ]
  },
  {
   "cell_type": "code",
   "execution_count": 18,
   "id": "d444b9",
   "metadata": {
    "collapsed": false
   },
   "outputs": [
    {
     "name": "stdout",
     "output_type": "stream",
     "text": [
      "a1p= a1\n",
      "a2p= 3*r*pi + a2\n",
      "a3p= a1*r*pi + a3\n",
      "a4p= 3*r^2*pi^2 + 2*a2*r*pi + a4\n",
      "ap6= r^3*pi^3 + a2*r^2*pi^2 + a4*r*pi + a6\n",
      "None\n"
     ]
    }
   ],
   "source": [
    "print(Ais(Es.change_weierstrass_model(1,r*pi,0,0)))"
   ]
  },
  {
   "cell_type": "code",
   "execution_count": 15,
   "id": "2dd20a",
   "metadata": {
    "collapsed": false
   },
   "outputs": [
    {
     "name": "stdout",
     "output_type": "stream",
     "text": [
      "a1p= 0\n",
      "a2p= a2 + 3*r\n",
      "a3p= 0\n",
      "a4p= 2*a2*r + 3*r^2 + a4\n",
      "ap6= a2*r^2 + r^3 + a4*r + a6\n",
      "None\n"
     ]
    }
   ],
   "source": [
    "print(Ais(Es13.change_weierstrass_model(1,r,0,0)))"
   ]
  },
  {
   "cell_type": "markdown",
   "id": "c16ccc",
   "metadata": {
    "collapsed": false
   },
   "source": [
    "**Case 7. Suppose $\\operatorname{typ}(E)=\\rm{I}_n^*$ for $n>0$.** By the proof of Tate's Algorithm, we may assume that\n",
    "$$\\mathcal{V}(E)=\\left\\{\n",
    "\\begin{align*}\n",
    "\\left(  1,=1,\\frac{n+3}{2},\\frac{n+5}{2},n+3\\right)   & \\text{if }n\\text{ is\n",
    "odd,}\\\\\n",
    "\\left(  1,=1,\\frac{n+4}{2},\\frac{n+4}{2},n+3\\right)   & \\text{if }n\\text{ is\n",
    "even.}%\n",
    "\\end{align*}\n",
    "\\right.$$\n",
    "**Subcase 7a. Suppose $\\operatorname{char}(\\kappa) =2$.** It is demonstrated in the article that\n",
    "$$\\mathcal{V}(E)=\\left\\{\n",
    "\\begin{align*}\n",
    "\\left(  1,=1,=\\frac{n+3}{2},\\frac{n+5}{2},n+3\\right)   & \\text{if }n\\text{ is\n",
    "odd,}\\\\\n",
    "\\left(  1,=1,\\frac{n+4}{2},=\\frac{n+4}{2},n+3\\right)   & \\text{if }n\\text{ is\n",
    "even.}%\n",
    "\\end{align*}\n",
    "\\right.$$\n",
    "**Subcase 7b. Suppose $\\operatorname{char}(\\kappa) \\ne2$.** The code below shows that we may assume that\n",
    "$$\\mathcal{V}(E)=\\left\\{\n",
    "\\begin{align*}\n",
    "\\left(  \\infty,=1,\\infty,\\frac{n+5}{2},n+3\\right)   & \\text{if }n\\text{ is\n",
    "odd,}\\\\\n",
    "\\left(  \\infty,=1,\\infty,\\frac{n+4}{2},n+3\\right)   & \\text{if }n\\text{ is\n",
    "even.}\\end{align*}\\right.$$"
   ]
  },
  {
   "cell_type": "code",
   "execution_count": 37,
   "id": "ec8de8",
   "metadata": {
    "collapsed": false
   },
   "outputs": [
    {
     "name": "stdout",
     "output_type": "stream",
     "text": [
      "a1p= 0\n",
      "a2p= (1/4) * (a1^2 + 4*a2)\n",
      "a3p= 0\n",
      "a4p= (1/2) * (a1*a3 + 2*a4)\n",
      "ap6= (1/4) * (a3^2 + 4*a6)\n",
      "None\n"
     ]
    }
   ],
   "source": [
    "print(Ais(Es.change_weierstrass_model(1,0,-a1/2,-a3/2)))"
   ]
  },
  {
   "cell_type": "markdown",
   "id": "84ddab",
   "metadata": {
    "collapsed": false
   },
   "source": [
    "In the article, the only case that requires further verification is the case when $\\operatorname{char}\\kappa \\not = 2$ with $n$ even. In this case, let $r=\\frac{1}{2a_2}(\\pi^{(n+6)/2}-a_4)$. Then $r \\in A^\\times$, and $2a_2 r + a_4 = \\pi^{(n+6)/2}$. Moreover, $v(r)=\\frac{n+2}{2}$. With this, the code below shows that we may assume that $\\mathcal{V}(E)=(\\infty,=1,\\infty,\\frac{n+6}{2},=n+3)$. The article shows that, in fact, $v(a_6)=n+3$."
   ]
  },
  {
   "cell_type": "code",
   "execution_count": 41,
   "id": "c3d9cb",
   "metadata": {
    "collapsed": false
   },
   "outputs": [
    {
     "name": "stdout",
     "output_type": "stream",
     "text": [
      "a1p= 0\n",
      "a2p= a2 + 3*r\n",
      "a3p= 0\n",
      "a4p= 2*a2*r + 3*r^2 + a4\n",
      "ap6= a2*r^2 + r^3 + a4*r + a6\n",
      "None\n"
     ]
    }
   ],
   "source": [
    "print(Ais(Es13.change_weierstrass_model(1,r,0,0)))"
   ]
  },
  {
   "cell_type": "markdown",
   "id": "d76a83",
   "metadata": {
    "collapsed": false
   },
   "source": [
    "**Case 8. Suppose $\\operatorname{typ}(E)=\\rm{IV}^*$.** From Tate's Algorithm, we may assume that if $\\operatorname{char}(\\kappa) =2$, then $\\mathcal{V}(E) = (1,2,2,3,4)$ with $v(b_6) = 4$. Moreover, $v(b_6) = 4$ if and only if $v(a_3)=2$. Now suppose $\\operatorname{char}(\\kappa) \\ne 2$. Then, we may assume by Tate's Algorithm that $\\mathcal{V}(E) = (\\infty,2,\\infty,3,4)$ with $v(b_6)=4$. But,  Since $v(b_6)=4$ is equivalent to $v(a_6)=4$."
   ]
  },
  {
   "cell_type": "code",
   "execution_count": 45,
   "id": "342dbc",
   "metadata": {
    "collapsed": false
   },
   "outputs": [
    {
     "name": "stdout",
     "output_type": "stream",
     "text": [
      "b6= a3^2 + 4*a6\n",
      "a1p= 0\n",
      "a2p= (1/4) * (a1^2 + 4*a2)\n",
      "a3p= 0\n",
      "a4p= (1/2) * (a1*a3 + 2*a4)\n",
      "ap6= (1/4) * (a3^2 + 4*a6)\n",
      "None\n"
     ]
    }
   ],
   "source": [
    "print('b6=',factor(Es.b6()))\n",
    "print(Ais(Es.change_weierstrass_model(1,0,-a1/2,-a3/2)))"
   ]
  },
  {
   "cell_type": "code",
   "execution_count": 0,
   "id": "c06798",
   "metadata": {
    "collapsed": false
   },
   "outputs": [
   ],
   "source": [
   ]
  }
 ],
 "metadata": {
  "kernelspec": {
   "argv": [
    "sage-10.2",
    "--python",
    "-m",
    "sage.repl.ipython_kernel",
    "--matplotlib=inline",
    "-f",
    "{connection_file}"
   ],
   "display_name": "SageMath 10.2",
   "env": {
   },
   "language": "sagemath",
   "metadata": {
    "cocalc": {
     "description": "Open-source mathematical software system",
     "priority": 2,
     "url": "https://www.sagemath.org/"
    }
   },
   "name": "sage-10.2",
   "resource_dir": "/ext/jupyter/kernels/sage-10.2"
  },
  "language_info": {
   "codemirror_mode": {
    "name": "ipython",
    "version": 3
   },
   "file_extension": ".py",
   "mimetype": "text/x-python",
   "name": "python",
   "nbconvert_exporter": "python",
   "pygments_lexer": "ipython3",
   "version": "3.11.1"
  }
 },
 "nbformat": 4,
 "nbformat_minor": 4
}