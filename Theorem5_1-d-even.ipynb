{
 "cells": [
  {
   "cell_type": "code",
   "execution_count": 3,
   "id": "54adab",
   "metadata": {
    "collapsed": false
   },
   "outputs": [
   ],
   "source": [
    "load('definitions.sage')\n",
    "load('models_for_twists.sage')\n",
    "load('polynomials.sage')"
   ]
  },
  {
   "cell_type": "markdown",
   "id": "09845a",
   "metadata": {
    "collapsed": false
   },
   "source": [
    "This notebook is the accompaniment for the proof of Theorem 5.2. In particular, we assume that $E/\\mathbb{Q}_2$ is given by a normal model. Let $E^d$ denote the quadratic twist of $E$ by $d$ where $v(d)=1$. We take the following as a Weierstrass model for $E^d$:\n",
    "$$E^d:y^2 = x^3 + (a_1^2d+4a_2 d)x^2 + (8a_1 a_3 d^2+16a_4 d^2)x + (16 a_3^2 d^3+64 a_6 d^3). $$ \n",
    "We note that this Weierstrass model corresponds to Ed in our code in 'definitions.sage'.\n",
    "\n",
    "In what follows, we do a case-by-case analysis corresponding to a fixed $R=\\operatorname{typ}(E)$. The proof of our theorem relies on the consideration of various Weierstrass models $F_{R,j}^1$ which are $\\mathbb{Q}_2$-isomorphic to $E^d$. For each $R$, the models used in the article are found in the accompanying file 'models_for_twists.sage'. We note that in the code, 'F1I0_i' corresponds to $F^1_{{\\rm I}_0,j}$. Our case-by-case analysis will be ordered based on the rows in Table 8. Specifically, we verify below the claims made in the table that lead to the deduction of $\\mathcal{V}(F_{R,j}^{1})$. In each case, we consider the Weierstrass coefficients $a_i^d$ of the model $F_{R,j}^{1}$ being considered in the case. In the code, we write ai^d or aid in place of $a_i^d$. Further, since $v(d)=1$ throughout this notebook, we write $F_{R,j}$ instead of $F_{R,j}^1$.\n",
    "\n",
    "We note that the case numbers below do not necessarily align with those in the proof of Theorem 5.2, since said proof only considers those $R^d=\\operatorname{typ}(E^d)$ that do not uniquely determine the local Tamagawa number $c^d$. When verifying $c^d$ below, we will make reference to what is the corresponding case (or subcase) that considers this situation in the paper. \n",
    "\n",
    "Throughout the proof, we make many references to the model $F_{R,0}$. The Weierstrass coefficients $a_i^d$ are verified in the code below, and are:\n",
    "\n",
    "\\begin{align*}\n",
    "a_1^d=& 0 \\\\\n",
    "a_2^d=& \\left(\\frac{1}{4}\\right) \\cdot d \\cdot (a_{1}^{2} + 4 a_{2}) \\\\\n",
    "a_3^d=& 0 \\\\\n",
    "a_4^d=& \\left(\\frac{1}{2}\\right) \\cdot d^{2} \\cdot (a_{1} a_{3} + 2 a_{4}) \\\\\n",
    "a_6^d=& \\left(\\frac{1}{4}\\right) \\cdot d^{3} \\cdot (a_{3}^{2} + 4 a_{6}) \\\\\n",
    "\\end{align*}\n",
    "\n",
    "In the proof below, we omit reference to the code that verifies the expressions for the Weierstrass coefficients $a_i^d$ of $F_{R,0}$."
   ]
  },
  {
   "cell_type": "code",
   "execution_count": 6,
   "id": "a55eb1",
   "metadata": {
    "collapsed": false
   },
   "outputs": [
    {
     "name": "stdout",
     "output_type": "stream",
     "text": [
      "a1^d= 0\n",
      "a2^d= (1/4) * d * (a1^2 + 4*a2)\n",
      "a3^d= 0\n",
      "a4^d= (1/2) * d^2 * (a1*a3 + 2*a4)\n",
      "a6^d= (1/4) * d^3 * (a3^2 + 4*a6)\n"
     ]
    }
   ],
   "source": [
    "print(ai_twist(F1R0))"
   ]
  },
  {
   "cell_type": "markdown",
   "id": "5c2bb2",
   "metadata": {
    "collapsed": false
   },
   "source": [
    "**Case 1:** Let $R=\\operatorname{typ}(E)=\\rm{I}_0$. Since $E$ is given by a normal model, we have that\n",
    "$$\\mathcal{V}(E)=\\begin{cases}\n",
    "(=0, 0, 2,  1, =0), \\\\\n",
    "(=0, 0, 2,  =0, 1),\\\\\n",
    "( 1, 1,=0,  0, 0).\\\\\n",
    "\\end{cases}$$\n",
    "\n",
    "**In the paper, we only verify the local Tamagawa number $c^d$ of $E^d$. Specifically, subcases 1a and 1b of the paper expand on Subcases 1(i) and 1(ii), respectively.**"
   ]
  },
  {
   "cell_type": "markdown",
   "id": "ff61cc",
   "metadata": {
    "collapsed": false
   },
   "source": [
    "**Subcase 1(i):** Suppose $\\mathcal{V}(E)=(=0, 0, 2,  1,=0)$. We consider the elliptic curve $F_{{\\rm I}_0,1}$.  The code below, verifies that the Weierstrass coefficients of this model are the $a_i^d$ that are given below:\n",
    "\n",
    "\\begin{align*}\n",
    "a_1^d=& 0 \\\\\n",
    "a_2^d=& d \\cdot (25 a_{1}^{2} + 4 a_{2}) \\\\\n",
    "a_3^d=& \\left(8\\right) \\cdot (a_{6} + 1) \\cdot d^{2} \\\\\n",
    "a_4^d=& \\left(8\\right) \\cdot d^{2} \\cdot (26 a_{1}^{4} + 8 a_{1}^{2} a_{2} + a_{1} a_{3} + 2 a_{4}) \\\\\n",
    "a_6^d=& \\left(-16\\right) \\cdot d^{3} \\cdot (-36 a_{1}^{6} - 16 a_{1}^{4} a_{2} - 4 a_{1}^{3} a_{3} - 8 a_{1}^{2} a_{4} + a_{6}^{2} d - a_{3}^{2} + 2 a_{6} d - 4 a_{6} + d) \\\\\n",
    "\\end{align*}\n",
    "\n",
    "We claim that \n",
    "$$\\mathcal{V}(F_{{\\rm I}_0,1})=\\left(  \\infty,=1,6,=6,11\\right).$$ \n",
    "\n",
    "The only cases that don't follow automatically are $a_{4}^{d}$ and $a_{6}^{d}$. For $a_4^d$, observe that $v(26 a_{1}^{4} + 8 a_{1}^{2} a_{2} + a_{1} a_{3} + 2 a_{4})=1$, and thus $v(a_4^d)=6$. Next, for $a_{6}^{d}$, we have that\n",
    "\\begin{align*}\n",
    "\\frac{a_{6}^{d}}{64d^{3}}  & =9a_{1}^{6}+4a_{1}^{4}a_{2}+a_{1}^{3}a_{3}+2a_{1}^{2}a_{4}-\\frac{d}{2}\\cdot\\frac{1+a_{6}^{2}+2a_{6}}{2}+\\frac{a_{3}^{2}}{4}+a_{6}\\\\\n",
    "& \\equiv1-\\frac{d}{2}\\cdot\\frac{1+a_{6}^{2}+2a_{6}}{2}+a_{6}\\ \\operatorname{mod}4\\\\\n",
    "& \\equiv0\\ \\operatorname{mod}4,\n",
    "\\end{align*}\n",
    "where the last congruence follows since\n",
    "$$1+a_{6}^{2}+2a_{6}\\equiv\\left\\{\n",
    "\\begin{align*}\n",
    "4\\ \\operatorname{mod}8 & \\text{ if }a_{6}\\equiv1\\ \\operatorname{mod}4,\\\\\n",
    "0\\ \\operatorname{mod}8 & \\text{ if }a_{6}\\equiv3\\ \\operatorname{mod}4.\n",
    "\\end{align*}\n",
    "\\right.$$\n",
    "**Thus, $\\mathcal{V}(F_{{\\rm I}_0,1})=\\left(  \\infty,=1,6,=6,11\\right)$, by Proposition 3.4, we get $R^d=\\operatorname{typ}(E^d)= \\operatorname{typ}(F_{{\\rm I}_0,1})=\\rm{I}_8^*$.**"
   ]
  },
  {
   "cell_type": "code",
   "execution_count": 7,
   "id": "3134fe",
   "metadata": {
    "collapsed": false
   },
   "outputs": [
    {
     "name": "stdout",
     "output_type": "stream",
     "text": [
      "a1^d= 0\n",
      "a2^d= d * (25*a1^2 + 4*a2)\n",
      "a3^d= (8) * (a6 + 1) * d^2\n",
      "a4^d= (8) * d^2 * (26*a1^4 + 8*a1^2*a2 + a1*a3 + 2*a4)\n",
      "a6^d= (-16) * d^3 * (-36*a1^6 - 16*a1^4*a2 - 4*a1^3*a3 - 8*a1^2*a4 + a6^2*d - a3^2 + 2*a6*d - 4*a6 + d)\n"
     ]
    }
   ],
   "source": [
    "print(ai_twist(F1I0_1))"
   ]
  },
  {
   "cell_type": "markdown",
   "id": "8fd542",
   "metadata": {
    "collapsed": false
   },
   "source": [
    "**Subcase 1(ii):** Suppose $\\mathcal{V}(E)=(=0, 0, 2,  =0,1)$. We consider the elliptic curve $F_{{\\rm I}_0,2}$.  The code below, verifies that the Weierstrass coefficients of this model are the $a_i^d$ that are given below:\n",
    "\n",
    "\\begin{align*}\n",
    "a_1^d=& 0 \\\\\n",
    "a_2^d=& d \\cdot (49 a_{1}^{2} + 4 a_{2}) \\\\\n",
    "a_3^d=& \\left(8\\right) \\cdot a_{6} \\cdot d^{2} \\\\\n",
    "a_4^d=& \\left(8\\right) \\cdot d^{2} \\cdot (100 a_{1}^{4} + 16 a_{1}^{2} a_{2} + a_{1} a_{3} + 2 a_{4}) \\\\\n",
    "a_6^d=& \\left(-16\\right) \\cdot d^{3} \\cdot (-272 a_{1}^{6} - 64 a_{1}^{4} a_{2} - 8 a_{1}^{3} a_{3} - 16 a_{1}^{2} a_{4} + a_{6}^{2} d - a_{3}^{2} - 4 a_{6}) \\\\\n",
    "\\end{align*}\n",
    "\n",
    "We claim that \n",
    "$$\\mathcal{V}(F_{{\\rm I}_0,2})=\\left(  \\infty,=1,6,=6,11\\right).$$ \n",
    "\n",
    "The only cases that don't follow automatically are $a_{4}^{d}$ and $a_{6}^{d}$. For $a_4^d$, observe that $v(100 a_{1}^{4} + 16 a_{1}^{2} a_{2} + a_{1} a_{3} + 2 a_{4})=1$, and thus $v(a_4^d)=6$. Next, for $a_{6}^{d}$, we have that\n",
    "Next, for $a_{6}^{d}$\n",
    "\\begin{align*}\n",
    "\\frac{a_{6}^{d}}{64d^{3}}  & =68a_{1}^{6}+16a_{1}^{4}a_{2}+2a_{1}^{3}a_{3}+4a_{1}^{2}a_{4}+\\frac{a_{3}^{2}-a_{6}^{2}d}{4}+a_{6}\\\\\n",
    "& \\equiv a_{6}-\\frac{a_{6}^{2}d}{4}\\ \\operatorname{mod}4\\\\\n",
    "& \\equiv0\\ \\operatorname{mod}4.\n",
    "\\end{align*}\n",
    "\n",
    "**Thus, $\\mathcal{V}(F_{{\\rm I}_0,1})=\\left(  \\infty,=1,6,=6,11\\right)$, by Proposition 3.4, we get $R^d=\\operatorname{typ}(E^d)= \\operatorname{typ}(F_{{\\rm I}_0,2})=\\rm{I}_8^*$.**"
   ]
  },
  {
   "cell_type": "code",
   "execution_count": 11,
   "id": "b54b42",
   "metadata": {
    "collapsed": false
   },
   "outputs": [
    {
     "name": "stdout",
     "output_type": "stream",
     "text": [
      "a1^d= 0\n",
      "a2^d= d * (49*a1^2 + 4*a2)\n",
      "a3^d= (8) * a6 * d^2\n",
      "a4^d= (8) * d^2 * (100*a1^4 + 16*a1^2*a2 + a1*a3 + 2*a4)\n",
      "a6^d= (-16) * d^3 * (-272*a1^6 - 64*a1^4*a2 - 8*a1^3*a3 - 16*a1^2*a4 + a6^2*d - a3^2 - 4*a6)\n"
     ]
    }
   ],
   "source": [
    "print(ai_twist(F1I0_2))"
   ]
  },
  {
   "cell_type": "markdown",
   "id": "ecff49",
   "metadata": {
    "collapsed": false
   },
   "source": [
    "**Subcase 1(iii):** Suppose $\\mathcal{V}(E)=(1, 1, =0,  0,0)$. We consider the elliptic curve $F_{{\\rm I}_0,0}$.  The code below, verifies that the Weierstrass coefficients of this model are the $a_i^d$ that are given below:\n",
    "\\begin{align*}\n",
    "a_1^d=& 0 \\\\\n",
    "a_2^d=& \\left(\\frac{1}{4}\\right) \\cdot d \\cdot (a_{1}^{2} + 4 a_{2}) \\\\\n",
    "a_3^d=& 0 \\\\\n",
    "a_4^d=& \\left(\\frac{1}{2}\\right) \\cdot d^{2} \\cdot (a_{1} a_{3} + 2 a_{4}) \\\\\n",
    "a_6^d=& \\left(\\frac{1}{4}\\right) \\cdot d^{3} \\cdot (a_{3}^{2} + 4 a_{6}) \\\\\n",
    "\\end{align*}\n",
    "By inspection, $$\\mathcal{V}(F_{{\\rm I}_0,0})=\\left(  \\infty,1,\\infty, 2,=1    \\right).$$ \n",
    "**By Proposition 3.4, we get $R^d=\\operatorname{typ}(E^d)= \\operatorname{typ}(F_{{\\rm I}_0,0})=\\rm{II}$.**"
   ]
  },
  {
   "cell_type": "code",
   "execution_count": 7,
   "id": "e8edd4",
   "metadata": {
    "collapsed": false
   },
   "outputs": [
    {
     "name": "stdout",
     "output_type": "stream",
     "text": [
      "a1^d= 0\n",
      "a2^d= (1/4) * d * (a1^2 + 4*a2)\n",
      "a3^d= 0\n",
      "a4^d= (1/2) * d^2 * (a1*a3 + 2*a4)\n",
      "a6^d= (1/4) * d^3 * (a3^2 + 4*a6)\n"
     ]
    }
   ],
   "source": [
    "print(ai_twist(F1R0))"
   ]
  },
  {
   "cell_type": "markdown",
   "id": "72922e",
   "metadata": {
    "collapsed": false
   },
   "source": [
    "**Case 2:** Let $R=\\operatorname*{typ}(E)=\\rm{I}_{n>0}$. Since $E$ is given by a normal model, we have that\n",
    "\n",
    "$$\\mathcal{V}(E)=\\begin{cases} \\left(  =0,0,=\\frac{n+1}{2},\\frac{n+1}{2},=n\\right)  &\\text{if } v(n)=0,\\\\ \\left(  =0,0,\\frac{n+2}{2},=\\frac{n}{2},n+1\\right) &\\text{if } v(n)\\geq 1.\\end{cases}$$\n",
    "\n",
    "\n",
    "In the paper, we only verify the local Tamagawa number $c^{d}$ of $E^{d}$.\n",
    "The subcases below, make reference to the following polynomials $P_{R,i}$.\n",
    "\\begin{align*}\n",
    "P_{R,1} = & a_1^2 a_3^2 + 2 a_1 a_3^2 + 4 a_2 a_3^2 + 4 a_3^3 - a_3^2 d + a_3^2 + 4 a_3 a_4 + 4a_6 \\\\\n",
    "P_{R,2} = & a_1 a_2 a_3^2 - a_1^2 a_3 a_4 + a_1^3 a_6 - a_3^3 \\\\\n",
    "P_{R,3} = & a_{1}^{2} a_{3}^{2} - 2 a_{1} a_{3}^{2} + 4 a_{2} a_{3}^{2} - 4 a_{3}^{3} - a_{3}^{2} d + a_{3}^{2} - 4 a_{3} a_{4} + 4 a_{6}  \\\\\n",
    "P_{R,4} = & -a_{1}^{3} a_{4}^{2} d + a_{1} a_{2} a_{3}^{2} - a_{1}^{2} a_{3} a_{4} + a_{1}^{3} a_{6} - a_{3}^{3}\n",
    "\\end{align*}\n",
    "\n",
    "We refer to $P_{R,i}$ by PIn_i in our code below.\n",
    "\n",
    "Now suppose $v(n)=0$. Using the assumptions on $\\mathcal{V}(E)$, we deduce that\n",
    "\n",
    "\\begin{align*}\n",
    "\\frac{P_{R,1}}{2^{n+1}}  & =\\frac{a_{3}^{2}}{2^{n+1}}\\left(  a_{1}\n",
    "^{2}+2a_{1}+4a_{2}+4a_{3}-d+1\\right)  +\\frac{4a_{3}a_{4}}{2^{n+1}}\n",
    "+\\frac{2a_{6}}{2^{n}}\\\\\n",
    "& \\equiv-d+\\frac{2a_{6}}{2^{n}}\\\\\n",
    "& \\equiv0\\ \\operatorname{mod}4.\n",
    "\\end{align*}\n",
    "Thus, $v(P_{R,1})\\geq n+3$.\n",
    "\n",
    "Next, suppose $v(n)\\geq1$. Then, the assumptions on $\\mathcal{V}(E)$ imply\n",
    "that each of the terms appearing in $P_{R,2}$ has valuation at least\n",
    "$n+1$. Therefore, $v(P_{R,2})\\geq n+1$."
   ]
  },
  {
   "cell_type": "code",
   "execution_count": 97,
   "id": "c0ffbd",
   "metadata": {
    "collapsed": false
   },
   "outputs": [
    {
     "name": "stdout",
     "output_type": "stream",
     "text": [
      "a1^2*a3^2 + 2*a1*a3^2 + 4*a2*a3^2 + 4*a3^3 - a3^2*d + a3^2 + 4*a3*a4 + 4*a6\n",
      "a1*a2*a3^2 - a1^2*a3*a4 + a1^3*a6 - a3^3\n",
      "a1^2*a3^2 - 2*a1*a3^2 + 4*a2*a3^2 - 4*a3^3 - a3^2*d + a3^2 - 4*a3*a4 + 4*a6\n",
      "-a1^3*a4^2*d + a1*a2*a3^2 - a1^2*a3*a4 + a1^3*a6 - a3^3\n"
     ]
    }
   ],
   "source": [
    "PIn_1 = a1^2*a3^2+2*a1*a3^2+4*a2*a3^2+4*a3^3-a3^2*d+a3^2+4*a3*a4+4*a6\n",
    "PIn_2 = a1*a2*a3^2-a1^2*a3*a4+a1^3*a6-a3^3\n",
    "PIn_3 = a1^2*a3^2 - 2*a1*a3^2 + 4*a2*a3^2 - 4*a3^3 - a3^2*d + a3^2 - 4*a3*a4 + 4*a6\n",
    "PIn_4 = -a1^3*a4^2*d + a1*a2*a3^2 - a1^2*a3*a4 + a1^3*a6 - a3^3\n",
    "\n",
    "print(PIn_1)\n",
    "print(PIn_2)\n",
    "print(PIn_3)\n",
    "print(PIn_4)"
   ]
  },
  {
   "cell_type": "markdown",
   "id": "449aed",
   "metadata": {
    "collapsed": false
   },
   "source": [
    "**Subcase 2(i):** Suppose $v(n)=0$ and that $v(P_{R,1}^1)=n+3$. In particular, $\\mathcal{V}(E)= \\left(  =0,0,=\\frac{n+1}{2},\\frac{n+1}{2},=n\\right)$. We consider the elliptic curve  $F_{{\\rm I}_{n},1}$. The Weierstrass coefficients of this model are the $a_i^d$ that are given below:\n",
    "\\begin{align*}\n",
    "a_1^d=& 0 \\\\\n",
    "a_2^d=& \\left(-1\\right) \\cdot d \\cdot (-a_{1}^{2} - 4 a_{2} + 12 a_{3}) \\\\\n",
    "a_3^d=& \\left(8\\right) \\cdot a_{3} \\cdot d^{2} \\\\\n",
    "a_4^d=& \\left(8\\right) \\cdot d^{2} \\cdot (-a_{1}^{2} a_{3} + a_{1} a_{3} - 4 a_{2} a_{3} + 6 a_{3}^{2} + 2 a_{4}) \\\\\n",
    "a_6^d=& \\left(16\\right) \\cdot d^{3} \\cdot (a_{1}^{2} a_{3}^{2} - 2 a_{1} a_{3}^{2} + 4 a_{2} a_{3}^{2} - 4 a_{3}^{3} - a_{3}^{2} d + a_{3}^{2} - 4 a_{3} a_{4} + 4 a_{6}) \\\\\n",
    "\\end{align*}\n",
    "\n",
    "We claim that\n",
    "$$\\mathcal{V}(F_{I_{n},1})=\\left(  \\infty,=1,=\\frac{n+11}{2},\\frac{n+13}{2},n+11\\right).$$\n",
    "The valuations for $a_{1}^{d},a_{2}^{d},$ and $a_{3}^{d}$ are easily verified.\n",
    "For $a_{4}^{d}$, observe that $v(a_{1}a_{3}-a_{1}^{2}a_{3})\\geq\\frac{n+3}{2}$\n",
    "and $v(-4a_{2}a_{3}+6a_{3}^{2}+2a_{4})\\geq\\frac{n+3}{2}$. Therefore,\n",
    "\\begin{align*}\n",
    "v(a_{4}^{d})  & =v(8d^{2})+v(a_{1}a_{3}-a_{1}^{2}a_{3}-4a_{2}a_{3}+6a_{3}^{2}+2a_{4})\\\\\n",
    "& \\geq5+\\frac{n+3}{2}=\\frac{n+13}{2}.\n",
    "\\end{align*}\n",
    "\n",
    "\n",
    "For $a_{6}^{d}$, the code below verifies that\n",
    "$$\\frac{a_{6}^{d}}{16d^{3}}=P_{R,3}=P_{R,1}-\\left(4a_1 a_3^2 + 8a_3^3 + 8a_3a_4  \\right).$$\n",
    "Since $v( 4a_1 a_3^2 + 8a_3^3 + 8a_3a_4  )=n+3$ and $v(P_{R,1})=n+3$, we conclude that $v(a_{6}^{d})\\geq n+11$.\n",
    "\n",
    "**By Proposition 3.4, we get $R^d=\\operatorname{typ}(E^d)= \\operatorname{typ}(F_{{\\rm I}_n,1})=\\rm{I}_{n+8}^*$.**"
   ]
  },
  {
   "cell_type": "code",
   "execution_count": 91,
   "id": "fda08c",
   "metadata": {
    "collapsed": false
   },
   "outputs": [
    {
     "name": "stdout",
     "output_type": "stream",
     "text": [
      "a1^d= 0\n",
      "a2^d= (-1) * d * (-a1^2 - 4*a2 + 12*a3)\n",
      "a3^d= (8) * a3 * d^2\n",
      "a4^d= (8) * d^2 * (-a1^2*a3 + a1*a3 - 4*a2*a3 + 6*a3^2 + 2*a4)\n",
      "a6^d= (-16) * d^3 * (-a1^2*a3^2 + 2*a1*a3^2 - 4*a2*a3^2 + 4*a3^3 + a3^2*d - a3^2 + 4*a3*a4 - 4*a6)\n",
      "True\n",
      "True\n"
     ]
    }
   ],
   "source": [
    "print(ai_twist(F1In_1))\n",
    "print(F1In_1.a6()/(16*d^3) == PIn_1 - (4*a1*a3^2 + 8*a3^3 + 8*a3*a4))\n",
    "print(F1In_1.a6()/(16*d^3) == PIn_3)"
   ]
  },
  {
   "cell_type": "markdown",
   "id": "44a5cf",
   "metadata": {
    "collapsed": false
   },
   "source": [
    "**Subcase 2(ii):** Suppose $v(n)=0$ and that $v(P_{R,1}^1)\\geq n+4$. In particular, $\\mathcal{V}(E)= \\left(  =0,0,=\\frac{n+1}{2},\\frac{n+1}{2},=n\\right)$. We consider the elliptic curve  $F_{{\\rm I}_{n},2}$. The Weierstrass coefficients of this model are the $a_i^d$ that are given below:\n",
    "\\begin{align*}\n",
    "a_1^d=& 0 \\\\\n",
    "a_2^d=& d \\cdot (a_{1}^{2} + 4 a_{2} + 12 a_{3}) \\\\\n",
    "a_3^d=& \\left(8\\right) \\cdot a_{3} \\cdot d^{2} \\\\\n",
    "a_4^d=& \\left(8\\right) \\cdot d^{2} \\cdot (a_{1}^{2} a_{3} + a_{1} a_{3} + 4 a_{2} a_{3} + 6 a_{3}^{2} + 2 a_{4}) \\\\\n",
    "a_6^d=& \\left(-16\\right) \\cdot d^{3} \\cdot (-a_{1}^{2} a_{3}^{2} - 2 a_{1} a_{3}^{2} - 4 a_{2} a_{3}^{2} - 4 a_{3}^{3} + a_{3}^{2} d - a_{3}^{2} - 4 a_{3} a_{4} - 4 a_{6}) \\\\\n",
    "\\end{align*}\n",
    "\n",
    "We claim that\n",
    "$$\\mathcal{V}(F_{I_{n},2})=\\left(  \\infty,=1,=\\frac{n+11}{2},\\frac{n+13}{2},n+11\\right).$$\n",
    "The valuations for $a_{1}^{d},a_{2}^{d},$ and $a_{3}^{d}$ are easily verified. For $a_{4}^{d}$, observe that $v(a_{1}^{2}a_{3}+a_{1}a_{3})\\geq\\frac{n+3}{2}$\n",
    "and $v(4a_{2}a_{3}+6a_{3}^{2}+2a_{4})\\geq\\frac{n+3}{2}$. Therefore,\n",
    "\\begin{align*}\n",
    "v(a_{4}^{d})  & =v(8d^{2})+v(a_{1}^{2} a_{3} + a_{1} a_{3} + 4 a_{2} a_{3} + 6 a_{3}^{2} + 2 a_{4})\\\\\n",
    "& \\geq5+\\frac{n+3}{2}=\\frac{n+13}{2}.\n",
    "\\end{align*}\n",
    "\n",
    "For $a_{6}^{d}$, the code below verifies that\n",
    "$$\\frac{a_{6}^{d}}{16d^{3}}=P_{R,1}.$$\n",
    "By assumption $v(P_{R,1})\\geq n+4$, from which we conclude that $v(a_{6}^{d})\\geq n+11$.\n",
    "\n",
    "**By Proposition 3.4, we get $R^d=\\operatorname{typ}(E^d)= \\operatorname{typ}(F_{{\\rm I}_n,2})=\\rm{I}_{n+8}^*$.**"
   ]
  },
  {
   "cell_type": "code",
   "execution_count": 18,
   "id": "5acf6b",
   "metadata": {
    "collapsed": false
   },
   "outputs": [
    {
     "name": "stdout",
     "output_type": "stream",
     "text": [
      "a1^d= 0\n",
      "a2^d= d * (a1^2 + 4*a2 + 12*a3)\n",
      "a3^d= (8) * a3 * d^2\n",
      "a4^d= (8) * d^2 * (a1^2*a3 + a1*a3 + 4*a2*a3 + 6*a3^2 + 2*a4)\n",
      "a6^d= (-16) * d^3 * (-a1^2*a3^2 - 2*a1*a3^2 - 4*a2*a3^2 - 4*a3^3 + a3^2*d - a3^2 - 4*a3*a4 - 4*a6)\n",
      "True\n"
     ]
    }
   ],
   "source": [
    "print(ai_twist(F1In_2))\n",
    "print(F1In_2.a6()/(16*d^3) == PIn_1)"
   ]
  },
  {
   "cell_type": "markdown",
   "id": "05bb2d",
   "metadata": {
    "collapsed": false
   },
   "source": [
    "**Subcase 2(iii):** Suppose $v(n)\\ge 1$ and that $v(P_{R,2}^1)=n+1$. In particular, $\\mathcal{V}(E)= \\left(  =0,0,\\frac{n+2}{2},=\\frac{n}{2},n+1 \\right)$. We consider the elliptic curve  $F_{{\\rm I}_{n},3}$. The Weierstrass coefficients of this model are the $a_i^d$ that are given below:\n",
    "\\begin{align*}\n",
    "a_1^d=& 0 \\\\\n",
    "a_2^d=& \\left(-1\\right) \\cdot a_{1}^{-1} \\cdot d \\cdot (-a_{1}^{3} - 4 a_{1} a_{2} + 12 a_{3}) \\\\\n",
    "a_3^d=& \\left(16\\right) \\cdot a_{4} \\cdot d^{2} \\\\\n",
    "a_4^d=& \\left(16\\right) \\cdot a_{1}^{-2} \\cdot d^{2} \\cdot (-2 a_{1} a_{2} a_{3} + a_{1}^{2} a_{4} + 3 a_{3}^{2}) \\\\\n",
    "a_6^d=& \\left(-64\\right) \\cdot a_{1}^{-3} \\cdot d^{3} \\cdot (a_{1}^{3} a_{4}^{2} d - a_{1} a_{2} a_{3}^{2} + a_{1}^{2} a_{3} a_{4} - a_{1}^{3} a_{6} + a_{3}^{3}) \\\\\n",
    "\\end{align*}\n",
    "\n",
    "By assumption $v(a_{1})=0$, and so $F_{I_{n},3}$ is given by an integral Weierstrass model. We claim that\n",
    "$$\\mathcal{V}(F_{I_{n},3})=\\left(  \\infty,=1,\\infty,=\\frac{n+12}{2},n+11\\right).$$\n",
    "It is easily verified that the claim is true, except possibly for $v(a_{6}^{d})$. The code below verifies that\n",
    "$$\\frac{a_{6}^{d}}{64d^{3}a_{1}^{-3}}=P_{R,4}=P_{R,2}-a_{1}^{3}a_{4}^{2}d$$\n",
    "By assumption, $v(P_{R,2})=n+1$. Since $v(a_{1}^{3}a_{4}^{2}d)=n+1$, we conclude that $v(a_{6}^{d})\\geq n+11$, which shows the claim.\n",
    "\n",
    "**By Proposition 3.4, we get $R^d=\\operatorname{typ}(E^d)= \\operatorname{typ}(F_{{\\rm I}_n,3})=\\rm{I}_{n+8}^*$.**"
   ]
  },
  {
   "cell_type": "code",
   "execution_count": 93,
   "id": "ad4289",
   "metadata": {
    "collapsed": false
   },
   "outputs": [
    {
     "name": "stdout",
     "output_type": "stream",
     "text": [
      "a1^d= 0\n",
      "a2^d= (-1) * a1^-1 * d * (-a1^3 - 4*a1*a2 + 12*a3)\n",
      "a3^d= (16) * a4 * d^2\n",
      "a4^d= (16) * a1^-2 * d^2 * (-2*a1*a2*a3 + a1^2*a4 + 3*a3^2)\n",
      "a6^d= (-64) * a1^-3 * d^3 * (a1^3*a4^2*d - a1*a2*a3^2 + a1^2*a3*a4 - a1^3*a6 + a3^3)\n",
      "True\n",
      "True\n"
     ]
    }
   ],
   "source": [
    "print(ai_twist(F1In_3))\n",
    "print(F1In_3.a6()/(64*d^3*a1^(-3)) == PIn_2 -a1^3*a4^2*d)\n",
    "print(F1In_3.a6()/(64*d^3*a1^(-3)) == PIn_4)"
   ]
  },
  {
   "cell_type": "markdown",
   "id": "932252",
   "metadata": {
    "collapsed": false
   },
   "source": [
    "**Subcase 2(iv):** Suppose $v(n)\\ge 1$ and that $v(P_{R,2}^1)\\geq n+2$. In particular, $\\mathcal{V}(E)= \\left(  =0,0,\\frac{n+2}{2},=\\frac{n}{2},n+1 \\right)$. We consider the elliptic curve  $F_{{\\rm I}_{n},4}$. The Weierstrass coefficients of this model are the $a_i^d$ that are given below:\n",
    "\\begin{align*}\n",
    "a_1^d=& 0 \\\\\n",
    "a_2^d=& \\left(-1\\right) \\cdot a_{1}^{-1} \\cdot d \\cdot (-a_{1}^{3} - 4 a_{1} a_{2} + 12 a_{3}) \\\\\n",
    "a_3^d=& 0 \\\\\n",
    "a_4^d=& \\left(16\\right) \\cdot a_{1}^{-2} \\cdot d^{2} \\cdot (-2 a_{1} a_{2} a_{3} + a_{1}^{2} a_{4} + 3 a_{3}^{2}) \\\\\n",
    "a_6^d=& \\left(64\\right) \\cdot a_{1}^{-3} \\cdot d^{3} \\cdot (a_{1} a_{2} a_{3}^{2} - a_{1}^{2} a_{3} a_{4} + a_{1}^{3} a_{6} - a_{3}^{3}) \\\\\n",
    "\\end{align*}\n",
    "\n",
    "By assumption $v(a_{1})=0$, and so $F_{\\rm{I}_{n},4}$ is given by an integral Weierstrass model. We claim that\n",
    "$$\\mathcal{V}(F_{\\rm{I}_{n},4})=\\left(  \\infty,=1,\\infty,=\\frac{n+12}{2},n+11\\right).$$\n",
    "It is easily verified that the claim is true, except possibly for $v(a_{6}^{d})$. The code below verifies that\n",
    "$$\\frac{a_{6}^{d}}{64d^{3}a_{1}^{-3}}=P_{R,2}.$$\n",
    "By assumption, $v(P_{R,2})\\geq n+2$, and thus $v(a_{6}^{d})\\geq n+11$.\n",
    "\n",
    "**By Proposition 3.4, we get $R^d=\\operatorname{typ}(E^d)= \\operatorname{typ}(F_{{\\rm I}_n,4})=\\rm{I}_{n+8}^*$.**"
   ]
  },
  {
   "cell_type": "code",
   "execution_count": 20,
   "id": "5e748f",
   "metadata": {
    "collapsed": false
   },
   "outputs": [
    {
     "name": "stdout",
     "output_type": "stream",
     "text": [
      "a1^d= 0\n",
      "a2^d= (-1) * a1^-1 * d * (-a1^3 - 4*a1*a2 + 12*a3)\n",
      "a3^d= 0\n",
      "a4^d= (16) * a1^-2 * d^2 * (-2*a1*a2*a3 + a1^2*a4 + 3*a3^2)\n",
      "a6^d= (64) * a1^-3 * d^3 * (a1*a2*a3^2 - a1^2*a3*a4 + a1^3*a6 - a3^3)\n",
      "True\n"
     ]
    }
   ],
   "source": [
    "print(ai_twist(F1In_4))\n",
    "print(F1In_4.a6()/(64*d^3*a1^(-3)) ==PIn_2  )"
   ]
  },
  {
   "cell_type": "markdown",
   "id": "1492af",
   "metadata": {
    "collapsed": false
   },
   "source": [
    "**Case 3:** Let $R=\\operatorname{typ}(E)=\\rm{II}$, so that \n",
    "$$\\mathcal{V}(E)=(1,1,1,1,=1).$$\n",
    "\n",
    "In the paper, we only verify the local Tamagawa number $c^{d}$ of $E^{d}$. The subcases below, make reference to two polynomials, namely:\n",
    "\\begin{align*}\n",
    "P_{R,1}^{1} = & a_3^2 + 4a_6 - 4d\\\\\n",
    "P_{R,2}^{1}= & 4a_1^2 + 4a_1 a_3 + a_3^2 + 16a_2 + 8a_4 + 4a_6 - 4d + 32\n",
    "\\end{align*}\n",
    "\n",
    "For easy reference, we refer to $P_{R,1}^{1}$ and $P_{R,2}^{1}$ by PII_1 and PII_2, respectively, in our code below.\n",
    "\n",
    "We now consider the cases in order of appearance in Table 8. \n"
   ]
  },
  {
   "cell_type": "code",
   "execution_count": 10,
   "id": "6dd80c",
   "metadata": {
    "collapsed": false
   },
   "outputs": [
    {
     "name": "stdout",
     "output_type": "stream",
     "text": [
      "a3^2 + 4*a6 - 4*d\n",
      "4*a1^2 + 4*a1*a3 + a3^2 + 16*a2 + 8*a4 + 4*a6 - 4*d + 32\n"
     ]
    }
   ],
   "source": [
    "PII_1 = a3^2 + 4*a6 - 4*d\n",
    "PII_2 = 4*a1^2 + 4*a1*a3 + a3^2 + 16*a2 + 8*a4 + 4*a6 - 4*d + 32\n",
    "print(PII_1)\n",
    "print(PII_2)"
   ]
  },
  {
   "cell_type": "markdown",
   "id": "241755",
   "metadata": {
    "collapsed": false
   },
   "source": [
    "**Case 3\\(i\\):** Suppose $v(a_{3})=1$. So we have $\\mathcal{V}(E)=(1, 1, =1, 1,=1)$. We consider the elliptic curve  $F_{{\\rm II},0}$. The Weierstrass coefficients of this model are the $a_i^d$ that are given below:\n",
    "\\begin{align*}\n",
    "a_1^d=& 0 \\\\\n",
    "a_2^d=& \\left(\\frac{1}{4}\\right) \\cdot d \\cdot (a_{1}^{2} + 4 a_{2}) \\\\\n",
    "a_3^d=& 0 \\\\\n",
    "a_4^d=& \\left(\\frac{1}{2}\\right) \\cdot d^{2} \\cdot (a_{1} a_{3} + 2 a_{4}) \\\\\n",
    "a_6^d=& \\left(\\frac{1}{4}\\right) \\cdot d^{3} \\cdot (a_{3}^{2} + 4 a_{6}) \\\\\n",
    "\\end{align*}\n",
    "\n",
    "By inspection,\n",
    "\n",
    "$$\\mathcal{V}(F_{{\\rm II},0})=(\\infty, 1, \\infty, 3,=3).$$ \n",
    "\n",
    "**By Proposition 3.4, we get $R^d=\\operatorname{typ}(E^d)=\\rm{I}_0^*$.**"
   ]
  },
  {
   "cell_type": "code",
   "execution_count": 8,
   "id": "df33e7",
   "metadata": {
    "collapsed": false
   },
   "outputs": [
    {
     "name": "stdout",
     "output_type": "stream",
     "text": [
      "a1^d= 0\n",
      "a2^d= (1/4) * d * (a1^2 + 4*a2)\n",
      "a3^d= 0\n",
      "a4^d= (1/2) * d^2 * (a1*a3 + 2*a4)\n",
      "a6^d= (1/4) * d^3 * (a3^2 + 4*a6)\n"
     ]
    }
   ],
   "source": [
    "print(ai_twist(F1R0))"
   ]
  },
  {
   "cell_type": "markdown",
   "id": "9d371c",
   "metadata": {
    "collapsed": false
   },
   "source": [
    "**Case 3\\(ii\\):** Suppose $v(a_{3})\\ge 2$ and $v(a_1)=v(a_4)=1$. Then $\\mathcal{V}(E)=(=1, 1, 2, =1,=1)$. We consider the elliptic curve  $F_{{\\rm II},1}$. The Weierstrass coefficients of this model are the $a_i^d$ that are given below:\n",
    "\\begin{align*}\n",
    "a_1^d=& 0 \\\\\n",
    "a_2^d=& \\left(\\frac{1}{4}\\right) \\cdot d \\cdot (a_{1}^{2} + 4 a_{2}) \\\\\n",
    "a_3^d=& d^{3} \\\\\n",
    "a_4^d=& \\left(\\frac{1}{2}\\right) \\cdot d^{2} \\cdot (a_{1} a_{3} + 2 a_{4}) \\\\\n",
    "a_6^d=& \\left(-\\frac{1}{4}\\right) \\cdot d^{3} \\cdot (d^{3} - a_{3}^{2} - 4 a_{6}) \\\\\n",
    "\\end{align*}\n",
    "\n",
    "By inspection,\n",
    "\n",
    "$$\\mathcal{V}(F_{{\\rm II},1})=(\\infty, =1,=3, =3,5).$$ \n",
    "\n",
    "**By Proposition 3.4, we get $R^d=\\operatorname{typ}(E^d)=\\rm{I}_2^*$.**\n"
   ]
  },
  {
   "cell_type": "code",
   "execution_count": 23,
   "id": "e8ba33",
   "metadata": {
    "collapsed": false
   },
   "outputs": [
    {
     "name": "stdout",
     "output_type": "stream",
     "text": [
      "a1^d= 0\n",
      "a2^d= (1/4) * d * (a1^2 + 4*a2)\n",
      "a3^d= d^3\n",
      "a4^d= (1/2) * d^2 * (a1*a3 + 2*a4)\n",
      "a6^d= (-1/4) * d^3 * (d^3 - a3^2 - 4*a6)\n"
     ]
    }
   ],
   "source": [
    "print(ai_twist(F1II_1))"
   ]
  },
  {
   "cell_type": "markdown",
   "id": "85eb64",
   "metadata": {
    "collapsed": false
   },
   "source": [
    "**Case 3\\(iii\\):** Suppose $v(a_{3})\\ge 2$, $v(a_1)=1$, $v(a_4)\\ge 2$, and $v(P_{\\rm{II},1}^1)=4$. Then $\\mathcal{V}(E)=(=1, 1, 2, 2,=1)$. We consider the elliptic curve  $F_{{\\rm II},2}$. The Weierstrass coefficients of this model are the $a_i^d$ that are given below:\n",
    "\\begin{align*}\n",
    "a_1^d=& 0 \\\\\n",
    "a_2^d=& \\left(\\frac{1}{4}\\right) \\cdot d \\cdot (a_{1}^{2} + 4 a_{2} + 24) \\\\\n",
    "a_3^d=& \\left(2\\right) \\cdot d^{2} \\\\\n",
    "a_4^d=& \\left(\\frac{1}{2}\\right) \\cdot d^{2} \\cdot (2 a_{1}^{2} + a_{1} a_{3} + 8 a_{2} + 2 a_{4} + 24) \\\\\n",
    "a_6^d=& \\left(-\\frac{1}{4}\\right) \\cdot d^{3} \\cdot (-4 a_{1}^{2} - 4 a_{1} a_{3} - a_{3}^{2} - 16 a_{2} - 8 a_{4} - 4 a_{6} + 4 d - 32) \\\\\n",
    "\\end{align*}\n",
    "\n",
    "We claim that\n",
    "\n",
    "$$\\mathcal{V}(F_{{\\rm II},2})=(\\infty, =1, =3, 4 , 6).$$ \n",
    "\n",
    "With the exeption of $a_6^d$, it is easily verified that the valuations are as claimed. For $a_6^d$, the code below verifies that\n",
    "\\begin{align*}\n",
    "\\frac{4a_6^d}{d^3}=& P_{II,2}^1 \\\\\n",
    "=&  P_{II,1}^1 +  4a_1^2 + 4a_1 a_3 + 16 a_2 + 8a_4 + 32 \\\\\n",
    "\\end{align*}\n",
    "\n",
    "Since $v(P_{\\rm{II},1}^1)=4$ and $v(4a_1^2 + 4a_1 a_3 + 16 a_2 + 8a_4 + 32) = 4$, we conclude that $v(a_6^d) \\ge 6$.\n",
    "\n",
    "**By Proposition 3.4, we get $R^d=\\operatorname{typ}(E^d)=\\rm{I}_3^*$.**"
   ]
  },
  {
   "cell_type": "code",
   "execution_count": 11,
   "id": "c054ce",
   "metadata": {
    "collapsed": false
   },
   "outputs": [
    {
     "name": "stdout",
     "output_type": "stream",
     "text": [
      "a1^d= 0\n",
      "a2^d= (1/4) * d * (a1^2 + 4*a2 + 24)\n",
      "a3^d= (2) * d^2\n",
      "a4^d= (1/2) * d^2 * (2*a1^2 + a1*a3 + 8*a2 + 2*a4 + 24)\n",
      "a6^d= (-1/4) * d^3 * (-4*a1^2 - 4*a1*a3 - a3^2 - 16*a2 - 8*a4 - 4*a6 + 4*d - 32)\n",
      "True\n",
      "True\n"
     ]
    }
   ],
   "source": [
    "print(ai_twist(F1II_2))\n",
    "print(4*F1II_2.a6()/d^3 == PII_2)\n",
    "print(PII_2 == PII_1 + 4*a1^2 + 4*a1*a3 + 16*a2 + 8*a4 + 32 )"
   ]
  },
  {
   "cell_type": "markdown",
   "id": "383aa4",
   "metadata": {
    "collapsed": false
   },
   "source": [
    "**Case 3\\(iv\\):** Suppose $v(a_{3})\\ge 2$, $v(a_1)=1$, $v(a_4)\\ge 2$, and $v(P_{\\rm{II},1}^1)\\ge 5$. Then $\\mathcal{V}(E)=(=1, 1, 2, 2,=1)$. We consider the elliptic curve  $F_{{\\rm II},3}$. The Weierstrass coefficients of this model are the $a_i^d$ that are given below:\n",
    "\\begin{align*}\n",
    "a_1^d=& (a_{1} - d) \\\\\n",
    "a_2^d=& \\left(-\\frac{1}{4}\\right) \\cdot (-a_{1}^{2} d + a_{1}^{2} - 2 a_{1} d - 4 a_{2} d + d^{2}) \\\\\n",
    "a_3^d=& \\left(2\\right) \\cdot d^{2} \\\\\n",
    "a_4^d=& \\left(\\frac{1}{2}\\right) \\cdot d^{2} \\cdot (a_{1} a_{3} - 2 a_{1} + 2 a_{4} + 2 d) \\\\\n",
    "a_6^d=& \\left(-\\frac{1}{4}\\right) \\cdot d^{3} \\cdot (-a_{3}^{2} - 4 a_{6} + 4 d) \\\\\n",
    "\\end{align*}\n",
    "\n",
    "We claim that\n",
    "\n",
    "$$\\mathcal{V}(F_{{\\rm II},3})=(2, =1, =3, 4 , 6).$$ \n",
    "\n",
    "With the exeption of $a_6^d$, it is easily verified that the valuations are as claimed. The code below verifies that\n",
    "$$\\frac{4a_6^d}{d^3}= P_{II,1}^1. $$\n",
    "Thus, $v(a_6^d) \\ge 6$.\n",
    "\n",
    "**By Proposition 3.4, we get $R^d=\\operatorname{typ}(E^d)=\\rm{I}_3^*$.**"
   ]
  },
  {
   "cell_type": "code",
   "execution_count": 13,
   "id": "55b12b",
   "metadata": {
    "collapsed": false
   },
   "outputs": [
    {
     "name": "stdout",
     "output_type": "stream",
     "text": [
      "a1^d= a1 - d\n",
      "a2^d= (-1/4) * (-a1^2*d + a1^2 - 2*a1*d - 4*a2*d + d^2)\n",
      "a3^d= (2) * d^2\n",
      "a4^d= (1/2) * d^2 * (a1*a3 - 2*a1 + 2*a4 + 2*d)\n",
      "a6^d= (-1/4) * d^3 * (-a3^2 - 4*a6 + 4*d)\n",
      "True\n"
     ]
    }
   ],
   "source": [
    "print(ai_twist(F1II_3))\n",
    "print(4*F1II_3.a6()/d^3 == PII_1)"
   ]
  },
  {
   "cell_type": "markdown",
   "id": "f151f1",
   "metadata": {
    "collapsed": false
   },
   "source": [
    "**Case 3\\(v\\):** Suppose $v(a_{3})\\ge 2$, $v(a_1)\\ge 2$, and $v(a_4) = 1$. Then $\\mathcal{V}(E)=(2, 1, 2, =1,=1)$. We consider the elliptic curve  $F_{{\\rm II},1}$. The Weierstrass coefficients of this model are the $a_i^d$ that are given below:\n",
    "\\begin{align*}\n",
    "a_1^d=& 0 \\\\\n",
    "a_2^d=& \\left(\\frac{1}{4}\\right) \\cdot d \\cdot (a_{1}^{2} + 4 a_{2}) \\\\\n",
    "a_3^d=& d^{3} \\\\\n",
    "a_4^d=& \\left(\\frac{1}{2}\\right) \\cdot d^{2} \\cdot (a_{1} a_{3} + 2 a_{4}) \\\\\n",
    "a_6^d=& \\left(-\\frac{1}{4}\\right) \\cdot d^{3} \\cdot (d^{3} - a_{3}^{2} - 4 a_{6}) \\\\\n",
    "\\end{align*}\n",
    "\n",
    "We claim that\n",
    "\n",
    "$$\\mathcal{V}(F_{{\\rm II},1})=\\left(\\infty,2,=3,=3,5\\right) $$\n",
    "\n",
    "The only cases that do not follow from direct observation are $v(a_2^d)$ which follows from noting that $a_1^2+4a_2 \\equiv 0 \\mod 4$. As for  $v(a_4^d)$ we see that $a_{1} a_{3} + 2 a_{4} \\equiv 0 \\mod 4$ but  $a_{1} a_{3} + 2 a_{4} \\not\\equiv 0 \\mod 8$ since $v(a_4)=1$. Now for $v(a_6^d)$ see that $v(d^{3} - a_{3}^{2} - 4 a_{6})\\ge 4$.\n",
    "\n",
    "\n",
    "**By Propostion 3.4, we conclude that $R^d=\\operatorname{typ}(E^d)=\\rm{III}^*$ and $c^d=2$.**\n"
   ]
  },
  {
   "cell_type": "code",
   "execution_count": 6,
   "id": "10dcde",
   "metadata": {
    "collapsed": false
   },
   "outputs": [
    {
     "name": "stdout",
     "output_type": "stream",
     "text": [
      "a1^d= 0\n",
      "a2^d= (1/4) * d * (a1^2 + 4*a2)\n",
      "a3^d= d^3\n",
      "a4^d= (1/2) * d^2 * (a1*a3 + 2*a4)\n",
      "a6^d= (-1/4) * d^3 * (d^3 - a3^2 - 4*a6)\n"
     ]
    }
   ],
   "source": [
    "print(ai_twist(F1II_1))"
   ]
  },
  {
   "cell_type": "markdown",
   "id": "64e812",
   "metadata": {
    "collapsed": false
   },
   "source": [
    "**Case 3\\(vi\\):** Suppose $v(a_{3})\\ge 2$, $v(a_1)\\ge 2$, $v(a_4) \\ge 2$, and $v(a_3^2 + 4a_6 - 4d)=4$. Then $\\mathcal{V}(E)=(2, 1, 2, 2,=1)$. We consider the elliptic curve  $F_{{\\rm II},1}$. The Weierstrass coefficients of this model are the $a_i^d$ that are given below:\n",
    "\\begin{align*}\n",
    "a_1^d=& 0 \\\\\n",
    "a_2^d=& \\left(\\frac{1}{4}\\right) \\cdot d \\cdot (a_{1}^{2} + 4 a_{2}) \\\\\n",
    "a_3^d=& d^{3} \\\\\n",
    "a_4^d=& \\left(\\frac{1}{2}\\right) \\cdot d^{2} \\cdot (a_{1} a_{3} + 2 a_{4}) \\\\\n",
    "a_6^d=& \\left(-\\frac{1}{4}\\right) \\cdot d^{3} \\cdot (d^{3} - a_{3}^{2} - 4 a_{6}) \\\\\n",
    "\\end{align*}\n",
    "\n",
    "We claim that\n",
    "\n",
    "$$\\mathcal{V}(F_{{\\rm II},1})=\\left( \\infty,2,=3,4,=5\\right) $$\n",
    "\n",
    "The only cases that do not follow from direct observation are $v(a_2^d)$ which follows from noting that $a_1^2+4a_2 \\equiv 0 \\mod 4$. As for  $v(a_4^d)$ we see that  $a_{1} a_{3} + 2 a_{4} \\equiv 0 \\mod 8$. Now $v(a_6^d)=5$ since $v(d^{3} - a_{3}^{2} - 4 a_{6})=4$.\n",
    "\n",
    "\n",
    "**By Propostion 3.4, we conclude that $R^d=\\operatorname{typ}(E^d)=\\rm{II}^*$ and and $c^d=1$.**"
   ]
  },
  {
   "cell_type": "markdown",
   "id": "40163b",
   "metadata": {
    "collapsed": false
   },
   "source": [
    "**Case 3\\(vii\\):** Suppose $v(a_{3})\\ge 2$, $v(a_1)\\ge 2$, $v(a_4) \\ge 2$, and $v(a_3^2 + 4a_6 - 4d)\\ge 5$. Then $\\mathcal{V}(E)=(2, 1, 2, 2,=1)$. We consider the elliptic curve  $F_{{\\rm II},4}$. The Weierstrass coefficients of this model are the $a_i^d$ that are given below:\n",
    "\\begin{align*}\n",
    "a_1^d=& 0 \\\\\n",
    "a_2^d=& \\left(\\frac{1}{16}\\right) \\cdot d \\cdot (3 a_{2}^{3} + a_{1}^{2} + 4 a_{2}) \\\\\n",
    "a_3^d=& \\left(\\frac{1}{8}\\right) \\cdot d^{3} \\\\\n",
    "a_4^d=& \\left(\\frac{1}{256}\\right) \\cdot d^{2} \\cdot (3 a_{2}^{6} + 2 a_{1}^{2} a_{2}^{3} + 8 a_{2}^{4} + 8 a_{1} a_{3} + 16 a_{4}) \\\\\n",
    "a_6^d=& \\left(-\\frac{1}{4096}\\right) \\cdot d^{3} \\cdot (-a_{2}^{9} - a_{1}^{2} a_{2}^{6} - 4 a_{2}^{7} - 8 a_{1} a_{2}^{3} a_{3} - 16 a_{2}^{3} a_{4} + 16 d^{3} - 16 a_{3}^{2} - 64 a_{6}) \\\\\n",
    "\\end{align*}\n",
    "\n",
    "We claim that\n",
    "\n",
    "$$\\mathcal{V}(F_{{\\rm II},4})=\\left( \\infty,1,=0,0,0\\right) $$\n",
    "\n",
    "The only cases that do not follow from direct observation are $v(a_2^d)$ which follows from noting that $3 a_{2}^{3} + a_{1}^{2} + 4 a_{2} \\equiv 0 \\mod 16$. \n",
    "\n",
    "As for  $v(a_4^d)$ we see that  $3 a_{2}^{6} + 2 a_{1}^{2} a_{2}^{3} + 8 a_{2}^{4} + 8 a_{1} a_{3} + 16 a_{4} \\equiv 0 \\mod 2^6$. \n",
    "\n",
    "For $v(a_6^d)$ see that $-a_{2}^{9} - a_{1}^{2} a_{2}^{6} - 4 a_{2}^{7} - 8 a_{1} a_{2}^{3} a_{3} - 16 a_{2}^{3} a_{4} + 16( d^{3} - a_{3}^{2} - 4 a_{6}) \\equiv 0 \\mod 2^9$ since $v(a_3^2+4a_6-d^3)\\ge5$.\n",
    "\n",
    "\n",
    "\n",
    "**By Propostion 3.4, we conclude that $R^d=\\operatorname{typ}(E^d)=\\rm{I}_0$ and $c^d=1$.**"
   ]
  },
  {
   "cell_type": "code",
   "execution_count": 9,
   "id": "20e37e",
   "metadata": {
    "collapsed": false
   },
   "outputs": [
    {
     "name": "stdout",
     "output_type": "stream",
     "text": [
      "a1^d= 0\n",
      "a2^d= (1/16) * d * (3*a2^3 + a1^2 + 4*a2)\n",
      "a3^d= (1/8) * d^3\n",
      "a4^d= (1/256) * d^2 * (3*a2^6 + 2*a1^2*a2^3 + 8*a2^4 + 8*a1*a3 + 16*a4)\n",
      "a6^d= (-1/4096) * d^3 * (-a2^9 - a1^2*a2^6 - 4*a2^7 - 8*a1*a2^3*a3 - 16*a2^3*a4 + 16*d^3 - 16*a3^2 - 64*a6)\n"
     ]
    }
   ],
   "source": [
    "print(ai_twist(F1II_4))"
   ]
  },
  {
   "cell_type": "markdown",
   "id": "01ce48",
   "metadata": {
    "collapsed": false
   },
   "source": [
    "**Case 4:** Let $R=\\operatorname{typ}(E)=\\rm{III}$. Then $\\mathcal{V}(E)=(1,1,1,=1,2)$. We now consider the cases in order of appearance in Table 8. For each case, we will consider the model $F_{\\rm{III},0}$ which is $\\mathbb{Q}_2$-isomorphic to $E^d$. The Weierstrass coefficients $a_i^d$ of $F_{\\rm{III},0}$ are verified at the start of this notebook, and are listed below for ease of reference.\n",
    "\\begin{align*}\n",
    "a_1^d=& 0 \\\\\n",
    "a_2^d=& \\left(\\frac{1}{4}\\right) \\cdot d \\cdot (a_{1}^{2} + 4 a_{2}) \\\\\n",
    "a_3^d=& 0 \\\\\n",
    "a_4^d=& \\left(\\frac{1}{2}\\right) \\cdot d^{2} \\cdot (a_{1} a_{3} + 2 a_{4}) \\\\\n",
    "a_6^d=& \\left(\\frac{1}{4}\\right) \\cdot d^{3} \\cdot (a_{3}^{2} + 4 a_{6}) \\\\\n",
    "\\end{align*}"
   ]
  },
  {
   "cell_type": "code",
   "execution_count": 15,
   "id": "e4851b",
   "metadata": {
    "collapsed": false
   },
   "outputs": [
    {
     "name": "stdout",
     "output_type": "stream",
     "text": [
      "a1^d= 0\n",
      "a2^d= (1/4) * d * (a1^2 + 4*a2)\n",
      "a3^d= 0\n",
      "a4^d= (1/2) * d^2 * (a1*a3 + 2*a4)\n",
      "a6^d= (1/4) * d^3 * (a3^2 + 4*a6)\n"
     ]
    }
   ],
   "source": [
    "print(ai_twist(F1R0))"
   ]
  },
  {
   "cell_type": "markdown",
   "id": "66aa19",
   "metadata": {
    "collapsed": false
   },
   "source": [
    "**Case 4\\(i\\):**  Suppose $v(a_{3})=1$. So we have $\\mathcal{V}(E)=(1, 1, =1, =1,2)$ . We consider the elliptic curve $F_{{\\rm III},0}$ , which is isomorphic to $E^d$ .\n",
    "\n",
    "It is easily verified that\n",
    "\n",
    "$$\\mathcal{V}(F_{{\\rm III},0})=(\\infty,1,\\infty,3,=3).$$\n",
    "\n",
    "\n",
    "**By Propostion 3.4, we conclude that $R^d=\\operatorname{typ}(E^d)=\\rm{I}_0^*$.**\n",
    "\n",
    "**Case 4\\(ii\\):** Suppose $v(a_{3})\\ge2$ and $v(a_{1})=1$. So we have $\\mathcal{V}(E)=(=1, 1, 2, =1,2)$. We consider the elliptic curve $F_{{\\rm III},0}$, which is isomorphic to $E^d$. It is easily verified that\n",
    "\n",
    "$$\\mathcal{V}(F_{{\\rm III},0})=\\left(\\infty,=1,\\infty,=3,5\\right).$$\n",
    "\n",
    "**By Propostion 3.4, we conclude that $R^d=\\operatorname{typ}(E^d)=\\rm{I}_2^*$.**\n",
    "\n",
    "**Case 4\\(iii\\):** Suppose $v(a_{3})\\ge2$ and $v(a_{1})\\ge 2$. So we have $\\mathcal{V}(E)=(2, 1, 2, =1,2)$. We consider the elliptic curve $F_{{\\rm III},0}$, which is isomorphic to $E^d$. It is easily verified that\n",
    "$$\\mathcal{V}_{2}(F_{{\\rm III},0})=\\left(\\infty,2,\\infty,=3,5\\right).$$\n",
    "\n",
    "**By Propostion 3.4, we conclude that $R^d=\\operatorname{typ}(E^d)=\\rm{III}^*$.**"
   ]
  },
  {
   "cell_type": "markdown",
   "id": "67f309",
   "metadata": {
    "collapsed": false
   },
   "source": [
    "**Case 5:** Let $R=\\operatorname{typ}(E)=\\rm{IV}$. Then $\\mathcal{V}(E)=\\left(  1,1,=1,2,2\\right)$. We consider the model $F_{\\rm{IV},0}$ which is $\\mathbb{Q}_2$-isomorphic to $E^d$. The Weierstrass coefficients $a_i^d$ of $F_{\\rm{IV},0}$ are:\n",
    "\\begin{align*}\n",
    "a_1^d=& 0 \\\\\n",
    "a_2^d=& \\left(\\frac{1}{4}\\right) \\cdot d \\cdot (a_{1}^{2} + 4 a_{2}) \\\\\n",
    "a_3^d=& 0 \\\\\n",
    "a_4^d=& \\left(\\frac{1}{2}\\right) \\cdot d^{2} \\cdot (a_{1} a_{3} + 2 a_{4}) \\\\\n",
    "a_6^d=& \\left(\\frac{1}{4}\\right) \\cdot d^{3} \\cdot (a_{3}^{2} + 4 a_{6}) \\\\\n",
    "\\end{align*}\n",
    "\n",
    "It is easily verified that\n",
    "\n",
    "$$\\mathcal{V}(F_{{\\rm IV},0})=(\\infty,1,\\infty,3,=3).$$\n",
    "\n",
    "**By Propostion 3.4, we conclude that $R^d=\\operatorname{typ}(E^d)=\\rm{I}_0^*$.**\n",
    "\n"
   ]
  },
  {
   "cell_type": "markdown",
   "id": "c3ddf8",
   "metadata": {
    "collapsed": false
   },
   "source": [
    "**Case 6:** Let $R=\\operatorname{typ}(E)=\\rm{I}_0^*$ so that $\\mathcal{V}(E)=\\left(  1,1,2,3,=3\\right)$. By Corollary 3.6,\n",
    "$$c=\\begin{cases} 1 &v(a_{2})=1,\\\\ 2 &v(a_{2})\\ge 2.\\end{cases}$$\n",
    "\n",
    "In the paper, we only verify the local Tamagawa number $c^{d}$ of $E^{d}$. The subcases below, make reference to several polynomials, namely:\n",
    "\\begin{align*}\n",
    "P_{R,1}^{1} = & a_{1}^{2}d^{2}-4a_{2}^{2}d+2a_{1}a_{3}d+4a_{2}d^{2}+4d^{3}+a_{3}^{2}+4a_{4}d+4a_{6} \\\\\n",
    "P_{R,2}^{1}= & 4a_{1}^{2}d^{2}+4a_{1}a_{3}d+16a_{2}d^{2}+32d^{3}+a_{3}^{2}+8a_{4}d+4a_{6}-16d \\\\\n",
    "P_{R,3}^{1}= & a_{3}^{2}+4a_{6}-16d \\\\\n",
    "P_{R,4}^{1}= & a_{3}^{2}d+4a_{6}d-64\n",
    "\\end{align*}\n",
    "\n",
    "For easy reference, we refer to $P_{R,j}^{1}$ by PI0star_j in our code below.\n",
    "\n",
    "We now consider the cases in order of appearance in Table 8. \n",
    "\n"
   ]
  },
  {
   "cell_type": "code",
   "execution_count": 24,
   "id": "179db1",
   "metadata": {
    "collapsed": false
   },
   "outputs": [
   ],
   "source": [
    "PI0star_1 = a1^2 * d^2-4*a2^2*d+2*a1*a3*d+4*a2*d^2+4*d^3+a3^2+4*a4*d+4*a6\n",
    "PI0star_2 = 4*a1^2*d^2+4*a1*a3*d+16*a2*d^2+32*d^3+a3^2+8*a4*d+4*a6-16*d\n",
    "PI0star_3 = a3^2+4*a6-16*d\n",
    "PI0star_4 = a3^2*d+4*a6*d-64"
   ]
  },
  {
   "cell_type": "markdown",
   "id": "d41f7b",
   "metadata": {
    "collapsed": false
   },
   "source": [
    "**Case 6\\(i\\):**  Suppose $v(a_{1})=1$ and $v(a_3)=2$. Thus, $\\mathcal{V}(E)=(=1, 1, =2, 3,=3)$. We consider the model $F_{\\rm{I}_0^*,1}$ which is $\\mathbb{Q}_2$-isomorphic to $E^d$. The Weierstrass coefficients $a_i^d$ of $F_{\\rm{I}_0^*,1}$ are:\n",
    "\\begin{align*}\n",
    "a_1^d=& 0 \\\\\n",
    "a_2^d=& \\left(\\frac{1}{4}\\right) \\cdot d \\cdot (a_{1}^{2} + 4 a_{2} + 12 d) \\\\\n",
    "a_3^d=& \\left(2\\right) \\cdot a_{2} \\cdot d^{2} \\\\\n",
    "a_4^d=& \\left(\\frac{1}{2}\\right) \\cdot d^{2} \\cdot (a_{1}^{2} d + a_{1} a_{3} + 4 a_{2} d + 6 d^{2} + 2 a_{4}) \\\\\n",
    "a_6^d=& \\left(\\frac{1}{4}\\right) \\cdot d^{3} \\cdot (a_{1}^{2} d^{2} - 4 a_{2}^{2} d + 2 a_{1} a_{3} d + 4 a_{2} d^{2} + 4 d^{3} + a_{3}^{2} + 4 a_{4} d + 4 a_{6}) \\\\\n",
    "\\end{align*}\n",
    "\n",
    "We claim that $\\mathcal{V}(F_{\\rm{I}_0^*,1})=(\\infty, =1, 4, =4, 7)$. The valuations for $a_1^d$, $a_2^d$, and $a_3^d$ are automatic. For $a_4^d$, observe that\n",
    "\\begin{align*}\n",
    "a_{4}^{d} &  =4d^{2}\\left(  \\frac{a_{1}^{2}d}{8}+\\frac{a_{1}a_{3}}{8}+\\frac{a_{2}d}{2}+\\frac{3d^{2}}{4}+\\frac{a_{4}}{4}\\right)  \\\\\n",
    "\\Longrightarrow\\qquad\\frac{a_{4}^{d}}{4d^{2}} &  =\\frac{a_{1}^{2}d}{8}+\\frac{a_{1}a_{3}}{8}+\\frac{a_{2}d}{2}+\\frac{3d^{2}}{4}+\\frac{a_{4}}{4}\\\\\n",
    "&  \\equiv1+1+0+1+0\\ \\operatorname{mod}2=1\\ \\operatorname{mod}2.\n",
    "\\end{align*}\n",
    "Hence, $v(a_{4}^{d})=4$.\n",
    "\n",
    "For $a_{6}^{d}$, observe that\n",
    "\\begin{align*}\n",
    "a_{6}^{d}  & =4d^{3}\\left(  \\frac{a_{1}^{2}d^{2}}{16}-\\frac{a_{2}^{2}d}{4}+\\frac{a_{1}a_{3}d}{8}+\\frac{a_{2}d^{2}}{4}+\\frac{d^{3}}{4}+\\frac{a_{3}^{2}}{16}+\\frac{a_{4}d}{4}+\\frac{a_{6}}{4}\\right)  \\\\\n",
    "\\Longrightarrow\\qquad\\frac{a_{6}^{d}}{4d^{3}}  & =\\frac{a_{1}^{2}d^{2}}{16}-\\frac{a_{2}^{2}d}{4}+\\frac{a_{1}a_{3}d}{8}+\\frac{a_{2}d^{2}}{4}+\\frac{d^{3}}{4}+\\frac{a_{3}^{2}}{16}+\\frac{a_{4}d}{4}+\\frac{a_{6}}{4}\\\\\n",
    "& \\equiv1-\\frac{a_{2}^{2}}{2}+2+a_{2}+2+1+0+2\\ \\operatorname{mod}4\\\\\n",
    "& \\equiv a_{2}\\left(  1-\\frac{a_{2}^{2}}{2}\\right)  \\ \\operatorname{mod}4\\\\\n",
    "& \\equiv0\\ \\operatorname{mod}4.\n",
    "\\end{align*}\n",
    "It follows that $v(a_{6}^{d})\\geq7$. We note that the code below verifies that\n",
    "$$\\frac{a_{6}^{d}}{4d^{3}}=P_{R,1}.$$\n",
    "\n",
    "With the claim established, we conclude **by Propostion 3.4 that $R^d=\\operatorname{typ}(E^d)=\\rm{I}_4^*$.**"
   ]
  },
  {
   "cell_type": "code",
   "execution_count": 4,
   "id": "9dd580",
   "metadata": {
    "collapsed": false
   },
   "outputs": [
    {
     "name": "stdout",
     "output_type": "stream",
     "text": [
      "a1^d= 0\n",
      "a2^d= (1/4) * d * (a1^2 + 4*a2 + 12*d)\n",
      "a3^d= (2) * a2 * d^2\n",
      "a4^d= (1/2) * d^2 * (a1^2*d + a1*a3 + 4*a2*d + 6*d^2 + 2*a4)\n",
      "a6^d= (1/4) * d^3 * (a1^2*d^2 - 4*a2^2*d + 2*a1*a3*d + 4*a2*d^2 + 4*d^3 + a3^2 + 4*a4*d + 4*a6)\n",
      "True\n"
     ]
    }
   ],
   "source": [
    "print(ai_twist(F1I0star_1))\n",
    "print(4*F1I0star_1.a6()/d^3 == PI0star_1)"
   ]
  },
  {
   "cell_type": "markdown",
   "id": "797498",
   "metadata": {
    "collapsed": false
   },
   "source": [
    "**Case 6\\(ii\\):**  Suppose $v(a_{1})=1$, $v(a_3)\\ge 3$, and $v(P_{R,2})< 7$. (In fact, we show below that this implies that $v(P_{R,2})=6$.) Thus, $\\mathcal{V}(E)=(=1, 1, 3, 3,=3)$. We consider the model $F_{\\rm{I}_0^*,2}$ which is $\\mathbb{Q}_2$-isomorphic to $E^d$. The Weierstrass coefficients $a_i^d$ of $F_{\\rm{I}_0^*,2}$ are:\n",
    "\\begin{align*}\n",
    "a_1^d=& 0 \\\\\n",
    "a_2^d=& \\left(\\frac{1}{4}\\right) \\cdot d \\cdot (a_{1}^{2} + 4 a_{2} + 48 d) \\\\\n",
    "a_3^d=& \\left(4\\right) \\cdot d^{2} \\\\\n",
    "a_4^d=& \\left(\\frac{1}{2}\\right) \\cdot d^{2} \\cdot (4 a_{1}^{2} d + a_{1} a_{3} + 16 a_{2} d + 96 d^{2} + 2 a_{4}) \\\\\n",
    "a_6^d=& \\left(\\frac{1}{4}\\right) \\cdot d^{3} \\cdot (16 a_{1}^{2} d^{2} + 8 a_{1} a_{3} d + 64 a_{2} d^{2} + 256 d^{3} + a_{3}^{2} + 16 a_{4} d + 4 a_{6} - 16 d) \\\\\n",
    "\\end{align*}\n",
    "\n",
    "We claim that $\\mathcal{V}(F_{\\rm{I}_0^*,3})=(\\infty, =1, =4, 5, 8)$. The valuations for $a_1^d$, $a_2^d$, and $a_3^d$ are automatic. For $a_4^d$, observe that each term appearing in $\\frac{2a_4^d}{d^2}$ is divisible by 16. Thus,$v(a_4^d)\\ge 5$.\n",
    "\n",
    "For $a_{6}^{d}$, we first note that the assumptions on $\\mathcal{V}(E)$ imply the following:\n",
    "\\begin{align*}\n",
    "v(P_{R,3})  & =v(a_{3}^{2}+4a_{6}-16d)\\geq6,\\\\\n",
    "v(4a_{1}^{2}d^{2})  & =6,\\\\\n",
    "v(4a_{1}a_{3}d+16a_{2}d^{2}+32d^{3}+8a_{4}d)  & \\geq7.\n",
    "\\end{align*}\n",
    "Since\n",
    "$$P_{R,2}=P_{R,3}+4a_{1}^{2}d^{2}+4a_{1}a_{3}d+16a_{2}d^{2}+32d^{3}+8a_{4}d,$$\n",
    "we deduce that $v(P_{R,2})\\geq6$. By assumption, it follows that\n",
    "$v(P_{R,2})=6$. In fact, the above equality shows that $v(P_{R,2})=6$ if and only if $v(P_{R,3})\\geq7$. Next, observe that\n",
    "$$v(16a_{1}^{2}d^{2}+8a_{1}a_{3}d+64a_{2}d^{2}+256d^{3}+16a_{4}d)\\geq8.$$\n",
    "The code below shows that\n",
    "$$\\frac{4a_{6}^{d}}{d^{3}}=P_{R,3}+16a_{1}^{2}d^{2}+8a_{1}a_{3}d+64a_{2}d^{2}+256d^{3}+16a_{4}d.$$\n",
    "The above valuations now imply that $v(a_{6}^{d})\\geq8$, which shows the claim.\n",
    "\n",
    "\n",
    "With the claim established, we conclude **by Propostion 3.4 that $R^d=\\operatorname{typ}(E^d)=\\rm{I}_5^*$.**"
   ]
  },
  {
   "cell_type": "code",
   "execution_count": 25,
   "id": "fc0278",
   "metadata": {
    "collapsed": false
   },
   "outputs": [
    {
     "name": "stdout",
     "output_type": "stream",
     "text": [
      "a1^d= 0\n",
      "a2^d= (1/4) * d * (a1^2 + 4*a2 + 48*d)\n",
      "a3^d= (4) * d^2\n",
      "a4^d= (1/2) * d^2 * (4*a1^2*d + a1*a3 + 16*a2*d + 96*d^2 + 2*a4)\n",
      "a6^d= (1/4) * d^3 * (16*a1^2*d^2 + 8*a1*a3*d + 64*a2*d^2 + 256*d^3 + a3^2 + 16*a4*d + 4*a6 - 16*d)\n",
      "True\n",
      "True\n"
     ]
    }
   ],
   "source": [
    "print(ai_twist(F1I0star_2))\n",
    "print(PI0star_2 == PI0star_3 + 4*a1^2*d^2 + 4*a1*a3*d + 16*a2*d^2 + 32*d^3 + 8*a4*d)\n",
    "print(4*F1I0star_2.a6()/d^3 == PI0star_3 + 16*a1^2*d^2 + 8*a1*a3*d + 64*a2*d^2 + 256*d^3 + 16*a4*d)"
   ]
  },
  {
   "cell_type": "markdown",
   "id": "929b41",
   "metadata": {
    "collapsed": false
   },
   "source": [
    "**Case 6\\(iii\\):**  Suppose $v(a_{1})=1$, $v(a_3)\\ge 3$, and $v(P_{R,2})\\ge 7$. Thus, $\\mathcal{V}(E)=(=1, 1, 3, 3,=3)$. We consider the model $F_{\\rm{I}_0^*,3}$ which is $\\mathbb{Q}_2$-isomorphic to $E^d$. The Weierstrass coefficients $a_i^d$ of $F_{\\rm{I}_0^*,3}$ are:\n",
    "\\begin{align*}\n",
    "a_1^d=& 0 \\\\\n",
    "a_2^d=& \\left(\\frac{1}{4}\\right) \\cdot d \\cdot (a_{1}^{2} + 4 a_{2} + 24 d) \\\\\n",
    "a_3^d=& \\left(4\\right) \\cdot d^{2} \\\\\n",
    "a_4^d=& \\left(\\frac{1}{2}\\right) \\cdot d^{2} \\cdot (2 a_{1}^{2} d + a_{1} a_{3} + 8 a_{2} d + 24 d^{2} + 2 a_{4}) \\\\\n",
    "a_6^d=& \\left(\\frac{1}{4}\\right) \\cdot d^{3} \\cdot (4 a_{1}^{2} d^{2} + 4 a_{1} a_{3} d + 16 a_{2} d^{2} + 32 d^{3} + a_{3}^{2} + 8 a_{4} d + 4 a_{6} - 16 d) \\\\\n",
    "\\end{align*}\n",
    "\n",
    "We claim that $\\mathcal{V}(F_{\\rm{I}_0^*,2})=(\\infty, =1, =4, 5, 8)$. The valuations for $a_1^d$, $a_2^d$, and $a_3^d$ are automatic. For $a_4^d$, observe that each term appearing in $\\frac{2a_4^d}{d^2}$ is divisible by 16. Thus,$v(a_4^d)\\ge 5$.\n",
    "\n",
    "For $a_6^d$, the code below verifies that\n",
    "$$\\frac{a_{6}^{d}}{4d^{3}}=P_{R,2}.$$\n",
    "\n",
    "By assumption,  $v(P_{R,2})\\ge 7$, and thus, $v(a_6^d)\\ge 8$.\n",
    "\n",
    "With the claim established, we conclude **by Propostion 3.4 that $R^d=\\operatorname{typ}(E^d)=\\rm{I}_5^*$.**"
   ]
  },
  {
   "cell_type": "code",
   "execution_count": 27,
   "id": "aaf8b2",
   "metadata": {
    "collapsed": false
   },
   "outputs": [
    {
     "name": "stdout",
     "output_type": "stream",
     "text": [
      "a1^d= 0\n",
      "a2^d= (1/4) * d * (a1^2 + 4*a2 + 24*d)\n",
      "a3^d= (4) * d^2\n",
      "a4^d= (1/2) * d^2 * (2*a1^2*d + a1*a3 + 8*a2*d + 24*d^2 + 2*a4)\n",
      "a6^d= (1/4) * d^3 * (4*a1^2*d^2 + 4*a1*a3*d + 16*a2*d^2 + 32*d^3 + a3^2 + 8*a4*d + 4*a6 - 16*d)\n",
      "True\n"
     ]
    }
   ],
   "source": [
    "print(ai_twist(F1I0star_3))\n",
    "print(4*F1I0star_3.a6()/d^3 == PI0star_2)"
   ]
  },
  {
   "cell_type": "markdown",
   "id": "c6c813",
   "metadata": {
    "collapsed": false
   },
   "source": [
    "**Case 6\\(iv\\):**  Suppose $v(a_{1})\\ge 2$ and $v(a_3) = 2$. Thus, $\\mathcal{V}(E)=(2, 1, =2, 3,=3)$. We consider the model $F_{\\rm{I}_0^*,0}$ which is $\\mathbb{Q}_2$-isomorphic to $E^d$. The Weierstrass coefficients $a_i^d$ of $F_{\\rm{I}_0^*,0}$ are:\n",
    "\\begin{align*}\n",
    "a_1^d=& 0 \\\\\n",
    "a_2^d=& \\left(\\frac{1}{4}\\right) \\cdot d \\cdot (a_{1}^{2} + 4 a_{2}) \\\\\n",
    "a_3^d=& 0 \\\\\n",
    "a_4^d=& \\left(\\frac{1}{2}\\right) \\cdot d^{2} \\cdot (a_{1} a_{3} + 2 a_{4}) \\\\\n",
    "a_6^d=& \\left(\\frac{1}{4}\\right) \\cdot d^{3} \\cdot (a_{3}^{2} + 4 a_{6}) \\\\\n",
    "\\end{align*}\n",
    "\n",
    "From the assumptions on $\\mathcal{V}(E)$, it follows that $\\mathcal{V}(F_{\\rm{I}_0^*,2})=(\\infty, 2, \\infty, 5, =5)$. \n",
    "\n",
    "**By Propostion 3.4 that $R^d=\\operatorname{typ}(E^d)=\\rm{II}^*$.**\n",
    "\n"
   ]
  },
  {
   "cell_type": "code",
   "execution_count": 12,
   "id": "989d17",
   "metadata": {
    "collapsed": false
   },
   "outputs": [
    {
     "name": "stdout",
     "output_type": "stream",
     "text": [
      "a1^d= 0\n",
      "a2^d= (1/4) * d * (a1^2 + 4*a2)\n",
      "a3^d= 0\n",
      "a4^d= (1/2) * d^2 * (a1*a3 + 2*a4)\n",
      "a6^d= (1/4) * d^3 * (a3^2 + 4*a6)\n"
     ]
    }
   ],
   "source": [
    "print(ai_twist(F1R0))"
   ]
  },
  {
   "cell_type": "markdown",
   "id": "9e5c0a",
   "metadata": {
    "collapsed": false
   },
   "source": [
    "**Case 6\\(v\\):**  Suppose $v(a_{1})\\ge 2$ and $v(a_3) \\ge 3$. Thus, $\\mathcal{V}(E)=(2, 1, 3, 3,=3)$. We consider the model $F_{\\rm{I}_0^*,4}$ which is $\\mathbb{Q}_2$-isomorphic to $E^d$. The Weierstrass coefficients $a_i^d$ of $F_{\\rm{I}_0^*,4}$ are:\n",
    "\\begin{align*}\n",
    "a_1^d=& a_{2} \\\\\n",
    "a_2^d=& \\left(\\frac{1}{16}\\right) \\cdot (a_{1}^{2} d - 4 a_{2}^{2} + 4 a_{2} d) \\\\\n",
    "a_3^d=& d \\\\\n",
    "a_4^d=& \\left(\\frac{1}{32}\\right) \\cdot d \\cdot (a_{1} a_{3} d + 2 a_{4} d - 16 a_{2}) \\\\\n",
    "a_6^d=& \\left(\\frac{1}{256}\\right) \\cdot d^{2} \\cdot (a_{3}^{2} d + 4 a_{6} d - 64) \\\\\n",
    "\\end{align*}\n",
    "\n",
    "\n",
    "Observe that since $4a_{2}d-4a_{2}^{2}=4a_{2}(d-a_{2})$, we have that $v(4a_{2}(d-a_{2}))\\geq5$. Similarly, $v(4a_{6}d-64)\\geq7$. With these observations, it is easily checked that $\\mathcal{V}(F_{\\rm{I}_{0}^{\\ast},4})=\\left(  1,1,=1,1,1\\right)  $. In particular, $v(a_{6}^{d})=1$ if and only if $v(a_{3}^{2}d+4a_{6}d-64)=7$. Thus, if $v(a_{3}^{2}d+4a_{6}d-64)=7$, then $\\mathcal{V}(F_{\\rm{I}_{0}^{\\ast},4})=\\left(  1,1,=1,1,=1\\right)  $.\n",
    "\n",
    "Now suppose that $v(a_{3}^{2}d+4a_{6}d-64)\\geq8$. Then, $\\mathcal{V}(F_{\\rm{I}_{0}^{\\ast},4})=\\left(  1,1,=1,1,2\\right)  $. Now observe that $v(a_{4}^{d})=1$ if and only if $v(a_{1}a_{3}d+2a_{4}d-16a_{2})=5$. Note that this is equivalent to $v(2a_{4}d-16a_{2})=5$. Since\n",
    "$$\\frac{2a_{4}d-16a_{2}}{32}=\\frac{a_{4}}{8}\\frac{d}{2}-\\frac{a_{2}}{2}\\equiv\\frac{a_{4}}{8}-\\frac{a_{2}}{2}\\ \\operatorname{mod}2,$$\n",
    "we obtain that $v(a_{4}^{d})=1$ if and only if $v(\\frac{a_{4}}{8}-\\frac{a_{2}}{2})=0$. Equivalently, $v(a_{4}-4a_{2})=3$. If this is the case, then $\\mathcal{V}(F_{\\rm{I}_{0}^{\\ast},4})=\\left(  1,1,=1,=1,2\\right)  $. If $v(a_{4}-4a_{2})\\geq4$, then $\\mathcal{V}(F_{\\rm{I}_{0}^{\\ast},4})=\\left(1,1,=1,2,2\\right)  $. In sum, we have shown that\n",
    "$$\\mathcal{V}(F_{I_{0}^{\\ast},4})=\\left\\{\n",
    "\\begin{align*}\n",
    "\\left(  1,1,=1,1,=1\\right)   & \\text{ if }v(a_{3}^{2}d+4a_{6}d-64)=7,\\\\\n",
    "\\left(  1,1,=1,=1,2\\right)   & \\text{ if }v(a_{3}^{2}d+4a_{6}d-64)\\geq\n",
    "8,v(a_{4}-4a_{2})=3,\\\\\n",
    "\\left(  1,1,=1,2,2\\right)   & \\text{ if }v(a_{3}^{2}d+4a_{6}d-64)\\geq\n",
    "8,v(a_{4}-4a_{2})\\geq4.\n",
    "\\end{align*}\n",
    "\\right. $$\n",
    "By Proposition 3.4, we conclude that\n",
    "$$R^{d}=\\operatorname*{typ}(E^{d})=\\left\\{\n",
    "\\begin{align*}\n",
    "\\rm{II} & \\text{ if }v(a_{3}^{2}d+4a_{6}d-64)=7,\\\\\n",
    "\\rm{III} & \\text{ if }v(a_{3}^{2}d+4a_{6}d-64)\\geq8,v(a_{4}-4a_{2})=3,\\\\\n",
    "\\rm{IV} & \\text{ if }v(a_{3}^{2}d+4a_{6}d-64)\\geq8,v(a_{4}-4a_{2})\\geq4.\n",
    "\\end{align*}\n",
    "\\right.$$\n"
   ]
  },
  {
   "cell_type": "code",
   "execution_count": 14,
   "id": "07770b",
   "metadata": {
    "collapsed": false
   },
   "outputs": [
    {
     "name": "stdout",
     "output_type": "stream",
     "text": [
      "a1^d= a2\n",
      "a2^d= (1/16) * (a1^2*d - 4*a2^2 + 4*a2*d)\n",
      "a3^d= d\n",
      "a4^d= (1/32) * d * (a1*a3*d + 2*a4*d - 16*a2)\n",
      "a6^d= (1/256) * d^2 * (a3^2*d + 4*a6*d - 64)\n"
     ]
    }
   ],
   "source": [
    "print(ai_twist(F1I0star_4))"
   ]
  },
  {
   "cell_type": "markdown",
   "id": "51e9c8",
   "metadata": {
    "collapsed": false
   },
   "source": [
    "**Case 7.** Let $R=\\operatorname*{typ}(E)=\\rm{I}^*_{n>0}$. Since $E$ is given by a normal model, we have that\n",
    "\n",
    "$$\\mathcal{V}(E)=\\begin{cases} \\left(  1,=1,=\\frac{n+3}{2},\\frac{n+5}{2},n+3\\right)  &\\text{if } n \\text{ is odd},\\\\ \\left(  1,=1,\\frac{n+4}{2},=\\frac{n+4}{2},n+3\\right) &\\text{if } n \\text{ is even}.\\end{cases}$$\n",
    "\n",
    "In the paper, we only verify the local Tamagawa number $c^{d}$ of $E^{d}$. The subcases below, make reference to several polynomials, namely:\n",
    "\\begin{align*}\n",
    "P_{R,1}^{1} = &  a_{1}^{2}a_{3}^{2}+4a_{1}a_{3}^{2}+4a_{2}a_{3}^{2}+2a_{3}^{3}+4a_{3}^{2}+8a_{3}a_{4}+16a_{6}\\\\\n",
    "P_{R,2}^{1}= &  a_{3}^{2}d-a_{3}^{2}-4a_{6}\\\\\n",
    "P_{R,3}^{1}= &  4a_{1}+4a_{2}+a_{3}-4d \\\\\n",
    "P_{R,4}^{1}= & a_{1}^{2}d+8a_{2}d+32d-32 \\\\\n",
    "P_{R,5}^{1}= &16a_{1}^{2}+8a_{1}a_{3}+a_{3}^{2}+64a_{2}+16a_{4}+4a_{6}-64d+256 \\\\\n",
    "P_{R,6}^{1}= & a_{1}^{2}+4a_{2}-4d \\\\\n",
    "P_{R,7}^{1}= & a_{1}^{2}a_{3}^{2}+4a_{1}a_{3}^{2}+4a_{2}a_{3}^{2}+2a_{3}^{3}+4a_{3}^{2}+8a_{3}a_{4}+16a_{6}-4a_{4}^{2}d\\\\\n",
    "P_{R,8}^{1}= & a_{1}^{2}a_{3}^{2}+4a_{1}a_{3}^{2}+4a_{2}a_{3}^{2}+2a_{3}^{3}-4a_{3}^{2}d+4a_{3}^{2}+8a_{3}a_{4}+16a_{6} \\\\\n",
    "P_{R,9}^{1}= & a_{1}^{2}a_{3}^{2}-4a_{1}a_{3}^{2}+4a_{2}a_{3}^{2}+4a_{2}a_{3}^{2}-2a_{3}^{3}-4a_{3}^{2}d+4a_{3}^{2}-8a_{3}a_{4}+16a_{6}\\\\\n",
    "P_{R,10}^{1}= & a_{1}^{2}a_{3}^{2}d+4a_{1}a_{3}^{2}d^{2}+4a_{3}^{2}d^{3}+4a_{2}a_{3}^{2}d+8a_{3}a_{4}d^{2}+16a_{6}d^{3}+2a_{3}^{3}-16a_{3}^{2} \\\\\n",
    "\\end{align*}\n",
    "\n",
    "For easy reference, we refer to $P_{R,j}^{1}$ by PInstar_j in our code below.\n",
    "\n",
    "We now consider the cases in order of appearance in Table 8. "
   ]
  },
  {
   "cell_type": "code",
   "execution_count": 64,
   "id": "cdd0c7",
   "metadata": {
    "collapsed": false
   },
   "outputs": [
   ],
   "source": [
    "PInstar_1 = a1^2*a3^2+4*a1*a3^2+4*a2*a3^2+2*a3^3+4*a3^2+8*a3*a4+16*a6\n",
    "PInstar_2 =  a3^2*d-a3^2-4*a6\n",
    "PInstar_3 = 4*a1+4*a2+a3-4*d\n",
    "PInstar_4 = a1^2*d + 4*a2*d + 48*d - 16\n",
    "PInstar_5 = 16*a1^2+8*a1*a3+a3^2+64*a2+16*a4+4*a6-64*d+256\n",
    "PInstar_6 = a1^2+4*a2-4*d \n",
    "PInstar_7 = a1^2*a3^2+4*a1*a3^2+4*a2*a3^2+2*a3^3+4*a3^2+8*a3*a4+16*a6-4*a4^2*d\n",
    "PInstar_8 = a1^2*a3^2+4*a1*a3^2+4*a2*a3^2+2*a3^3-4*a3^2*d+4*a3^2+8*a3*a4+16*a6 \n",
    "PInstar_9 =  a1^2*a3^2-4*a1*a3^2+4*a2*a3^2-2*a3^3-4*a3^2*d+4*a3^2-8*a3*a4+16*a6\n",
    "PInstar_10 = a1^2*a3^2*d+4*a1*a3^2*d^2+4*a3^2*d^3+4*a2*a3^2*d+8*a3*a4*d^2+16*a6*d^3+2*a3^3-16*a3^2"
   ]
  },
  {
   "cell_type": "markdown",
   "id": "87c5f5",
   "metadata": {
    "collapsed": false
   },
   "source": [
    "**Case 7\\(i\\):**  Suppose $n=1$ and $v(a_1)=1$. Thus, $\\mathcal{V}(E)=(=1, =1, =2,3,4)$. We consider the model $F_{\\rm{I}_n^*,1}$ which is $\\mathbb{Q}_2$-isomorphic to $E^d$. The Weierstrass coefficients $a_i^d$ of $F_{\\rm{I}_n^*,1}$ are:\n",
    "\\begin{align*}\n",
    "a_1^d=& 0 \\\\\n",
    "a_2^d=& \\left(\\frac{1}{4}\\right) \\cdot d \\cdot (a_{1}^{2} + 4 a_{2} + 6 a_{3}) \\\\\n",
    "a_3^d=& 0 \\\\\n",
    "a_4^d=& \\left(\\frac{1}{4}\\right) \\cdot d^{2} \\cdot (a_{1}^{2} a_{3} + 2 a_{1} a_{3} + 4 a_{2} a_{3} + 3 a_{3}^{2} + 4 a_{4}) \\\\\n",
    "a_6^d=& \\left(\\frac{1}{16}\\right) \\cdot d^{3} \\cdot (a_{1}^{2} a_{3}^{2} + 4 a_{1} a_{3}^{2} + 4 a_{2} a_{3}^{2} + 2 a_{3}^{3} + 4 a_{3}^{2} + 8 a_{3} a_{4} + 16 a_{6}) \\\\\n",
    "\\end{align*}\n",
    "\n",
    "Observe that $v(a_{1}^{2}+4a_{2}+6a_{3})=2$. Thus, $v(a_{2}^{d})=1$. Since $v(a_{1}^{2}a_{3}+2a_{1}a_{3})\\geq5$ and $v(4a_{2}a_{3}+3a_{3}^{2}+4a_{4})=4$, we conclude that $v(a_{4}^{d})=4$. Now observe that\n",
    "\\begin{align*}\n",
    "\\frac{a_{1}^{2}+4}{4}  & \\equiv2\\ \\operatorname{mod}4\\qquad\\Longrightarrow\n",
    "\\qquad v(a_{1}^{2}a_{3}^{2}+4a_{3}^{2})=7,\\\\\n",
    "v(4a_{1}a_{3}^{2}+4a_{2}a_{3}^{2})  & =v(4a_{3}^{2})+v(a_{1}+a_{2})\\geq8,\\\\\n",
    "v(2a_{3}^{2})  & =7\\qquad\\Longrightarrow\\qquad v(2a_{3}^{2}+a_{1}^{2}a_{3}^{2}+4a_{3}^{2})\\geq8,\\\\\n",
    "v(8a_{3}a_{4}+16a_{6})  & \\geq8.\n",
    "\\end{align*}\n",
    "It now follows that\n",
    "$$v(a_{1}^{2}a_{3}^{2}+4a_{1}a_{3}^{2}+4a_{2}a_{3}^{2}+2a_{3}^{3}+4a_{3}^{2}+8a_{3}a_{4}+16a_{6})\\geq8.$$\n",
    "Since\n",
    "\\begin{align*}\n",
    "\\frac{16a_{6}^{d}}{d^{3}}  & =a_{1}^{2}a_{3}^{2}+4a_{1}a_{3}^{2}+4a_{2}a_{3}^{2}+2a_{3}^{3}+4a_{3}^{2}+8a_{3}a_{4}+16a_{6}\\\\\n",
    "& =P_{R,1,}\n",
    "\\end{align*}\n",
    "we conclude that $v(a_{6}^{d})\\geq7$. Thus, $\\mathcal{V}(F_{R,1})=\\left(\\infty,=1,\\infty,=4,7\\right)  $. It follows by **Proposition 3.4 that $R^{d}=\\operatorname*{typ}(E^{d})=\\rm{I}_{4}^{\\ast}$.**\n",
    "\n"
   ]
  },
  {
   "cell_type": "code",
   "execution_count": 8,
   "id": "b56cc9",
   "metadata": {
    "collapsed": false
   },
   "outputs": [
    {
     "name": "stdout",
     "output_type": "stream",
     "text": [
      "a1^d= 0\n",
      "a2^d= (1/4) * d * (a1^2 + 4*a2 + 6*a3)\n",
      "a3^d= 0\n",
      "a4^d= (1/4) * d^2 * (a1^2*a3 + 2*a1*a3 + 4*a2*a3 + 3*a3^2 + 4*a4)\n",
      "a6^d= (1/16) * d^3 * (a1^2*a3^2 + 4*a1*a3^2 + 4*a2*a3^2 + 2*a3^3 + 4*a3^2 + 8*a3*a4 + 16*a6)\n",
      "True\n"
     ]
    }
   ],
   "source": [
    "print(ai_twist(F1Instar_1))\n",
    "print(16*F1Instar_1.a6()/d^3 == PInstar_1 )"
   ]
  },
  {
   "cell_type": "markdown",
   "id": "536b81",
   "metadata": {
    "collapsed": false
   },
   "source": [
    "**Case 7\\(ii\\):**  Suppose $n=1$ and $v(a_1)\\ge2$. Thus, $\\mathcal{V}(E)=(2, =1, =2,3,4)$. We consider the model $F_{\\rm{I}_n^*,1}$ which is $\\mathbb{Q}_2$-isomorphic to $E^d$. The Weierstrass coefficients $a_i^d$ of $F_{\\rm{I}_n^*,1}$ are:\n",
    "\\begin{align*}\n",
    "a_1^d=& 0 \\\\\n",
    "a_2^d=& \\left(\\frac{1}{4}\\right) \\cdot d \\cdot (a_{1}^{2} + 4 a_{2} + 6 a_{3}) \\\\\n",
    "a_3^d=& 0 \\\\\n",
    "a_4^d=& \\left(\\frac{1}{4}\\right) \\cdot d^{2} \\cdot (a_{1}^{2} a_{3} + 2 a_{1} a_{3} + 4 a_{2} a_{3} + 3 a_{3}^{2} + 4 a_{4}) \\\\\n",
    "a_6^d=& \\left(\\frac{1}{16}\\right) \\cdot d^{3} \\cdot (a_{1}^{2} a_{3}^{2} + 4 a_{1} a_{3}^{2} + 4 a_{2} a_{3}^{2} + 2 a_{3}^{3} + 4 a_{3}^{2} + 8 a_{3} a_{4} + 16 a_{6}) \\\\\n",
    "\\end{align*}\n",
    "\n",
    "\n",
    "Observe that $v(4a_{2}+6a_{3})\\geq4$ since $v(4a_{2})=v(6a_{3})=3$. Thus, $v(a_{2}^{d})\\geq3$. Since $v(a_{1}^{2}a_{3}+2a_{1}a_{3}+4a_{2}a_{3}+4a_{4})\\geq5$ and $v(3a_{3}^{2})=4$, we conclude that $v(a_{4}^{d}%\n",
    ")=4$.\\ Next, we note that%\n",
    "$$v(a_{1}^{2}a_{3}^{2}+4a_{1}a_{3}^{2}+4a_{2}a_{3}^{2}+2a_{3}^{3}+8a_{3}a_{4}+16a_{6})\\geq7$$\n",
    "and $v(4a_{3}^{2})=6$. Thus, $v(a_{6}^{d})=5$. This shows that $\\mathcal{V}(F_{R,1})=\\left(  \\infty,3,\\infty,=4,=5\\right)  $.\n",
    "**By Proposition 3.4, $R^{d}=\\operatorname*{typ}(E^{d})=\\rm{II}^{\\ast}$.**"
   ]
  },
  {
   "cell_type": "code",
   "execution_count": 8,
   "id": "411c3b",
   "metadata": {
    "collapsed": false
   },
   "outputs": [
    {
     "name": "stdout",
     "output_type": "stream",
     "text": [
      "a1^d= 0\n",
      "a2^d= (1/4) * d * (a1^2 + 4*a2 + 6*a3)\n",
      "a3^d= 0\n",
      "a4^d= (1/4) * d^2 * (a1^2*a3 + 2*a1*a3 + 4*a2*a3 + 3*a3^2 + 4*a4)\n",
      "a6^d= (1/16) * d^3 * (a1^2*a3^2 + 4*a1*a3^2 + 4*a2*a3^2 + 2*a3^3 + 4*a3^2 + 8*a3*a4 + 16*a6)\n"
     ]
    }
   ],
   "source": [
    "print(ai_twist(F1Instar_1))"
   ]
  },
  {
   "cell_type": "markdown",
   "id": "e83f20",
   "metadata": {
    "collapsed": false
   },
   "source": [
    "**Case 7\\(iii\\):**  Suppose $n=2$ and $v(a_1)\\ge2$. Thus, $\\mathcal{V}(E)=(2, =1, 3,=3,5)$. We consider the model $F_{\\rm{I}_n^*,2}$ which is $\\mathbb{Q}_2$-isomorphic to $E^d$. The Weierstrass coefficients $a_i^d$ of $F_{\\rm{I}_n^*,2}$ are:\n",
    "\\begin{align*}\n",
    "a_1^d=& d \\\\\n",
    "a_2^d=& \\left(-\\frac{1}{16}\\right) \\cdot d \\cdot (-a_{1}^{2} - 4 a_{2} + 4 d) \\\\\n",
    "a_3^d=& \\left(\\frac{1}{8}\\right) \\cdot a_{3} \\cdot d^{2} \\\\\n",
    "a_4^d=& \\left(-\\frac{1}{32}\\right) \\cdot d^{2} \\cdot (-a_{1} a_{3} + 2 a_{3} d - 2 a_{4}) \\\\\n",
    "a_6^d=& \\left(-\\frac{1}{256}\\right) \\cdot d^{3} \\cdot (a_{3}^{2} d - a_{3}^{2} - 4 a_{6}) \\\\\n",
    "\\end{align*}\n",
    "\n",
    "By inspection, $\\mathcal{V}(F_{R,2})=\\left(  =1,1,=v(a_{3})-1,=1,2v(a_{3})-5\\right)  $. In fact,\n",
    "$$\\mathcal{V}(F_{R,2})=\\left\\{\n",
    "\\begin{align*}\n",
    "\\left(  =1,1,=2,=1,=1\\right)   & \\text{if }v(a_{3})=3,\\\\\n",
    "\\left(  =1,1,3,=1,2\\right)   & \\text{if }v(a_{3})\\geq4.\n",
    "\\end{align*}\n",
    "\\right.$$\n",
    "**By Proposition 3.4, we conclude that\n",
    "$$R^{d}=\\operatorname*{typ}(E^{d})=\\left\\{\n",
    "\\begin{align*}\n",
    "\\rm{II} & \\text{ if }v(a_{3})=3,\\\\\n",
    "\\rm{III} & \\text{ if }v(a_{3})\\geq4.\n",
    "\\end{align*}\n",
    "\\right.$$**"
   ]
  },
  {
   "cell_type": "code",
   "execution_count": 10,
   "id": "109902",
   "metadata": {
    "collapsed": false
   },
   "outputs": [
    {
     "name": "stdout",
     "output_type": "stream",
     "text": [
      "a1^d= d\n",
      "a2^d= (-1/16) * d * (-a1^2 - 4*a2 + 4*d)\n",
      "a3^d= (1/8) * a3 * d^2\n",
      "a4^d= (-1/32) * d^2 * (-a1*a3 + 2*a3*d - 2*a4)\n",
      "a6^d= (-1/256) * d^3 * (a3^2*d - a3^2 - 4*a6)\n"
     ]
    }
   ],
   "source": [
    "print(ai_twist(F1Instar_2))"
   ]
  },
  {
   "cell_type": "markdown",
   "id": "b1ea7c",
   "metadata": {
    "collapsed": false
   },
   "source": [
    "**Case 7\\(iv\\):**  Suppose $n=3$ and $v(a_1)\\ge2$. Thus, $\\mathcal{V}(E)=(2, =1, =3,4,6)$. We consider the model $F_{\\rm{I}_n^*,2}$ which is $\\mathbb{Q}_2$-isomorphic to $E^d$. The Weierstrass coefficients $a_i^d$ of $F_{\\rm{I}_n^*,2}$ are:\n",
    "\\begin{align*}\n",
    "a_1^d=& d \\\\\n",
    "a_2^d=& \\left(-\\frac{1}{16}\\right) \\cdot d \\cdot (-a_{1}^{2} - 4 a_{2} + 4 d) \\\\\n",
    "a_3^d=& \\left(\\frac{1}{8}\\right) \\cdot a_{3} \\cdot d^{2} \\\\\n",
    "a_4^d=& \\left(-\\frac{1}{32}\\right) \\cdot d^{2} \\cdot (-a_{1} a_{3} + 2 a_{3} d - 2 a_{4}) \\\\\n",
    "a_6^d=& \\left(-\\frac{1}{256}\\right) \\cdot d^{3} \\cdot (a_{3}^{2} d - a_{3}^{2} - 4 a_{6}) \\\\\n",
    "\\end{align*}\n",
    "\n",
    "By inspection, $\\mathcal{V}(F_{R,2})=\\left(  =1,1,=2,2,=1\\right)  $. **By Proposition 3.4, we conclude that $R^{d}=\\operatorname*{typ}(E^{d})=\\rm{II}.$**"
   ]
  },
  {
   "cell_type": "code",
   "execution_count": 11,
   "id": "7b3dcc",
   "metadata": {
    "collapsed": false
   },
   "outputs": [
    {
     "name": "stdout",
     "output_type": "stream",
     "text": [
      "a1^d= d\n",
      "a2^d= (-1/16) * d * (-a1^2 - 4*a2 + 4*d)\n",
      "a3^d= (1/8) * a3 * d^2\n",
      "a4^d= (-1/32) * d^2 * (-a1*a3 + 2*a3*d - 2*a4)\n",
      "a6^d= (-1/256) * d^3 * (a3^2*d - a3^2 - 4*a6)\n"
     ]
    }
   ],
   "source": [
    "print(ai_twist(F1Instar_2))"
   ]
  },
  {
   "cell_type": "markdown",
   "id": "00a896",
   "metadata": {
    "collapsed": false
   },
   "source": [
    "**Case 7\\(v\\):**  Suppose $n=4$ and $v(a_1)\\ge2$. Thus, $\\mathcal{V}(E)=(2, =1, 4,=4,7)$. We consider the model $F_{\\rm{I}_n^*,3}$ which is $\\mathbb{Q}_2$-isomorphic to $E^d$. The Weierstrass coefficients $a_i^d$ of $F_{\\rm{I}_n^*,3}$ are:\n",
    "\\begin{align*}\n",
    "a_1^d=& 2 \\\\\n",
    "a_2^d=& \\left(\\frac{1}{16}\\right) \\cdot (a_{1}^{2} d + 4 a_{2} d + 48 d - 16) \\\\\n",
    "a_3^d=& d^{2} \\\\\n",
    "a_4^d=& \\left(\\frac{1}{32}\\right) \\cdot d^{2} \\cdot (4 a_{1}^{2} + a_{1} a_{3} + 16 a_{2} + 2 a_{4} + 64) \\\\\n",
    "a_6^d=& \\left(-\\frac{1}{256}\\right) \\cdot d^{3} \\cdot (-16 a_{1}^{2} - 8 a_{1} a_{3} - a_{3}^{2} - 64 a_{2} - 16 a_{4} - 4 a_{6} + 64 d - 256) \\\\\n",
    "\\end{align*}\n",
    "\n",
    "Observe that $v(a_{1}^{d})=1,\\ v(a_{2}^{d})\\geq1$, and $v(a_{3}^{d})=2$. Since $v(4a_{1}^{2}+a_{1}a_{3}+64)\\geq6$ and $v(16a_{2}+2a_{4})\\geq6$, we conclude that $v(a_{4}^{d})\\geq3$. Now observe that\n",
    "\\begin{align*}\n",
    "v(64a_{2}-64d),v(16a_{1}^{2}+a_{3}^{2})  & \\geq8,\\\\\n",
    "v(8a_{1}a_{3}+4a_{6}),v(16a_{4}+256)  & \\geq9\n",
    "\\end{align*}\n",
    "It now follows that $v(a_{6}^{d})\\geq3$. Note that $v(a_{6}^{d})=3$ if and\n",
    "only if $v(64a_{2}-64d+16a_{1}^{2}+a_{3}^{2})=8$. Now observe that\n",
    "$$\\frac{64a_{2}-64d+16a_{1}^{2}+a_{3}^{2}}{64}\\equiv a_{2}-d+\\left(  \\frac{a_{1}}{2}\\right)  ^{2}+\\left(  \\frac{a_{3}}{8}\\right)  ^{2}%\n",
    "\\ \\operatorname{mod}8.$$\n",
    "Note that\n",
    "$$\\left(  \\frac{a_{1}}{2}\\right)  ^{2}\\equiv a_{1}\\ \\operatorname{mod}8\\qquad\\text{and}\\qquad\\left(  \\frac{a_{3}}{8}\\right)  ^{2}=\\frac{a_{3}}{4}\\ \\operatorname{mod}8.$$\n",
    "Thus,\n",
    "$$\\frac{64a_{2}-64d+16a_{1}^{2}+a_{3}^{2}}{64}\\equiv a_{2}-d+a_{1}+\\frac{a_{3}}{4}\\ \\operatorname{mod}8.$$\n",
    "Thus, $v(64a_{2}-64d+16a_{1}^{2}+a_{3}^{2})=8$ if and only if $v(a_{2}-d+a_{1}+\\frac{a_{3}}{4})=2$. Or equivalently, $v(4a_{1}+4a_{2}+a_{3}-4d)=4$.\n",
    "Note that $P_{R,3}=4a_{1}+4a_{2}+a_{3}-4d$. Also note that\n",
    "$$16a_{2}^{d}=P_{R,4}.$$\n",
    "From the above we conclude that\n",
    "$$\\mathcal{V}(F_{R,3})=\\left\\{\n",
    "\\begin{align*}\n",
    "\\left(  =1,1,=2,3,=3\\right)   & \\text{ if }v(P_{R,3})=4,\\\\\n",
    "\\left(  =1,=1,=2,3,4\\right)   & \\text{ if }v(P_{R,3})\\geq5,v(P_{R,4})=5,\\\\\n",
    "\\left(  =1,2,=2,3,4\\right)   & \\text{ if }v(P_{R,3})\\geq5,v(P_{R,4})\\geq6.\n",
    "\\end{align*}\n",
    "\\right.$$\n",
    "\n",
    "**It now follows from Proposition 3.4 that\n",
    "$$R^{d}=\\operatorname*{typ}(E^{d})=\\left\\{\n",
    "\\begin{align*}\n",
    "\\rm{I}_{0}^{\\ast} & \\text{ if }v(P_{R,3})=4,\\\\\n",
    "\\rm{I}_{1}^{\\ast} & \\text{ if }v(P_{R,3})\\geq5,v(P_{R,4})=5,\\\\\n",
    "\\rm{IV}^{\\ast} & \\text{ if }v(P_{R,3})\\geq5,v(P_{R,4})\\geq6.\n",
    "\\end{align*}\n",
    "\\right.$$**\n",
    "\n",
    "We conclude by noting that the code below verifies that\n",
    "$$\\frac{256a_{6}^{d}}{d^{3}}=P_{R,5}.$$"
   ]
  },
  {
   "cell_type": "code",
   "execution_count": 33,
   "id": "4a8325",
   "metadata": {
    "collapsed": false
   },
   "outputs": [
    {
     "name": "stdout",
     "output_type": "stream",
     "text": [
      "a1^d= 2\n",
      "a2^d= (1/16) * (a1^2*d + 4*a2*d + 48*d - 16)\n",
      "a3^d= d^2\n",
      "a4^d= (1/32) * d^2 * (4*a1^2 + a1*a3 + 16*a2 + 2*a4 + 64)\n",
      "a6^d= (-1/256) * d^3 * (-16*a1^2 - 8*a1*a3 - a3^2 - 64*a2 - 16*a4 - 4*a6 + 64*d - 256)\n",
      "True\n",
      "True\n",
      "True\n"
     ]
    }
   ],
   "source": [
    "print(ai_twist(F1Instar_3))\n",
    "print(PInstar_3 == 4*a1+4*a2+a3-4*d)  \n",
    "print(16*F1Instar_3.a2() == PInstar_4 )\n",
    "print(256*F1Instar_3.a6()/d^3 == PInstar_5 )"
   ]
  },
  {
   "cell_type": "markdown",
   "id": "362525",
   "metadata": {
    "collapsed": false
   },
   "source": [
    "**Case 7\\(vi\\):**  Suppose $n=5$ and $v(a_1)\\ge2$. Thus, $\\mathcal{V}(E)=(2, =1, =4,5,8)$. We consider the model $F_{\\rm{I}_n^*,2}$ which is $\\mathbb{Q}_2$-isomorphic to $E^d$. The Weierstrass coefficients $a_i^d$ of $F_{\\rm{I}_n^*,2}$ are:\n",
    "\\begin{align*}\n",
    "a_1^d=& d \\\\\n",
    "a_2^d=& \\left(-\\frac{1}{16}\\right) \\cdot d \\cdot (-a_{1}^{2} - 4 a_{2} + 4 d) \\\\\n",
    "a_3^d=& \\left(\\frac{1}{8}\\right) \\cdot a_{3} \\cdot d^{2} \\\\\n",
    "a_4^d=& \\left(-\\frac{1}{32}\\right) \\cdot d^{2} \\cdot (-a_{1} a_{3} + 2 a_{3} d - 2 a_{4}) \\\\\n",
    "a_6^d=& \\left(-\\frac{1}{256}\\right) \\cdot d^{3} \\cdot (a_{3}^{2} d - a_{3}^{2} - 4 a_{6}) \\\\\n",
    "\\end{align*}\n",
    "\n",
    "By inspection, $\\mathcal{V}(F_{R,2})=\\left(  =1,1,=3,3,=3\\right)  $. **By Proposition 3.4, $R^{d}=\\operatorname*{typ}(E^{d})=\\rm{I}_{0}^{\\ast}$.**"
   ]
  },
  {
   "cell_type": "code",
   "execution_count": 35,
   "id": "36f2a7",
   "metadata": {
    "collapsed": false
   },
   "outputs": [
    {
     "name": "stdout",
     "output_type": "stream",
     "text": [
      "a1^d= d\n",
      "a2^d= (-1/16) * d * (-a1^2 - 4*a2 + 4*d)\n",
      "a3^d= (1/8) * a3 * d^2\n",
      "a4^d= (-1/32) * d^2 * (-a1*a3 + 2*a3*d - 2*a4)\n",
      "a6^d= (-1/256) * d^3 * (a3^2*d - a3^2 - 4*a6)\n"
     ]
    }
   ],
   "source": [
    "print(ai_twist(F1Instar_2))"
   ]
  },
  {
   "cell_type": "markdown",
   "id": "3c0cdd",
   "metadata": {
    "collapsed": false
   },
   "source": [
    "**Case 7\\(vii\\):**  Suppose $n=6$, $v(a_1)\\ge2$, and $v(a_1^2+4a_2-4d)\\ge 5$. Thus, $\\mathcal{V}(E)=(2, =1, 5,=5,9)$. We consider the model $F_{\\rm{I}_n^*,2}$ which is $\\mathbb{Q}_2$-isomorphic to $E^d$. The Weierstrass coefficients $a_i^d$ of $F_{\\rm{I}_n^*,2}$ are:\n",
    "\\begin{align*}\n",
    "a_1^d=& d \\\\\n",
    "a_2^d=& \\left(-\\frac{1}{16}\\right) \\cdot d \\cdot (-a_{1}^{2} - 4 a_{2} + 4 d) \\\\\n",
    "a_3^d=& \\left(\\frac{1}{8}\\right) \\cdot a_{3} \\cdot d^{2} \\\\\n",
    "a_4^d=& \\left(-\\frac{1}{32}\\right) \\cdot d^{2} \\cdot (-a_{1} a_{3} + 2 a_{3} d - 2 a_{4}) \\\\\n",
    "a_6^d=& \\left(-\\frac{1}{256}\\right) \\cdot d^{3} \\cdot (a_{3}^{2} d - a_{3}^{2} - 4 a_{6}) \\\\\n",
    "\\end{align*}\n",
    "\n",
    "By inspection, $\\mathcal{V}(F_{R,2})=\\left(  =1,2,4,=3,5\\right)  $. Note that by assumption, $v(a_{2}^{d})=v(a_1^2+4a_2-4d) - 3\\geq2$. **By Proposition 3.4, $R^{d}=\\operatorname*{typ}(E^{d})=\\rm{III}^{\\ast}$.**"
   ]
  },
  {
   "cell_type": "code",
   "execution_count": 36,
   "id": "e98a45",
   "metadata": {
    "collapsed": false
   },
   "outputs": [
    {
     "name": "stdout",
     "output_type": "stream",
     "text": [
      "a1^d= d\n",
      "a2^d= (-1/16) * d * (-a1^2 - 4*a2 + 4*d)\n",
      "a3^d= (1/8) * a3 * d^2\n",
      "a4^d= (-1/32) * d^2 * (-a1*a3 + 2*a3*d - 2*a4)\n",
      "a6^d= (-1/256) * d^3 * (a3^2*d - a3^2 - 4*a6)\n"
     ]
    }
   ],
   "source": [
    "print(ai_twist(F1Instar_2))"
   ]
  },
  {
   "cell_type": "markdown",
   "id": "dbaa17",
   "metadata": {
    "collapsed": false
   },
   "source": [
    "**Case 7\\(viii\\):**  Suppose $n=7$, $v(a_1)\\ge2$, and $v(a_1^2+4a_2-4d)\\ge 5$. Thus, $\\mathcal{V}(E)=(2, =1, =5,6,10)$. We consider the model $F_{\\rm{I}_n^*,2}$ which is $\\mathbb{Q}_2$-isomorphic to $E^d$. The Weierstrass coefficients $a_i^d$ of $F_{\\rm{I}_n^*,2}$ are:\n",
    "\\begin{align*}\n",
    "a_1^d=& d \\\\\n",
    "a_2^d=& \\left(-\\frac{1}{16}\\right) \\cdot d \\cdot (-a_{1}^{2} - 4 a_{2} + 4 d) \\\\\n",
    "a_3^d=& \\left(\\frac{1}{8}\\right) \\cdot a_{3} \\cdot d^{2} \\\\\n",
    "a_4^d=& \\left(-\\frac{1}{32}\\right) \\cdot d^{2} \\cdot (-a_{1} a_{3} + 2 a_{3} d - 2 a_{4}) \\\\\n",
    "a_6^d=& \\left(-\\frac{1}{256}\\right) \\cdot d^{3} \\cdot (a_{3}^{2} d - a_{3}^{2} - 4 a_{6}) \\\\\n",
    "\\end{align*}\n",
    "\n",
    "\n",
    "By inspection, $\\mathcal{V}(F_{R,2})=\\left(  =1,2,=4,4,=5\\right)  $. Note that by assumption, $v(a_{2}^{d})=v(a_1^2+4a_2-4d) - 3\\geq2$. **By Proposition 3.4, $R^{d}=\\operatorname*{typ}(E^{d})=\\rm{II}^{\\ast}$.**"
   ]
  },
  {
   "cell_type": "code",
   "execution_count": 43,
   "id": "d20e7b",
   "metadata": {
    "collapsed": false
   },
   "outputs": [
    {
     "name": "stdout",
     "output_type": "stream",
     "text": [
      "a1^d= d\n",
      "a2^d= (-1/16) * d * (-a1^2 - 4*a2 + 4*d)\n",
      "a3^d= (1/8) * a3 * d^2\n",
      "a4^d= (-1/32) * d^2 * (-a1*a3 + 2*a3*d - 2*a4)\n",
      "a6^d= (-1/256) * d^3 * (a3^2*d - a3^2 - 4*a6)\n"
     ]
    }
   ],
   "source": [
    "print(ai_twist(F1Instar_2))"
   ]
  },
  {
   "cell_type": "markdown",
   "id": "ba9083",
   "metadata": {
    "collapsed": false
   },
   "source": [
    "**Case 7\\(ix\\):**  Suppose $n=8$, $v(a_1)\\ge2$, and $v(a_1^2+4a_2-4d)\\ge 5$. Thus, $\\mathcal{V}(E)=(2, =1, 6,=6,11)$. We consider the model $F_{\\rm{I}_n^*,4}$ which is $\\mathbb{Q}_2$-isomorphic to $E^d$. The Weierstrass coefficients $a_i^d$ of $F_{\\rm{I}_n^*,4}$ are:\n",
    "\\begin{align*}\n",
    "a_1^d=& \\left(\\frac{1}{2}\\right) \\cdot d \\\\\n",
    "a_2^d=& \\left(-\\frac{1}{64}\\right) \\cdot d \\cdot (-a_{1}^{2} - 4 a_{2} + 4 d) \\\\\n",
    "a_3^d=& 0 \\\\\n",
    "a_4^d=& \\left(\\frac{1}{512}\\right) \\cdot d^{2} \\cdot (a_{1} a_{3} + 2 a_{4}) \\\\\n",
    "a_6^d=& \\left(\\frac{1}{16384}\\right) \\cdot d^{3} \\cdot (a_{3}^{2} + 4 a_{6}) \\\\\n",
    "\\end{align*}\n",
    "\n",
    "By inspection, $\\mathcal{V}(F_{R,4})=\\left(  =0,0,\\infty,=0,1\\right)  $. Note that by assumption, $v(a_{2}^{d})=v(a_1^2+4a_2-4d) - 5\\geq0$. **By Proposition 3.4, $R^{d}=\\operatorname*{typ}(E^{d})=\\rm{I}_0$.**"
   ]
  },
  {
   "cell_type": "code",
   "execution_count": 39,
   "id": "73b24f",
   "metadata": {
    "collapsed": false
   },
   "outputs": [
    {
     "name": "stdout",
     "output_type": "stream",
     "text": [
      "a1^d= (1/2) * d\n",
      "a2^d= (-1/64) * d * (-a1^2 - 4*a2 + 4*d)\n",
      "a3^d= 0\n",
      "a4^d= (1/512) * d^2 * (a1*a3 + 2*a4)\n",
      "a6^d= (1/16384) * d^3 * (a3^2 + 4*a6)\n"
     ]
    }
   ],
   "source": [
    "print(ai_twist(F1Instar_4))"
   ]
  },
  {
   "cell_type": "markdown",
   "id": "1f5488",
   "metadata": {
    "collapsed": false
   },
   "source": [
    "**Case 7\\(x\\):**  Suppose $n\\ge2$, $v(a_1) =1$, $v(n)\\ge1$, and $v(P_{R,1})\\le n+7$. (In fact, it is shown below that this implies $v(P_{R,1})=n+7$.) Thus, $\\mathcal{V}(E)=(=1,=1,\\frac{n+4}{2},=\\frac{n+4}{2},n+3)$. We consider the model $F_{\\rm{I}_n^*,5}$ which is $\\mathbb{Q}_2$-isomorphic to $E^d$. The Weierstrass coefficients $a_i^d$ of $F_{\\rm{I}_n^*,5}$ are:\n",
    "\\begin{align*}\n",
    "a_1^d=& 0 \\\\\n",
    "a_2^d=& \\left(\\frac{1}{4}\\right) \\cdot d \\cdot (a_{1}^{2} + 4 a_{2} + 6 a_{3}) \\\\\n",
    "a_3^d=& a_{4} \\cdot d^{2} \\\\\n",
    "a_4^d=& \\left(\\frac{1}{4}\\right) \\cdot d^{2} \\cdot (a_{1}^{2} a_{3} + 2 a_{1} a_{3} + 4 a_{2} a_{3} + 3 a_{3}^{2} + 4 a_{4}) \\\\\n",
    "a_6^d=& \\left(-\\frac{1}{16}\\right) \\cdot d^{3} \\cdot (-a_{1}^{2} a_{3}^{2} - 4 a_{1} a_{3}^{2} - 4 a_{2} a_{3}^{2} - 2 a_{3}^{3} + 4 a_{4}^{2} d - 4 a_{3}^{2} - 8 a_{3} a_{4} - 16 a_{6}) \\\\\n",
    "\\end{align*}\n",
    "\n",
    "Observe that $v(a_{2}^{d})=1$ and $v(a_{3}^{d})=2+v(a_{4})=\\frac{n+8}{2}$.\n",
    "Since\n",
    "$$v(a_{1}^{2}a_{3}+2a_{1}a_{3}),v(4a_{2}a_{3}+3a_{3}^{2})\\geq\\frac{n+10}{2}$$\n",
    "and $v(4a_{4})=\\frac{n+8}{2}$, we conclude that $v(a_{4}^{d})=\\frac{n+8}{2}$.\n",
    "The code below verifies that\n",
    "$$\\frac{16a_{6}^{d}}{d^{3}}=P_{R,1}-4a_{4}^{2}d.$$\n",
    "\n",
    "\n",
    "Next, observe that\n",
    "$$P_{R,1}=a_{1}^{2}a_{3}^{2}+4a_{1}a_{3}^{2}+4a_{2}a_{3}^{2}+2a_{3}^{3}+4a_{3}^{2}+8a_{3}a_{4}+16a_{6}.$$\n",
    "Note that\n",
    "$$v(a_{1}^{2}a_{3}^{2}+4a_{3}^{2}),v(4a_{1}a_{3}^{2}+4a_{2}a_{3}^{2}+2a_{3}^{3}+8a_{3}a_{4}+16a_{6})\\geq n+7.$$\n",
    "Consequently, $v(P_{R,1})\\geq n+7$. Our assumption thus implies that $v(P_{R,1})=n+7$. The code below verifies that\n",
    "$$\\frac{16a_{6}^{d}}{d^{3}}=P_{R,1}-4a_{4}^{2}d = P_{R,7}.$$\n",
    "\n",
    "\n",
    "Since $v(4a_{4}^{2}d)=n+7$, we conclude that $v(a_{6}^{d})\\geq n+7$. We conclude that $\\mathcal{V}(F_{R,5})=\\left(  \\infty,=1,=\\frac{n+8}{2},=\\frac{n+8}{2},n+7\\right)  $. **By Proposition 3.4, $R^{d}=\\operatorname*{typ}(E^{d})=\\rm{I}_{n+4}^*$.**"
   ]
  },
  {
   "cell_type": "code",
   "execution_count": 63,
   "id": "8c2188",
   "metadata": {
    "collapsed": false
   },
   "outputs": [
    {
     "name": "stdout",
     "output_type": "stream",
     "text": [
      "a1^d= 0\n",
      "a2^d= (1/4) * d * (a1^2 + 4*a2 + 6*a3)\n",
      "a3^d= a4 * d^2\n",
      "a4^d= (1/4) * d^2 * (a1^2*a3 + 2*a1*a3 + 4*a2*a3 + 3*a3^2 + 4*a4)\n",
      "a6^d= (-1/16) * d^3 * (-a1^2*a3^2 - 4*a1*a3^2 - 4*a2*a3^2 - 2*a3^3 + 4*a4^2*d - 4*a3^2 - 8*a3*a4 - 16*a6)\n",
      "True\n",
      "True\n"
     ]
    }
   ],
   "source": [
    "print(ai_twist(F1Instar_5))\n",
    "print(16*F1Instar_5.a6()/d^3 == PInstar_1 - 4*a4^2*d)\n",
    "print(16*F1Instar_5.a6()/d^3 == PInstar_7)"
   ]
  },
  {
   "cell_type": "markdown",
   "id": "59d64d",
   "metadata": {
    "collapsed": false
   },
   "source": [
    "**Case 7\\(xi\\):**  Suppose $n\\ge2$, $v(a_1) =1$, $v(n)\\ge1$, and $v(P_{R,1})\\ge n+8$. Thus, $\\mathcal{V}(E)=(=1,=1,\\frac{n+4}{2},=\\frac{n+4}{2},n+3)$. We consider the model $F_{\\rm{I}_n^*,1}$ which is $\\mathbb{Q}_2$-isomorphic to $E^d$. The Weierstrass coefficients $a_i^d$ of $F_{\\rm{I}_n^*,1}$ are:\n",
    "\\begin{align*}\n",
    "a_1^d=& 0 \\\\\n",
    "a_2^d=& \\left(\\frac{1}{4}\\right) \\cdot d \\cdot (a_{1}^{2} + 4 a_{2} + 6 a_{3}) \\\\\n",
    "a_3^d=& 0 \\\\\n",
    "a_4^d=& \\left(\\frac{1}{4}\\right) \\cdot d^{2} \\cdot (a_{1}^{2} a_{3} + 2 a_{1} a_{3} + 4 a_{2} a_{3} + 3 a_{3}^{2} + 4 a_{4}) \\\\\n",
    "a_6^d=& \\left(\\frac{1}{16}\\right) \\cdot d^{3} \\cdot (a_{1}^{2} a_{3}^{2} + 4 a_{1} a_{3}^{2} + 4 a_{2} a_{3}^{2} + 2 a_{3}^{3} + 4 a_{3}^{2} + 8 a_{3} a_{4} + 16 a_{6}) \\\\\n",
    "\\end{align*}\n",
    "\n",
    "We claim that $\\mathcal{V}(F_{R,1})=\\left(  \\infty,=1,\\infty,=\\frac{n+8}{2},n+7\\right)  $. The valuations for $a_{1}^{d},a_{2}^{d},$ and $a_{3}^{d}$\n",
    "are automatic. For $a_{4}^{d}$, observe that\n",
    "$$v(a_{1}^{2}a_{3}+2a_{1}a_{3}),v(4a_{2}a_{3}+3a_{3}^{2})\\geq\\frac{n+10}{2}$$\n",
    "and $v(4a_{4})=\\frac{n+8}{2}$. Thus, $v(a_{4}^{d})=\\frac{n+8}{2}$.\n",
    "\n",
    "The valuation for $a_{6}^{d}$ follows from the following equation, which is\n",
    "verified in the code below:\n",
    "$$\\frac{16a_{6}^{d}}{d^{3}}=P_{R,1}.$$\n",
    "\n",
    "With the claim established, we conclude **by Proposition 3.4 that $R^{d}=\\operatorname*{typ}(E^{d})=\\rm{I}_{n+4}^*$.**"
   ]
  },
  {
   "cell_type": "code",
   "execution_count": 66,
   "id": "bcbbfd",
   "metadata": {
    "collapsed": false
   },
   "outputs": [
    {
     "name": "stdout",
     "output_type": "stream",
     "text": [
      "a1^d= 0\n",
      "a2^d= (1/4) * d * (a1^2 + 4*a2 + 6*a3)\n",
      "a3^d= 0\n",
      "a4^d= (1/4) * d^2 * (a1^2*a3 + 2*a1*a3 + 4*a2*a3 + 3*a3^2 + 4*a4)\n",
      "a6^d= (1/16) * d^3 * (a1^2*a3^2 + 4*a1*a3^2 + 4*a2*a3^2 + 2*a3^3 + 4*a3^2 + 8*a3*a4 + 16*a6)\n",
      "True\n"
     ]
    }
   ],
   "source": [
    "print(ai_twist(F1Instar_1))\n",
    "print(16*F1Instar_1.a6()/d^3 == PInstar_1 )"
   ]
  },
  {
   "cell_type": "markdown",
   "id": "f4bb05",
   "metadata": {
    "collapsed": false
   },
   "source": [
    "**Case 7\\(xii\\):**  Suppose $n\\ge2$, $v(a_1) =1$, $v(n)=0$, and $v(P_{R,8})\\le n+7$. (In fact, it is shown below that this implies $v(P_{R,8})=n+7$.) Thus, $\\mathcal{V}(E)=(=1,=1,=\\frac{n+3}{2},\\frac{n+5}{2},n+3)$. We consider the model $F_{\\rm{I}_n^*,6}$ which is $\\mathbb{Q}_2$-isomorphic to $E^d$. The Weierstrass coefficients $a_i^d$ of $F_{\\rm{I}_n^*,6}$ are:\n",
    "\\begin{align*}\n",
    "a_1^d=& 0 \\\\\n",
    "a_2^d=& \\left(\\frac{1}{4}\\right) \\cdot d \\cdot (a_{1}^{2} + 4 a_{2} + 6 a_{3}) \\\\\n",
    "a_3^d=& a_{3} \\cdot d^{2} \\\\\n",
    "a_4^d=& \\left(\\frac{1}{4}\\right) \\cdot d^{2} \\cdot (a_{1}^{2} a_{3} + 2 a_{1} a_{3} + 4 a_{2} a_{3} + 3 a_{3}^{2} + 4 a_{4}) \\\\\n",
    "a_6^d=& \\left(-\\frac{1}{16}\\right) \\cdot d^{3} \\cdot (-a_{1}^{2} a_{3}^{2} - 4 a_{1} a_{3}^{2} - 4 a_{2} a_{3}^{2} - 2 a_{3}^{3} + 4 a_{3}^{2} d - 4 a_{3}^{2} - 8 a_{3} a_{4} - 16 a_{6}) \\\\\n",
    "\\end{align*}\n",
    "\n",
    "We claim that $\\mathcal{V}(F_{R,6})=\\left(  \\infty,=1,=\\frac{n+7}{2},\\frac{n+9}{2},n+7\\right)  $. The valuations for $a_{1}^{d},a_{2}^{d},$ and\n",
    "$a_{3}^{d}$ are automatic. For $a_{4}^{d}$, observe that\n",
    "$$v(a_{1}^{2}a_{3}+2a_{1}a_{3}),v(4a_{2}a_{3}+3a_{3}^{2}+4a_{4})\\geq\\frac{n+9}{2}.$$\n",
    "Thus, $v(a_{4}^{d})\\geq\\frac{n+9}{2}$. \n",
    "\n",
    "For $a_{6}^{d}$, we first consider\n",
    "$$P_{R,8}=a_{1}^{2}a_{3}^{2}+4a_{1}a_{3}^{2}+4a_{2}a_{3}^{2}+2a_{3}^{3}-4a_{3}^{2}d+4a_{3}^{2}+8a_{3}a_{4}+16a_{6}.$$\n",
    "Observe that $v(a_{1}^{2}a_{3}^{2}+4a_{3}^{2})=n+6$ since $\\frac{a_{1}^{2}+4}{4}\\equiv2\\ \\operatorname{mod}4$. Since $v(4a_{3}^{2}d)=n+6,$we have that\n",
    "$v(a_{1}^{2}a_{3}^{2}+4a_{3}^{2}-4a_{3}^{2}d)\\geq n+7.$ Moreover,\n",
    "$$v(4a_{1}a_{3}^{2}+4a_{2}a_{3}^{2}+2a_{3}^{3}+8a_{3}a_{4}+16a_{6})\\geq n+7.$$\n",
    "Thus, $v(P_{R,8})\\geq n+7$. It follows from our assumption that $v(P_{R,8})=n+7$. The code below verifies that%\n",
    "$$\\frac{16a_{6}^{d}}{d^{3}}=P_{R,9}=P_{R,8}-8a_{1}a_{3}^{2}-4a_{3}^{3}%\n",
    "-16a_{3}a_{4}.$$\n",
    "Since $v(8a_{1}a_{3}^{2}+4a_{3}^{3}+16a_{3}a_{4})=n+7$, we conclude that\n",
    "$v(P_{R,9})\\geq n+8$. Thus, $v(a_{6}^{d})\\geq n+7$. With the claim\n",
    "established, we conclude from **Proposition 3.2 that $R^{d}=\\operatorname*{typ}(E^{d})=\\rm{I}_{n+4}^*$.**"
   ]
  },
  {
   "cell_type": "code",
   "execution_count": 83,
   "id": "ee9b7d",
   "metadata": {
    "collapsed": false
   },
   "outputs": [
    {
     "name": "stdout",
     "output_type": "stream",
     "text": [
      "a1^d= 0\n",
      "a2^d= (-1/4) * d * (-a1^2 - 4*a2 + 6*a3)\n",
      "a3^d= a3 * d^2\n",
      "a4^d= (1/4) * d^2 * (-a1^2*a3 + 2*a1*a3 - 4*a2*a3 + 3*a3^2 + 4*a4)\n",
      "a6^d= (-1/16) * d^3 * (-a1^2*a3^2 + 4*a1*a3^2 - 4*a2*a3^2 + 2*a3^3 + 4*a3^2*d - 4*a3^2 + 8*a3*a4 - 16*a6)\n",
      "True\n",
      "True\n"
     ]
    },
    {
     "data": {
      "text/plain": [
       "a1^2*a3^2 + 4*a1*a3^2 + 4*a2*a3^2 + 2*a3^3 - 4*a3^2*d + 4*a3^2 + 8*a3*a4 + 16*a6"
      ]
     },
     "execution_count": 83,
     "metadata": {
     },
     "output_type": "execute_result"
    }
   ],
   "source": [
    "print(ai_twist(F1Instar_6))\n",
    "print(16*F1Instar_6.a6()/d^3 == PInstar_8 -8*a1*a3^2 - 4*a3^3 - 16*a3*a4 )\n",
    "print(16*F1Instar_6.a6()/d^3 == PInstar_9 )\n",
    "PInstar_8"
   ]
  },
  {
   "cell_type": "markdown",
   "id": "d0f964",
   "metadata": {
    "collapsed": false
   },
   "source": [
    "**Case 7\\(xiii\\):**  Suppose $n\\ge2$, $v(a_1) =1$, $v(n)=0$, and $v(P_{R,8})\\ge n+8$. Thus, $\\mathcal{V}(E)=(=1,=1,=\\frac{n+3}{2},\\frac{n+5}{2},n+3)$. We consider the model $F_{\\rm{I}_n^*,7}$ which is $\\mathbb{Q}_2$-isomorphic to $E^d$. The Weierstrass coefficients $a_i^d$ of $F_{\\rm{I}_n^*,7}$ are:\n",
    "\\begin{align*}\n",
    "a_1^d=& 0 \\\\\n",
    "a_2^d=& \\left(\\frac{1}{4}\\right) \\cdot d \\cdot (a_{1}^{2} + 4 a_{2} + 6 a_{3}) \\\\\n",
    "a_3^d=& a_{3} \\cdot d^{2} \\\\\n",
    "a_4^d=& \\left(\\frac{1}{4}\\right) \\cdot d^{2} \\cdot (a_{1}^{2} a_{3} + 2 a_{1} a_{3} + 4 a_{2} a_{3} + 3 a_{3}^{2} + 4 a_{4}) \\\\\n",
    "a_6^d=& \\left(-\\frac{1}{16}\\right) \\cdot d^{3} \\cdot (-a_{1}^{2} a_{3}^{2} - 4 a_{1} a_{3}^{2} - 4 a_{2} a_{3}^{2} - 2 a_{3}^{3} + 4 a_{3}^{2} d - 4 a_{3}^{2} - 8 a_{3} a_{4} - 16 a_{6}) \\\\\n",
    "\\end{align*}\n",
    "\n",
    "We claim that $\\mathcal{V}(F_{R,7})=\\left(  \\infty,=1,=\\frac{n+7}{2},\\frac{n+9}{2},n+7\\right)  $. The valuations for $a_{1}^{d},a_{2}^{d},$ and\n",
    "$a_{3}^{d}$ are automatic. For $a_{4}^{d}$, observe that\n",
    "$$v(a_{1}^{2}a_{3}+2a_{1}a_{3}),v(4a_{2}a_{3}+3a_{3}^{2}+4a_{4})\\geq\\frac\n",
    "{n+9}{2}.$$\n",
    "Thus, $v(a_{4}^{d})\\geq\\frac{n+9}{2}$. For $a_{6}^{d}$, the code below shows\n",
    "that\n",
    "$$\\frac{16a_{6}^{d}}{d^{3}}=P_{R,8}.$$\n",
    "It then follows from our assumption that $v(a_{6}^{d})\\geq n+7$. With the claim established, we conclude from **Proposition 3.2 that $R^{d}=\\operatorname*{typ}(E^{d})=\\rm{I}_{n+4}^*$.**"
   ]
  },
  {
   "cell_type": "code",
   "execution_count": 78,
   "id": "457235",
   "metadata": {
    "collapsed": false
   },
   "outputs": [
    {
     "name": "stdout",
     "output_type": "stream",
     "text": [
      "a1^d= 0\n",
      "a2^d= (1/4) * d * (a1^2 + 4*a2 + 6*a3)\n",
      "a3^d= a3 * d^2\n",
      "a4^d= (1/4) * d^2 * (a1^2*a3 + 2*a1*a3 + 4*a2*a3 + 3*a3^2 + 4*a4)\n",
      "a6^d= (-1/16) * d^3 * (-a1^2*a3^2 - 4*a1*a3^2 - 4*a2*a3^2 - 2*a3^3 + 4*a3^2*d - 4*a3^2 - 8*a3*a4 - 16*a6)\n",
      "True\n"
     ]
    }
   ],
   "source": [
    "print(ai_twist(F1Instar_7))\n",
    "print(16*F1Instar_7.a6()/d^3 == PInstar_8 )"
   ]
  },
  {
   "cell_type": "markdown",
   "id": "f6d58a",
   "metadata": {
    "collapsed": false
   },
   "source": [
    "**Case 7\\(xiv\\):**  Suppose $n\\ge6$, $v(a_1) \\ge2$, $v(n)\\ge 1$, and $v(a_1^2 + 4a_2 - 4d)=4$. Thus, $\\mathcal{V}(E)=(2,=1,\\frac{n+4}{2},=\\frac{n+4}{2},n+3)$. We consider the model $F_{\\rm{I}_n^*,2}$ which is $\\mathbb{Q}_2$-isomorphic to $E^d$. The Weierstrass coefficients $a_i^d$ of $F_{\\rm{I}_n^*,2}$ are:\n",
    "\\begin{align*}\n",
    "a_1^d=& d \\\\\n",
    "a_2^d=& \\left(-\\frac{1}{16}\\right) \\cdot d \\cdot (-a_{1}^{2} - 4 a_{2} + 4 d) \\\\\n",
    "a_3^d=& \\left(\\frac{1}{8}\\right) \\cdot a_{3} \\cdot d^{2} \\\\\n",
    "a_4^d=& \\left(-\\frac{1}{32}\\right) \\cdot d^{2} \\cdot (-a_{1} a_{3} + 2 a_{3} d - 2 a_{4}) \\\\\n",
    "a_6^d=& \\left(-\\frac{1}{256}\\right) \\cdot d^{3} \\cdot (a_{3}^{2} d - a_{3}^{2} - 4 a_{6}) \\\\\n",
    "\\end{align*}\n",
    "By inspection, $\\mathcal{V}(F_{R,2})=\\left(  =1,=1,\\frac{n+2}{2},=\\frac{n}{2},n-1\\right)  $. **By Proposition 3.2 that $R^{d}=\\operatorname*{typ}(E^{d})=\\rm{I}_{n-4}^*$.**"
   ]
  },
  {
   "cell_type": "code",
   "execution_count": 70,
   "id": "51c9f6",
   "metadata": {
    "collapsed": false
   },
   "outputs": [
    {
     "name": "stdout",
     "output_type": "stream",
     "text": [
      "a1^d= d\n",
      "a2^d= (-1/16) * d * (-a1^2 - 4*a2 + 4*d)\n",
      "a3^d= (1/8) * a3 * d^2\n",
      "a4^d= (-1/32) * d^2 * (-a1*a3 + 2*a3*d - 2*a4)\n",
      "a6^d= (-1/256) * d^3 * (a3^2*d - a3^2 - 4*a6)\n",
      "True\n"
     ]
    }
   ],
   "source": [
    "print(ai_twist(F1Instar_2))\n",
    "print(F1Instar_2.a6() == -1/256*d^3*PInstar_2)"
   ]
  },
  {
   "cell_type": "markdown",
   "id": "649246",
   "metadata": {
    "collapsed": false
   },
   "source": [
    "**Case 7\\(xv\\):**  Suppose $n\\ge6$, $v(a_1) \\ge2$, $v(n)=0$, and $v(a_1^2 + 4a_2 - 4d)=4$. Thus, $\\mathcal{V}(E)=(2,=1,=\\frac{n+3}{2},\\frac{n+5}{2},n+3)$. We consider the model $F_{\\rm{I}_n^*,8}$ which is $\\mathbb{Q}_2$-isomorphic to $E^d$. The Weierstrass coefficients $a_i^d$ of $F_{\\rm{I}_n^*,8}$ are:\n",
    "\\begin{align*}\n",
    "a_1^d=& 2 \\\\\n",
    "a_2^d=& \\left(\\frac{1}{16}\\right) \\cdot (a_{1}^{2} d + 4 a_{2} d + 6 a_{3} - 16) \\\\\n",
    "a_3^d=& \\left(\\frac{1}{4}\\right) \\cdot a_{3} \\\\\n",
    "a_4^d=& \\left(\\frac{1}{64}\\right) \\cdot (a_{1}^{2} a_{3} d + 2 a_{1} a_{3} d^{2} + 4 a_{2} a_{3} d + 4 a_{4} d^{2} + 3 a_{3}^{2} - 16 a_{3}) \\\\\n",
    "a_6^d=& \\left(\\frac{1}{1024}\\right) \\cdot (a_{1}^{2} a_{3}^{2} d + 4 a_{1} a_{3}^{2} d^{2} + 4 a_{3}^{2} d^{3} + 4 a_{2} a_{3}^{2} d + 8 a_{3} a_{4} d^{2} + 16 a_{6} d^{3} + 2 a_{3}^{3} - 16 a_{3}^{2}) \\\\\n",
    "\\end{align*}\n",
    "\n",
    "We claim that $\\mathcal{V}(F_{R,8})=\\left(  =1,=1,=\\frac{n-1}{2},\\frac{n+1}{2},n-1\\right)  $. Observe that from our assumptions, we obtain that\n",
    "$v(a_{1}^{2}d+4a_{2}d-4d^{2})=5$. Now obverve that\n",
    "\\begin{align*}\n",
    "16a_{2}^{d} &  =a_{1}^{2}d+4a_{2}d+6a_{3}-16\\\\\n",
    "&  =(a_{1}^{2}d+4a_{2}d-4d^{2})+(4d^{2}+6a_{3}-16).\n",
    "\\end{align*}\n",
    "Since $\\frac{1}{4}d^{2}-1\\equiv0\\ \\operatorname{mod}8$, we deduce that $v(4d^{2}+6a_{3}-16)\\geq6$. Consequently, $v(a_{2}^{d})=1$. We also have that\n",
    "$v(a_{3}^{d})=\\frac{n+3}{2}-2=\\frac{n-1}{2}$. Next, observe that\n",
    "\\begin{align*}\n",
    "v(a_{1}^{2}a_{3}d+2a_{1}a_{3}d^{2}+4a_{4}d^{2})  & \\geq\\frac{n+13}{2},\\\\\n",
    "v(4a_{2}a_{3}d)  & =v(16a_{3})=\\frac{n+11}{2},\\\\\n",
    "v(3a_{3}^{2})  & =n+3.\n",
    "\\end{align*}\n",
    "Thus, $v(4a_{2}a_{3}d+16a_{3})\\geq\\frac{n+13}{2}$. It follows that\n",
    "\\begin{align*}\n",
    "v(a_{4}^{d})  & =v(a_{1}^{2}a_{3}d+2a_{1}a_{3}d^{2}+4a_{2}a_{3}d+4a_{4}d^{2}+3a_{3}^{2}-16a_{3})-6\\\\\n",
    "& \\geq\\frac{n+13}{2}-6\\\\\n",
    "& =\\frac{n+1}{2}.\n",
    "\\end{align*}\n",
    "\n",
    "\n",
    "Since $v(16-4d^{2})\\geq7$, we have that the equality\n",
    "$$a_{1}^{2}d+4a_{2}d-4d^{2}=a_{1}^{2}d+4a_{2}d-16+16-4d^{2}$$\n",
    "implies that $v(a_{1}^{2}d+4a_{2}d-16)=5$ since $v(a_{1}^{2}d+4a_{2}\n",
    "d-4d^{2})=5$ by assumption. Consequently,\n",
    "$$v(a_{3}^{2}(a_{1}^{2}d+4a_{2}d-16))=n+8.$$\n",
    "Now observe that\n",
    "\\begin{align*}\n",
    "v(4a_{1}a_{3}^{2}d^{2}+8a_{3}a_{4}d^{2}+16a_{6}d^{3}+2a_{3}^{3})  & \\geq\n",
    "n+9,\\\\\n",
    "v(4a_{3}^{2}d^{3})  & =n+8.\n",
    "\\end{align*}\n",
    "Therefore,\n",
    "$$v(4a_{3}^{2}d^{3}+a_{1}^{2}a_{3}^{2}d++4a_{2}a_{3}^{2}d-16a_{3}^{2})\\geq n+9.$$\n",
    "It follows that\n",
    "\\begin{align*}\n",
    "v(1024a_{6}^{d})  & =v(a_{1}^{2}a_{3}^{2}d+4a_{1}a_{3}^{2}d^{2}+4a_{3}^{2}d^{3}+4a_{2}a_{3}^{2}d+8a_{3}a_{4}d^{2}+16a_{6}d^{3}+2a_{3}^{3}-16a_{3}^{2})\\\\\n",
    "& \\geq n+9.\n",
    "\\end{align*}\n",
    "Thus, $v(a_{6}^{d})\\geq n-1$, which establishes the claim. **By Proposition 3.2 that $R^{d}=\\operatorname*{typ}(E^{d})=\\rm{I}_{n-4}^*$.**"
   ]
  },
  {
   "cell_type": "code",
   "execution_count": 71,
   "id": "539b4f",
   "metadata": {
    "collapsed": false
   },
   "outputs": [
    {
     "name": "stdout",
     "output_type": "stream",
     "text": [
      "a1^d= 2\n",
      "a2^d= (1/16) * (a1^2*d + 4*a2*d + 6*a3 - 16)\n",
      "a3^d= (1/4) * a3\n",
      "a4^d= (1/64) * (a1^2*a3*d + 2*a1*a3*d^2 + 4*a2*a3*d + 4*a4*d^2 + 3*a3^2 - 16*a3)\n",
      "a6^d= (1/1024) * (a1^2*a3^2*d + 4*a1*a3^2*d^2 + 4*a3^2*d^3 + 4*a2*a3^2*d + 8*a3*a4*d^2 + 16*a6*d^3 + 2*a3^3 - 16*a3^2)\n",
      "True\n"
     ]
    }
   ],
   "source": [
    "print(ai_twist(F1Instar_8))\n",
    "print(F1Instar_8.a6() == 1/1024*PInstar_10)"
   ]
  },
  {
   "cell_type": "markdown",
   "id": "1195b6",
   "metadata": {
    "collapsed": false
   },
   "source": [
    "**Case 7\\(xvi\\):**  Suppose $n\\ge9$, $v(a_1) \\ge2$, $v(n)=0$, and $v(a_1^2 + 4a_2 - 4d)\\ge 5$. Thus, $\\mathcal{V}(E)=(2,=1,=\\frac{n+3}{2},\\frac{n+5}{2},n+3)$. We consider the model $F_{\\rm{I}_n^*,9}$ which is $\\mathbb{Q}_2$-isomorphic to $E^d$. The Weierstrass coefficients $a_i^d$ of $F_{\\rm{I}_n^*,9}$ are:\n",
    "\\begin{align*}\n",
    "a_1^d=& 1 \\\\\n",
    "a_2^d=& \\left(\\frac{1}{64}\\right) \\cdot (a_{1}^{2} d + 4 a_{2} d + 6 a_{3} - 16) \\\\\n",
    "a_3^d=& \\left(\\frac{1}{32}\\right) \\cdot a_{3} \\\\\n",
    "a_4^d=& \\left(\\frac{1}{1024}\\right) \\cdot (a_{1}^{2} a_{3} d + 2 a_{1} a_{3} d^{2} + 4 a_{2} a_{3} d + 4 a_{4} d^{2} + 3 a_{3}^{2} - 16 a_{3}) \\\\\n",
    "a_6^d=& \\left(\\frac{1}{65536}\\right) \\cdot (a_{1}^{2} a_{3}^{2} d + 4 a_{1} a_{3}^{2} d^{2} + 4 a_{3}^{2} d^{3} + 4 a_{2} a_{3}^{2} d + 8 a_{3} a_{4} d^{2} + 16 a_{6} d^{3} + 2 a_{3}^{3} - 16 a_{3}^{2}) \\\\\n",
    "\\end{align*}\n",
    "\n",
    "We claim that $\\mathcal{V}(F_{R,9})=\\left(  =0,0,=\\frac{n-7}{2},\\frac{n-7}{2},=n-8\\right) $. Observe that from our assumptions, we obtain that\n",
    "$v(a_{1}^{2}d+4a_{2}d-4d^{2})\\ge 6$. Now obverve that\n",
    "\\begin{align*}\n",
    "64a_{2}^{d} &  =a_{1}^{2}d+4a_{2}d+6a_{3}-16\\\\\n",
    "&  =(a_{1}^{2}d+4a_{2}d-4d^{2})+(4d^{2}+6a_{3}-16).\n",
    "\\end{align*}\n",
    "Since $\\frac{1}{4}d^{2}-1\\equiv0\\ \\operatorname{mod}8$, we deduce that $v(4d^{2}+6a_{3}-16)\\geq7$. Consequently, $v(a_{2}^{d})\\ge 0$. \n",
    "\n",
    "Now observe that\n",
    "$$v(a_{3}^{d})=\\frac{n+3}{2}-5=\\frac{n-7}{2}.$$\n",
    "\n",
    "\n",
    "For $v(a_{4}^{d})$, we note that $v(16-4d^{2})\\geq7$, and thus $v(16a_{3}-4a_{3}d^{2})\\geq\\frac{n+17}{2}$. Since $v(a_{1}^{2}+4a_{2}-4d)\\geq5$, we have\n",
    "that\n",
    "$$v(a_{1}^{2}a_{3}d+4a_{2}a_{3}d-4a_{3}d^{2})\\geq\\frac{n+15}{2}.$$\n",
    "From the equality\n",
    "$$a_{3}d(a_{1}^{2}+4a_{2}-4d)=a_{1}^{2}a_{3}d+4a_{2}a_{3}d-16a_{3}\n",
    "+16a_{3}-4a_{3}d^{2},$$\n",
    "we deduce that $v(a_{1}^{2}a_{3}d+4a_{2}a_{3}d-16a_{3})\\geq\\frac{n+15}{2}$.\n",
    "Now observe that\n",
    "$$v(2a_{1}a_{3}d^{2}+4a_{4}d^{2}+3a_{3}^{2})\\geq\\frac{n+13}{2}.$$\n",
    "Since\n",
    "$$a_{4}^{d}=\\!\\frac{1}{1024}(a_{1}^{2}a_{3}d+2a_{1}a_{3}d^{2}+4a_{2}\n",
    "a_{3}d+4a_{4}d^{2}+3a_{3}^{2}-16a_{3}),$$\n",
    "we conclude that\n",
    "$$v(a_{4}^{d})\\geq\\frac{n+13}{2}-10=\\frac{n-7}{2}.$$\n",
    "\n",
    "\n",
    "For $v(a_{6}^{d})$, we note that $v(16-4d^{2})\\geq7$, and thus $v(16a_{3}^{2}-4a_{3}^{2}d^{2})\\geq n+10$. Since $v(a_{1}^{2}+4a_{2}-4d)\\geq5$, we have\n",
    "that\n",
    "$$v(a_{1}^{2}a_{3}^{2}d+4a_{2}a_{3}^{2}d-4a_{3}^{2}d^{2})\\geq n+9.$$\n",
    "From the equality\n",
    "$$a_{3}^{2}d(a_{1}^{2}+4a_{2}-4d)=a_{1}^{2}a_{3}^{2}d+4a_{2}a_{3}^{2}\n",
    "d-16a_{3}^{2}+16a_{3}^{2}-4a_{3}^{2}d^{2}$$\n",
    "we deduce that $v(a_{1}^{2}a_{3}^{2}d+4a_{2}a_{3}^{2}d-16a_{3}^{2})\\geq n+9$.\n",
    "Now observe that $v(4a_{3}^{2}d^{3})=n+8$ and\n",
    "$$v(4a_{1}a_{3}^{2}d^{2}+8a_{3}a_{4}d^{2}+16a_{6}d^{3}+2a_{3}^{3})\\geq n+9.$$\n",
    "Thus,\n",
    "$$a_{6}^{d}=\\frac{1}{65536}(a_{1}^{2}a_{3}^{2}d+4a_{1}a_{3}^{2}d^{2}+4a_{3}^{2}d^{3}+4a_{2}a_{3}^{2}d+8a_{3}a_{4}d^{2}+16a_{6}d^{3}+2a_{3}^{3}-16a_{3}^{2}),$$\n",
    "implies that\n",
    "$$v(a_{6}^{d})=n+8-16=n-8.$$\n",
    "With the claim established, we conclude **by Proposition 3.2 that $R^{d}=\\operatorname*{typ}(E^{d})=\\rm{I}_{n-8}$.**"
   ]
  },
  {
   "cell_type": "code",
   "execution_count": 114,
   "id": "64043b",
   "metadata": {
    "collapsed": false
   },
   "outputs": [
    {
     "name": "stdout",
     "output_type": "stream",
     "text": [
      "a1^d= 1\n",
      "a2^d= (1/64) * (a1^2*d + 4*a2*d + 6*a3 - 16)\n",
      "a3^d= (1/32) * a3\n",
      "a4^d= (1/1024) * (a1^2*a3*d + 2*a1*a3*d^2 + 4*a2*a3*d + 4*a4*d^2 + 3*a3^2 - 16*a3)\n",
      "a6^d= (1/65536) * (a1^2*a3^2*d + 4*a1*a3^2*d^2 + 4*a3^2*d^3 + 4*a2*a3^2*d + 8*a3*a4*d^2 + 16*a6*d^3 + 2*a3^3 - 16*a3^2)\n"
     ]
    }
   ],
   "source": [
    "print(ai_twist(F1Instar_9))"
   ]
  },
  {
   "cell_type": "markdown",
   "id": "70c47a",
   "metadata": {
    "collapsed": false
   },
   "source": [
    "**Case 7\\(xvii\\):**  Suppose $n\\ge9$, $v(a_1) \\ge2$, $v(n)\\ge 1$, and $v(a_1^2 + 4a_2 - 4d)\\ge 5$. Thus, $\\mathcal{V}(E)=(2,=1,\\frac{n+4}{2},=\\frac{n+4}{2},n+3)$. We consider the model $F_{\\rm{I}_n^*,9}$ which is $\\mathbb{Q}_2$-isomorphic to $E^d$. The Weierstrass coefficients $a_i^d$ of $F_{\\rm{I}_n^*,9}$ are:\n",
    "\\begin{align*}\n",
    "a_1^d=& 1 \\\\\n",
    "a_2^d=& \\left(\\frac{1}{64}\\right) \\cdot (a_{1}^{2} d + 4 a_{2} d + 6 a_{3} - 16) \\\\\n",
    "a_3^d=& \\left(\\frac{1}{32}\\right) \\cdot a_{3} \\\\\n",
    "a_4^d=& \\left(\\frac{1}{1024}\\right) \\cdot (a_{1}^{2} a_{3} d + 2 a_{1} a_{3} d^{2} + 4 a_{2} a_{3} d + 4 a_{4} d^{2} + 3 a_{3}^{2} - 16 a_{3}) \\\\\n",
    "a_6^d=& \\left(\\frac{1}{65536}\\right) \\cdot (a_{1}^{2} a_{3}^{2} d + 4 a_{1} a_{3}^{2} d^{2} + 4 a_{3}^{2} d^{3} + 4 a_{2} a_{3}^{2} d + 8 a_{3} a_{4} d^{2} + 16 a_{6} d^{3} + 2 a_{3}^{3} - 16 a_{3}^{2}) \\\\\n",
    "\\end{align*}\n",
    "\n",
    "We claim that $\\mathcal{V}(F_{R,9})=\\left(  =0,0,\\frac{n-6}{2},=\\frac{n-8}{2},n-6\\right)  $. Observe that from our assumptions, we obtain that\n",
    "$v(a_{1}^{2}d+4a_{2}d-4d^{2})\\ge 6$. Now obverve that\n",
    "\\begin{align*}\n",
    "64a_{2}^{d} &  =a_{1}^{2}d+4a_{2}d+6a_{3}-16\\\\\n",
    "&  =(a_{1}^{2}d+4a_{2}d-4d^{2})+(4d^{2}+6a_{3}-16).\n",
    "\\end{align*}\n",
    "Since $\\frac{1}{4}d^{2}-1\\equiv0\\ \\operatorname{mod}8$, we deduce that $v(4d^{2}+6a_{3}-16)\\geq7$. Consequently, $v(a_{2}^{d})\\ge 0$. \n",
    "\n",
    "Now observe that\n",
    "$$v(a_{3}^{d})\\geq\\frac{n+4}{2}-5=\\frac{n-6}{2}.$$\n",
    "\n",
    "\n",
    "For $v(a_{4}^{d})$, we note that $v(16-4d^{2})\\geq7$, and thus $v(16a_{3}\n",
    "-4a_{3}d^{2})\\geq\\frac{n+18}{2}$. Since $v(a_{1}^{2}+4a_{2}-4d)\\geq5$, we have\n",
    "that\n",
    "$$v(a_{1}^{2}a_{3}d+4a_{2}a_{3}d-4a_{3}d^{2})\\geq\\frac{n+16}{2}.$$\n",
    "From the equality\n",
    "$$a_{3}d(a_{1}^{2}+4a_{2}-4d)=a_{1}^{2}a_{3}d+4a_{2}a_{3}d-16a_{3}+16a_{3}-4a_{3}d^{2},$$\n",
    "we deduce that $v(a_{1}^{2}a_{3}d+4a_{2}a_{3}d-16a_{3})\\geq\\frac{n+16}{2}$.\n",
    "Now observe that\n",
    "$$v(2a_{1}a_{3}d^{2}+3a_{3}^{2})\\geq\\frac{n+14}{2}\\text{ and }v(4a_{4}d^{2})=\\frac{n+12}{2}$$\n",
    "\n",
    "Since\n",
    "$$v(a_{4}^{d})=\\frac{1}{1024}(a_{1}^{2}a_{3}d+2a_{1}a_{3}d^{2}+4a_{2}a_{3}d+4a_{4}d^{2}+3a_{3}^{2}-16a_{3}),$$\n",
    "we conclude that\n",
    "$$v(a_{4}^{d})=\\frac{n+12}{2}-10=\\frac{n-8}{2}.$$\n",
    "\n",
    "\n",
    "For $v(a_{6}^{d})$, we note that $v(16-4d^{2})\\geq7$, and thus $v(16a_{3}\n",
    "^{2}-4a_{3}^{2}d^{2})\\geq n+11$. Since $v(a_{1}^{2}+4a_{2}-4d)\\geq5$, we have\n",
    "that\n",
    "$$v(a_{1}^{2}a_{3}^{2}d+4a_{2}a_{3}^{2}d-4a_{3}^{2}d^{2})\\geq n+10.$$\n",
    "From the equality\n",
    "$$a_{3}^{2}d(a_{1}^{2}+4a_{2}-4d)=a_{1}^{2}a_{3}^{2}d+4a_{2}a_{3}^{2}d-16a_{3}^{2}+16a_{3}^{2}-4a_{3}^{2}d^{2}$$\n",
    "we deduce that $v(a_{1}^{2}a_{3}^{2}d+4a_{2}a_{3}^{2}d-16a_{3}^{2})\\geq n+10$.\n",
    "Now observe that $v(4a_{3}^{2}d^{3})\\geq n+9$ and $v(8a_{3}a_{4}d^{2})\\geq\n",
    "n+9$. Note that equality occurs if and only if $v(a_{3})=\\frac{n+4}{2}$.\n",
    "Therefore,\n",
    "$$v(4a_{3}^{2}d^{3}+8a_{3}a_{4}d^{2})\\geq n+10.$$\n",
    "Since\n",
    "$$v(4a_{1}a_{3}^{2}d^{2}+16a_{6}d^{3}+2a_{3}^{3})\\geq n+10,$$\n",
    "$$a_{6}^{d}=\\frac{1}{65536}(a_{1}^{2}a_{3}^{2}d+4a_{1}a_{3}^{2}d^{2}+4a_{3}\n",
    "^{2}d^{3}+4a_{2}a_{3}^{2}d+8a_{3}a_{4}d^{2}+16a_{6}d^{3}+2a_{3}^{3}\n",
    "-16a_{3}^{2}),$$\n",
    "we conclude that\n",
    "$$v(a_{6}^{d})\\geq n+10-16=n-6.$$\n",
    "With the claim established, we conclude by **by Proposition 3.2 that $R^{d}=\\operatorname*{typ}(E^{d})=\\rm{I}_{n-8}$.**"
   ]
  },
  {
   "cell_type": "code",
   "execution_count": 115,
   "id": "3fa918",
   "metadata": {
    "collapsed": false
   },
   "outputs": [
    {
     "name": "stdout",
     "output_type": "stream",
     "text": [
      "a1^d= 1\n",
      "a2^d= (1/64) * (a1^2*d + 4*a2*d + 6*a3 - 16)\n",
      "a3^d= (1/32) * a3\n",
      "a4^d= (1/1024) * (a1^2*a3*d + 2*a1*a3*d^2 + 4*a2*a3*d + 4*a4*d^2 + 3*a3^2 - 16*a3)\n",
      "a6^d= (1/65536) * (a1^2*a3^2*d + 4*a1*a3^2*d^2 + 4*a3^2*d^3 + 4*a2*a3^2*d + 8*a3*a4*d^2 + 16*a6*d^3 + 2*a3^3 - 16*a3^2)\n"
     ]
    }
   ],
   "source": [
    "print(ai_twist(F1Instar_9))"
   ]
  },
  {
   "cell_type": "markdown",
   "id": "58eb48",
   "metadata": {
    "collapsed": false
   },
   "source": [
    "**Case 8:** Let $R=\\operatorname{typ}(E)=\\rm{IV}^*$. Then $\\mathcal{V}(E)=\\left(\n",
    "1,2,=2,3,4\\right)$. By Corollary 3.6,\n",
    "$$c=\\begin{cases} 1 &v(a_{6})=4,\\\\ 3\n",
    "&v(a_{6})\\ge 5.\\end{cases}$$\n",
    "\n",
    "In the paper, we only verify the local Tamagawa number $c^{d}$ of $E^{d}$. The subcases below, make reference to the polynomial, namely:\n",
    "\n",
    "$$\n",
    "P_{R,1}=a_{1}^{2} d^{2} + 2 a_{1} a_{3} d + 4 a_{2} d^{2} + 4 d^{3} + a_{3}^{2} + 4 a_{4} d + 4 a_{6} - 16 d\n",
    "$$\n",
    "\n",
    "For easy reference, we refer to $P_{R,1}$ by PIVstar\\_1 in our code below. We now consider the cases in order of appearance in Table 8. \n",
    "\n"
   ]
  },
  {
   "cell_type": "code",
   "execution_count": 2,
   "id": "f72895",
   "metadata": {
    "collapsed": false
   },
   "outputs": [
   ],
   "source": [
    "PIVstar_1 = a1^2*d^2+2*a1*a_3*d+4*a2*d^2+4*d^3+a3^2+4*a4*d+4*a6-16*d"
   ]
  },
  {
   "cell_type": "markdown",
   "id": "a23dc6",
   "metadata": {
    "collapsed": false
   },
   "source": [
    "**Case 8\\(i\\):**  Suppose $v(a_{1})=1$. Thus, $\\mathcal{V}(E)=(=1,2,=2,3,4)$. We consider the model $F_{\\rm{IV}^*,1}$ which is $\\mathbb{Q}_2$\\-isomorphic to $E^d$. The Weierstrass coefficients $a_i^d$ of $F_{\\rm{IV}^*,1}$ are (see below):\n",
    "\n",
    "\\begin{align*}\n",
    "a_1^d=& 0 \\\\\n",
    "a_2^d=& \\left(\\frac{1}{4}\\right) \\cdot d \\cdot (a_{1}^{2} + 4 a_{2} + 12 d) \\\\\n",
    "a_3^d=& \\left(4\\right) \\cdot d^{2} \\\\\n",
    "a_4^d=& \\left(\\frac{1}{2}\\right) \\cdot d^{2} \\cdot (a_{1}^{2} d + a_{1} a_{3} + 4 a_{2} d + 6 d^{2} + 2 a_{4}) \\\\\n",
    "a_6^d=& \\left(\\frac{1}{4}\\right) \\cdot d^{3} \\cdot (a_{1}^{2} d^{2} + 2 a_{1} a_{3} d + 4 a_{2} d^{2} + 4 d^{3} + a_{3}^{2} + 4 a_{4} d + 4 a_{6} - 16 d) \\\\\n",
    "\\end{align*}\n",
    "\n",
    "We claim that $\\mathcal{V}(F_{\\rm{IV}^*,1})=(\\infty, =1, =4, =4, 7\n",
    ")$. The valuations for $a_1^d$, $a_2^d$, and $a_3^d$ are automatic given conditions in $\\mathcal{V}(E)$ . For $a_4^d$, observe that each term appearing in $2a_4^d$ is divisible by 32 and $v_2(a_{1}^{2} d +a_{1} a_{3}  + 6 d^{2} )=3$ and  $v_2(  4 a_{2} d  + 2 a_{4})\\ge4$. Thus,$v(a_4^d)=4$. Now observe that\n",
    "\n",
    "\\begin{align*}\n",
    "&\\frac{a_{1}^{2}d^{2}+a_{3}^{2} }{4}  \\equiv2\\ \\operatorname{mod}4\\qquad\\Longrightarrow\n",
    "\\qquad v(a_{1}^{2} d^{2} + a_{3}^{2})=5,\\\\\n",
    "&v(2 a_{1} a_{3} d)  =5\\qquad\\Longrightarrow\\qquad v(a_{1}^{2} d^{2} + a_{3}^{2}+2 a_{1} a_{3} d)\\geq6,\\\\\n",
    "& v( 4 d^{3} -16 d) \\geq6, \\qquad v(4 a_{2} d^{2} + 4 a_{4} d + 4 a_{6} ) \\geq6.\n",
    "\\end{align*}\n",
    "\n",
    "Then it follows that \n",
    "\n",
    "$$\n",
    "v(a_{1}^{2} d^{2} + 2 a_{1} a_{3} d + 4 a_{2} d^{2} + 4 d^{3} + a_{3}^{2} + 4 a_{4} d + 4 a_{6} - 16 d)\\geq6.\n",
    "$$\n",
    "\n",
    "since \n",
    "\n",
    "\\begin{align*}\n",
    "\\frac{4a_{6}^{d}}{d^3}  & =a_{1}^{2} d^{2} + 2 a_{1} a_{3} d + 4 a_{2} d^{2} + 4 d^{3} + a_{3}^{2} + 4 a_{4} d + 4 a_{6} - 16 d\n",
    "& =P_{R,1,}\n",
    "\\end{align*}\n",
    "\n",
    "we conclude that $v(a_{6}^{d})\\geq7$. Thus, $\\mathcal{V}(F_{\\rm{IV}^*,1})=\\left(\\infty,=1,4,=4,7\\right)$. It follows by **Proposition 3.4 that** $R^{d}=\\operatorname*{typ}(E^{d})=\\rm{I}_{4}^{\\ast}$**.**\n",
    "\n"
   ]
  },
  {
   "cell_type": "code",
   "execution_count": 8,
   "id": "e558ff",
   "metadata": {
    "collapsed": false,
    "scrolled": true
   },
   "outputs": [
    {
     "name": "stdout",
     "output_type": "stream",
     "text": [
      "a1^d= 0\n",
      "a2^d= (1/4) * d * (a1^2 + 4*a2 + 12*d)\n",
      "a3^d= (4) * d^2\n",
      "a4^d= (1/2) * d^2 * (a1^2*d + a1*a3 + 4*a2*d + 6*d^2 + 2*a4)\n",
      "a6^d= (1/4) * d^3 * (a1^2*d^2 + 2*a1*a3*d + 4*a2*d^2 + 4*d^3 + a3^2 + 4*a4*d + 4*a6 - 16*d)\n"
     ]
    }
   ],
   "source": [
    "print(ai_twist(F1IVstar_1))"
   ]
  },
  {
   "cell_type": "markdown",
   "id": "97c267",
   "metadata": {
    "collapsed": false
   },
   "source": [
    "**Case 8\\(ii\\):**  Suppose $v(a_{1})\\ge 2$. Thus, $\\mathcal{V}(E)=(2,2,=2,3,4)$. We consider the model $F_{{\\rm IV}^*,0}$ which is $\\mathbb{Q}_2$\\-isomorphic to $E^d$. The Weierstrass coefficients $a_i^d$ of $F_{{\\rm IV}^*,0}$ are:\n",
    "\n",
    "\\begin{align*}\n",
    "a_1^d=& 0 \\\\\n",
    "a_2^d=& \\left(\\frac{1}{4}\\right) \\cdot d \\cdot (a_{1}^{2} + 4 a_{2}) \\\\\n",
    "a_3^d=& 0 \\\\\n",
    "a_4^d=& \\left(\\frac{1}{2}\\right) \\cdot d^{2} \\cdot (a_{1} a_{3} + 2 a_{4}) \\\\\n",
    "a_6^d=& \\left(\\frac{1}{4}\\right) \\cdot d^{3} \\cdot (a_{3}^{2} + 4 a_{6}) \\\\\n",
    "\\end{align*}\n",
    "\n",
    "\n",
    "It is easily verified that\n",
    "\n",
    "$$\\mathcal{V}(F_{{\\rm IV}^*,0})=(\\infty,3,\\infty,5,=5).$$\n",
    "\n",
    "**By Propostion 3.4, we conclude that $R^d=\\operatorname{typ}(E^d)=\\rm{II}^*$.**\n"
   ]
  },
  {
   "cell_type": "code",
   "execution_count": 13,
   "id": "c01fd8",
   "metadata": {
    "collapsed": false
   },
   "outputs": [
    {
     "name": "stdout",
     "output_type": "stream",
     "text": [
      "a1^d= 0\n",
      "a2^d= (1/4) * d * (a1^2 + 4*a2)\n",
      "a3^d= 0\n",
      "a4^d= (1/2) * d^2 * (a1*a3 + 2*a4)\n",
      "a6^d= (1/4) * d^3 * (a3^2 + 4*a6)\n"
     ]
    }
   ],
   "source": [
    "print(ai_twist(F1R0))"
   ]
  },
  {
   "cell_type": "markdown",
   "id": "dab254",
   "metadata": {
    "collapsed": false
   },
   "source": [
    "**Case 9:** Let $R=\\operatorname{typ}(E)=\\rm{III}^*$. Then $\\mathcal{V}(E)=\\left(  1,2,3,=3,5\\right)$.\n",
    "\n",
    "In the paper, we only verify the local Tamagawa number $c^{d}$ of $E^{d}$. The subcases below, make reference to the polynomial, namely:\n",
    "\n",
    "$$\n",
    "P_{R,1}= a_{1}^{2} a_{3}^{2} + 4 a_{1} a_{3}^{2} + 4 a_{2} a_{3}^{2} + 2 a_{3}^{3} + 4 a_{3}^{2} + 8 a_{3} a_{4} + 16 a_{6}\n",
    "$$\n",
    "$$\n",
    "P_{R,2}=  a_{1}^{2} a_{3}^{2} + 4 a_{1} a_{3}^{2} + 4 a_{2} a_{3}^{2} + 2 a_{3}^{3} + 4 a_{3}^{2} + 8 a_{3} a_{4} + 16 a_{6} - 256 d\n",
    "$$\n",
    "\n",
    "For easy reference, we refer to $P_{R,i}$ by PIIIstar\\_i in our code below. We now consider the cases in order of appearance in Table 8. \n"
   ]
  },
  {
   "cell_type": "code",
   "execution_count": 18,
   "id": "817b24",
   "metadata": {
    "collapsed": false
   },
   "outputs": [
   ],
   "source": [
    "PIIIstar_1 = a1^2*a3^2 + 4*a1*a3^2 + 4*a2*a3^2 + 2*a3^3 + 4*a3^2 + 8*a3*a4 + 16*a6\n",
    "PIIIstar_2 = a1^2*a3^2 + 4*a1*a3^2 + 4*a2*a3^2 + 2*a3^3 + 4*a3^2 + 8*a3*a4 + 16*a6- 256*d"
   ]
  },
  {
   "cell_type": "markdown",
   "id": "eaa10b",
   "metadata": {
    "collapsed": false
   },
   "source": [
    "**Case 9\\(i\\):**  Suppose $v(a_{1})=1$ and $v(P_{R,1})=9$. Thus, $\\mathcal{V}(E)=\\left(=1,2,3,=3,5\\right)$. We consider the model $F_{\\rm{III}^*,1}$ which is $\\mathbb{Q}_2$\\-isomorphic to $E^d$. The Weierstrass coefficients $a_i^d$ of $F_{\\rm{III}^*,1}$ are \\(see below\\):\n",
    "\n",
    "\\begin{align*}\n",
    "a_1^d=& 0 \\\\\n",
    "a_2^d=& \\left(\\frac{1}{4}\\right) \\cdot d \\cdot (a_{1}^{2} + 4 a_{2} + 6 a_{3}) \\\\\n",
    "a_3^d=& \\left(8\\right) \\cdot d^{2} \\\\\n",
    "a_4^d=& \\left(\\frac{1}{4}\\right) \\cdot d^{2} \\cdot (a_{1}^{2} a_{3} + 2 a_{1} a_{3} + 4 a_{2} a_{3} + 3 a_{3}^{2} + 4 a_{4}) \\\\\n",
    "a_6^d=& \\left(-\\frac{1}{16}\\right) \\cdot d^{3} \\cdot (-a_{1}^{2} a_{3}^{2} - 4 a_{1} a_{3}^{2} - 4 a_{2} a_{3}^{2} - 2 a_{3}^{3} - 4 a_{3}^{2} - 8 a_{3} a_{4} - 16 a_{6} + 256 d) \\\\\n",
    "\\end{align*}\n",
    "\n",
    "We claim that $\\mathcal{V}(F_{\\rm{III}^*,1})=\\left(\\infty,=1,=5,=5,9\\right)$. The valuations for $a_1^d$, $a_2^d$, and $a_3^d$ are automatic given conditions in $\\mathcal{V}(E)$ . For $a_4^d$, observe that  $v_2(\\frac{4a_4^d}{d^2})=5$ since $v_2(4 a_{4} )=5$ and  $v_2( a_{1}^{2} a_{3} + 2 a_{1} a_{3} + 4 a_{2} a_{3} + 3 a_{3}^{2})\\ge6$. Now observe that\n",
    "\n",
    "\\begin{align*}\n",
    "\\frac{16 a_{6}^{d}}{d^3}  & =a_{1}^{2} a_{3}^{2} + 4 a_{1} a_{3}^{2} + 4 a_{2} a_{3}^{2} + 2 a_{3}^{3} + 4 a_{3}^{2} + 8 a_{3} a_{4} + 16 a_{6} - 256 d\n",
    "& =P_{R,2.}\n",
    "\\end{align*}\n",
    "\n",
    "Then we conclude that $v(a_{6}^{d})\\geq9$ since $v_2(P_{R,2,})=v_2(P_{R,1,}- 256 d)\\ge 10$. Thus,  $\\mathcal{V}(F_{\\rm{III}^*,1})=\\left(\\infty,=1,=5,=5,9\\right)$. It follows by **Proposition 3.4 that** $R^{d}=\\operatorname*{typ}(E^{d})=\\rm{I}_{6}^{\\ast}$**.**\n",
    "\n"
   ]
  },
  {
   "cell_type": "code",
   "execution_count": 19,
   "id": "8a8830",
   "metadata": {
    "collapsed": false
   },
   "outputs": [
    {
     "name": "stdout",
     "output_type": "stream",
     "text": [
      "a1^d= 0\n",
      "a2^d= (1/4) * d * (a1^2 + 4*a2 + 6*a3)\n",
      "a3^d= (8) * d^2\n",
      "a4^d= (1/4) * d^2 * (a1^2*a3 + 2*a1*a3 + 4*a2*a3 + 3*a3^2 + 4*a4)\n",
      "a6^d= (-1/16) * d^3 * (-a1^2*a3^2 - 4*a1*a3^2 - 4*a2*a3^2 - 2*a3^3 - 4*a3^2 - 8*a3*a4 - 16*a6 + 256*d)\n",
      "True\n",
      "True\n"
     ]
    }
   ],
   "source": [
    "print(ai_twist(F1IIIstar_1))\n",
    "print(16*F1IIIstar_1.a6()/d^3 == PIIIstar_1 - 256*d)\n",
    "print(16*F1IIIstar_1.a6()/d^3 == PIIIstar_2)"
   ]
  },
  {
   "cell_type": "markdown",
   "id": "75772f",
   "metadata": {
    "collapsed": false
   },
   "source": [
    "**Case 9\\(ii\\):**  Suppose $v(a_{1})=1$ and $v(P_{R,1})\\geq 10$. Thus, $\\mathcal{V}(E)=\\left(=1,2,3,=3,5\\right)$. We consider the model $F_{\\rm{III}^*,2}$ which is $\\mathbb{Q}_2$\\-isomorphic to $E^d$. The Weierstrass coefficients $a_i^d$ of $F_{\\rm{III}^*,2}$ are \\(see below\\):\n",
    "\n",
    "\\begin{align*}\n",
    "a_1^d=& 0 \\\\\n",
    "a_2^d=& \\left(\\frac{1}{4}\\right) \\cdot d \\cdot (a_{1}^{2} + 4 a_{2} + 6 a_{3}) \\\\\n",
    "a_3^d=& 0 \\\\\n",
    "a_4^d=& \\left(\\frac{1}{4}\\right) \\cdot d^{2} \\cdot (a_{1}^{2} a_{3} + 2 a_{1} a_{3} + 4 a_{2} a_{3} + 3 a_{3}^{2} + 4 a_{4}) \\\\\n",
    "a_6^d=& \\left(\\frac{1}{16}\\right) \\cdot d^{3} \\cdot (a_{1}^{2} a_{3}^{2} + 4 a_{1} a_{3}^{2} + 4 a_{2} a_{3}^{2} + 2 a_{3}^{3} + 4 a_{3}^{2} + 8 a_{3} a_{4} + 16 a_{6}) \\\\\n",
    "\\end{align*}\n",
    "\n",
    "We claim that $\\mathcal{V}(F_{\\rm{III}^*,1})=\\left(\\infty,=1,\\infty,=5,9\\right)$. The valuations for $a_1^d$, $a_2^d$, and $a_3^d$ are automatic given conditions in $\\mathcal{V}(E)$ . For $a_4^d$, observe that  $v_2(\\frac{4a_4^d}{d^2})=5$ since $v_2(4 a_{4} )=5$ and  $v_2( a_{1}^{2} a_{3} + 2 a_{1} a_{3} + 4 a_{2} a_{3} + 3 a_{3}^{2})\\ge6$. Now observe that\n",
    "\n",
    "\\begin{align*}\n",
    "\\frac{16 a_{6}^{d}}{d^3}  & =a_{1}^{2} a_{3}^{2} + 4 a_{1} a_{3}^{2} + 4 a_{2} a_{3}^{2} + 2 a_{3}^{3} + 4 a_{3}^{2} + 8 a_{3} a_{4} + 16 a_{6} \n",
    "& =P_{R,1.}\n",
    "\\end{align*}\n",
    "\n",
    "Then we conclude that $v(a_{6}^{d})\\geq9$. Thus,  $\\mathcal{V}(F_{\\rm{III}^*,1})=\\left(\\infty,=1,\\infty,=5,9\\right)$. It follows by **Proposition 3.4 that** $R^{d}=\\operatorname*{typ}(E^{d})=\\rm{I}_{6}^{\\ast}$**.**\n",
    "\n"
   ]
  },
  {
   "cell_type": "code",
   "execution_count": 21,
   "id": "08cb16",
   "metadata": {
    "collapsed": false
   },
   "outputs": [
    {
     "name": "stdout",
     "output_type": "stream",
     "text": [
      "a1^d= 0\n",
      "a2^d= (1/4) * d * (a1^2 + 4*a2 + 6*a3)\n",
      "a3^d= 0\n",
      "a4^d= (1/4) * d^2 * (a1^2*a3 + 2*a1*a3 + 4*a2*a3 + 3*a3^2 + 4*a4)\n",
      "a6^d= (1/16) * d^3 * (a1^2*a3^2 + 4*a1*a3^2 + 4*a2*a3^2 + 2*a3^3 + 4*a3^2 + 8*a3*a4 + 16*a6)\n",
      "True\n"
     ]
    }
   ],
   "source": [
    "print(ai_twist(F1IIIstar_2))\n",
    "print(16*F1IIIstar_2.a6()/d^3 == PIIIstar_1)"
   ]
  },
  {
   "cell_type": "markdown",
   "id": "7f4e40",
   "metadata": {
    "collapsed": false
   },
   "source": [
    "**Case 9\\(iii\\):**  Suppose $v(a_{1})\\geq2$ and $v(a_{3})=3$. Thus, $\\mathcal{V}(E)=\\left(2,2,=3,=3,5\\right)$. We consider the model $F_{\\rm{III}^*,3}$ which is $\\mathbb{Q}_2$\\-isomorphic to $E^d$. The Weierstrass coefficients $a_i^d$ of $F_{\\rm{III}^*,3}$ are \\(see below\\):\n",
    "\n",
    "\\begin{align*}\n",
    "a_1^d=& 0 \\\\\n",
    "a_2^d=& \\left(\\frac{1}{16}\\right) \\cdot d \\cdot (a_{1}^{2} + 4 a_{2}) \\\\\n",
    "a_3^d=& 0 \\\\\n",
    "a_4^d=& \\left(\\frac{1}{32}\\right) \\cdot d^{2} \\cdot (a_{1} a_{3} + 2 a_{4}) \\\\\n",
    "a_6^d=& \\left(\\frac{1}{256}\\right) \\cdot d^{3} \\cdot (a_{3}^{2} + 4 a_{6}) \\\\\n",
    "\\end{align*}\n",
    "\n",
    "Note that $v(\\frac{32a_4^d}{d^2})=4$ and  $v(\\frac{256a_6^d}{d^3})=6$. Then  $\\mathcal{V}(F_{\\rm{III}^*,3})=\\left(  \\infty,1,\\infty,=1,=1\\right) $. It follows by **Proposition 3.4 that** $R^{d}=\\operatorname*{typ}(E^{d})=\\rm{II}$**.**\n",
    "\n"
   ]
  },
  {
   "cell_type": "code",
   "execution_count": 24,
   "id": "2448b4",
   "metadata": {
    "collapsed": false
   },
   "outputs": [
    {
     "name": "stdout",
     "output_type": "stream",
     "text": [
      "a1^d= 0\n",
      "a2^d= (1/16) * d * (a1^2 + 4*a2)\n",
      "a3^d= 0\n",
      "a4^d= (1/32) * d^2 * (a1*a3 + 2*a4)\n",
      "a6^d= (1/256) * d^3 * (a3^2 + 4*a6)\n"
     ]
    }
   ],
   "source": [
    "print(ai_twist(F1IIIstar_3))"
   ]
  },
  {
   "cell_type": "markdown",
   "id": "fcba5d",
   "metadata": {
    "collapsed": false
   },
   "source": [
    "**Case 9\\(iv\\):**  Suppose $v(a_{1})\\geq2$ and $v(a_{3})\\geq 4$. Thus, $\\mathcal{V}(E)=\\left(2,2,4,=3,5\\right)$. We consider the model $F_{\\rm{III}^*,3}$ which is $\\mathbb{Q}_2$\\-isomorphic to $E^d$. The Weierstrass coefficients $a_i^d$ of $F_{\\rm{III}^*,3}$ are \\(see below\\):\n",
    "\n",
    "\\begin{align*}\n",
    "a_1^d=& 0 \\\\\n",
    "a_2^d=& \\left(\\frac{1}{16}\\right) \\cdot d \\cdot (a_{1}^{2} + 4 a_{2}) \\\\\n",
    "a_3^d=& 0 \\\\\n",
    "a_4^d=& \\left(\\frac{1}{32}\\right) \\cdot d^{2} \\cdot (a_{1} a_{3} + 2 a_{4}) \\\\\n",
    "a_6^d=& \\left(\\frac{1}{256}\\right) \\cdot d^{3} \\cdot (a_{3}^{2} + 4 a_{6}) \\\\\n",
    "\\end{align*}\n",
    "\n",
    "\n",
    "Note that $v(\\frac{32a_4^d}{d^2})=4$ and  $v(\\frac{256a_6^d}{d^3})=7$. Then  $\\mathcal{V}(F_{\\rm{III}^*,3})=\\left(  \\infty,1,\\infty,=1,2\\right)$. It follows by **Proposition 3.4 that** $R^{d}=\\operatorname*{typ}(E^{d})=\\rm{III}$**.**\n",
    "\n"
   ]
  },
  {
   "cell_type": "markdown",
   "id": "878a22",
   "metadata": {
    "collapsed": false
   },
   "source": [
    "**Case 10:** Let $R=\\operatorname{typ}(E)=\\rm{II}^*$. Then $\\mathcal{V}(E)=\\left(  1,2,3,4,=5\\right)$.\n",
    "\n",
    "In the paper, we only verify the local Tamagawa number $c^{d}$ of $E^{d}$. The subcases below, make reference to the following polynomials, namely:\n",
    "\n",
    "\\begin{align*}\n",
    "P_{R,1}&= a_1^2a_3^2 + 4a_1a_3^2 + 4a_2a_3^2 + 2A_3^3 + 4a_3^2 + 8a_3a_4 + 16a_6 - 256d\\\\\n",
    "P_{R,2}&= a_1^2a_3^2 + 16a_1^2a_3d + 64a_1^2d^2 + 4a_1a_3^2 + 4a_2a_3^2 + 2a_3^3 + 32a_1a_3d + 64a_2a_3d + 48a_3^2d + 256a_2d^2 + 384a_3d^2 + 1024d^3 + 4a_3^2 + 8a_3a_4 + 64a_4d + 16a_6 - 256d\\\\\n",
    "P_{R,3}&= a_{1}^{2} a_{4}^{2} + 8 a_{1} a_{3} a_{4} + 4 a_{2} a_{4}^{2} + a_{4}^{3} + 16 a_{3}^{2} + 16 a_{4}^{2} + 64 a_{6} - 1024 d\\\\\n",
    "P_{R,4}&=a_{1}^{2} + 4 a_{2} + 3 a_{4}\n",
    "\\end{align*}\n",
    "\n",
    "\n",
    "\n",
    "For easy reference, we refer to $P_{R,i}$ by PIIstar\\_i in our code below. We now consider the cases in order of appearance in Table 8. \n",
    "\n"
   ]
  },
  {
   "cell_type": "code",
   "execution_count": 4,
   "id": "b1ce85",
   "metadata": {
    "collapsed": false
   },
   "outputs": [
   ],
   "source": [
    "PIIstar_1 = a1^2*a3^2 + 4*a1*a3^2 + 4*a2*a3^2 + 2*a3^3 + 4*a3^2 + 8*a3*a4 + 16*a6 - 256*d\n",
    "\n",
    "PIIstar_2 = a1^2*a3^2 + 16*a1^2*a3*d + 64*a1^2*d^2 + 4*a1*a3^2 + 4*a2*a3^2 + 2*a3^3 + 32*a1*a3*d + 64*a2*a3*d + 48*a3^2*d + 256*a2*d^2 + 384*a3*d^2 + 1024*d^3 + 4*a3^2 + 8*a3*a4 + 64*a4*d + 16*a6 - 256*d\n",
    "\n",
    "PIIstar_3 = a1^2*a4^2 + 8*a1*a3*a4 + 4*a2*a4^2 + a4^3 + 16*a3^2 + 16*a4^2 + 64*a6 - 1024*d\n",
    "\n",
    "PIIstar_4 = a1^2 + 4*a2 + 3*a4"
   ]
  },
  {
   "cell_type": "markdown",
   "id": "b2ee66",
   "metadata": {
    "collapsed": false
   },
   "source": [
    "**Case 10\\(i\\):**  Suppose $v(a_{1})=1$ and $v(P_{R,1})=10$. Thus, $\\mathcal{V}(E)=\\left(=1,2,3,4,=5\\right)$. We consider the model $F_{\\rm{II}^*,1}$ which is $\\mathbb{Q}_2$\\-isomorphic to $E^d$. The Weierstrass coefficients $a_i^d$ of $F_{\\rm{II}^*,1}$ are \\(see below\\):\n",
    "\n",
    "\\begin{align*}\n",
    "a_1^d=& 0 \\\\\n",
    "a_2^d=& \\left(\\frac{1}{4}\\right) \\cdot d \\cdot (a_{1}^{2} + 4 a_{2} + 6 a_{3} + 48 d) \\\\\n",
    "a_3^d=& \\left(8\\right) \\cdot d^{2} \\\\\n",
    "a_4^d=& \\left(\\frac{1}{4}\\right) \\cdot d^{2} \\cdot (a_{1}^{2} a_{3} + 8 a_{1}^{2} d + 2 a_{1} a_{3} + 4 a_{2} a_{3} + 3 a_{3}^{2} + 32 a_{2} d + 48 a_{3} d + 192 d^{2} + 4 a_{4}) \\\\\n",
    "a_6^d=& \\left(\\frac{1}{16}\\right) \\cdot d^{3} \\cdot (a_{1}^{2} a_{3}^{2} + 16 a_{1}^{2} a_{3} d + 64 a_{1}^{2} d^{2} + 4 a_{1} a_{3}^{2} + 4 a_{2} a_{3}^{2} + 2 a_{3}^{3} + 32 a_{1} a_{3} d + 64 a_{2} a_{3} d + 48 a_{3}^{2} d + 256 a_{2} d^{2} + 384 a_{3} d^{2} + 1024 d^{3} + 4 a_{3}^{2} + 8 a_{3} a_{4} + 64 a_{4} d + 16 a_{6} - 256 d) \\\\\n",
    "\\end{align*}\n",
    "\n",
    "We claim that $\\mathcal{V}(F_{\\rm{II}^*,1})=\\left(\\infty,=1,=5,6,10\\right)$. The valuations for $a_1^d$, $a_2^d$, and $a_3^d$ are automatic given conditions in $\\mathcal{V}(E)$ . For $a_4^d$, observe that  each terms in $\\frac{4a_4^d}{d^2}$ is divisible by 64 except for $a_{1}^{2} a_{3}$ and $2 a_{1} a_{3}$. But, $v_2(a_{1}^{2} a_{3}+2 a_{1} a_{3})\\geq 6$. Hence,  $v(\\frac{4a_4^d}{d^2})\\geq6$, i.e.,  $v(a_4^d)\\geq6$.\n",
    "\n",
    "Now observe that (verified below)\n",
    "\n",
    "\\begin{align*}\n",
    "\\frac{16 a_{6}^{d}}{d^3}  & =P_{R,2}\n",
    "& = P_{R,1} + 16 d Q,\n",
    "\\end{align*}\n",
    "\n",
    "where $Q=a_{1}^{2} a_{3} + 4 a_{1}^{2} d + 2 a_{1} a_{3} + 4 a_{2} a_{3} + 3 a_{3}^{2} + 16 a_{2} d + 24 a_{3} d + 64 d^{2} + 4 a_{4}$.\n",
    "\n",
    "Note that each term in $Q$ is divisible by $64$ except for the terms $a_{1}^{2} a_{3}$,   $4 a_{1}^{2} d$, $2 a_{1} a_{3}$. Now, $v(a_{1}^{2} a_{3}+2 a_{1} a_{3})\\geq 6$. Hence, $v(Q)=5$. Consequently, $v(P_{R,1}) =10$ if and only if $v(P_{R,2}) \\geq 11$.\n",
    "\n",
    "Then we conclude that $v(a_{6}^{d})\\geq10$ since $v_2(P_{R,1})=10$. Thus,  $\\mathcal{V}(F_{\\rm{II}^*,1})=\\left(\\infty,=1,=5,6,10\\right)$. It follows by **Proposition 3.4 that** $R^{d}=\\operatorname*{typ}(E^{d})=\\rm{I}_{7}^{\\ast}$**.**\n",
    "\n"
   ]
  },
  {
   "cell_type": "code",
   "execution_count": 54,
   "id": "d9986c",
   "metadata": {
    "collapsed": false
   },
   "outputs": [
    {
     "name": "stdout",
     "output_type": "stream",
     "text": [
      "a1^d= 0\n",
      "a2^d= (1/4) * d * (a1^2 + 4*a2 + 6*a3 + 48*d)\n",
      "a3^d= (8) * d^2\n",
      "a4^d= (1/4) * d^2 * (a1^2*a3 + 8*a1^2*d + 2*a1*a3 + 4*a2*a3 + 3*a3^2 + 32*a2*d + 48*a3*d + 192*d^2 + 4*a4)\n",
      "a6^d= (1/16) * d^3 * (a1^2*a3^2 + 16*a1^2*a3*d + 64*a1^2*d^2 + 4*a1*a3^2 + 4*a2*a3^2 + 2*a3^3 + 32*a1*a3*d + 64*a2*a3*d + 48*a3^2*d + 256*a2*d^2 + 384*a3*d^2 + 1024*d^3 + 4*a3^2 + 8*a3*a4 + 64*a4*d + 16*a6 - 256*d)\n",
      "True\n",
      "True\n"
     ]
    }
   ],
   "source": [
    "print(ai_twist(F1IIstar_1))\n",
    "print(16*F1IIstar_1.a6()/d^3 == PIIstar_2)\n",
    "Q= a1^2*a3 + 4*a1^2*d + 2*a1*a3 + 4*a2*a3 + 3*a3^2 + 16*a2*d + 24*a3*d + 64*d^2 + 4*a4\n",
    "print(PIIstar_2 == PIIstar_1 + 16*d*Q)"
   ]
  },
  {
   "cell_type": "markdown",
   "id": "b2e7a7",
   "metadata": {
    "collapsed": false
   },
   "source": [
    "**Case 10\\(ii\\):**  Suppose $v(a_{1})=1$ and $v(P_{R,1})\\geq 11$. Thus, $\\mathcal{V}(E)=\\left(=1,2,3,4,=5\\right)$. We consider the model $F_{\\rm{II}^*,2}$ which is $\\mathbb{Q}_2$\\-isomorphic to $E^d$. The Weierstrass coefficients $a_i^d$ of $F_{\\rm{II}^*,2}$ are \\(see below\\):\n",
    "\n",
    "\\begin{align*}\n",
    "a_1^d=& 0 \\\\\n",
    "a_2^d=& \\left(\\frac{1}{4}\\right) \\cdot d \\cdot (a_{1}^{2} + 4 a_{2} + 6 a_{3}) \\\\\n",
    "a_3^d=& \\left(8\\right) \\cdot d^{2} \\\\\n",
    "a_4^d=& \\left(\\frac{1}{4}\\right) \\cdot d^{2} \\cdot (a_{1}^{2} a_{3} + 2 a_{1} a_{3} + 4 a_{2} a_{3} + 3 a_{3}^{2} + 4 a_{4}) \\\\\n",
    "a_6^d=& \\left(-\\frac{1}{16}\\right) \\cdot d^{3} \\cdot (-a_{1}^{2} a_{3}^{2} - 4 a_{1} a_{3}^{2} - 4 a_{2} a_{3}^{2} - 2 a_{3}^{3} - 4 a_{3}^{2} - 8 a_{3} a_{4} - 16 a_{6} + 256 d) \\\\\n",
    "\\end{align*}\n",
    "\n",
    "We claim that $\\mathcal{V}(F_{\\rm{II}^*,1})=\\left(\\infty,=1,=5,6,10\\right)$. The valuations for $a_1^d$, $a_2^d$, and $a_3^d$ are automatic given conditions in $\\mathcal{V}(E)$ . For $a_4^d$, observe that  each terms in $\\frac{4a_4^d}{d^2}$ is divisible by 64 except for $a_{1}^{2} a_{3}$ and $2 a_{1} a_{3}$. But, $v_2(a_{1}^{2} a_{3}+2 a_{1} a_{3})\\geq 6$. Hence,  $v(\\frac{4a_4^d}{d^2})\\geq6$, i.e.,  $v(a_4^d)\\geq6$.\n",
    "\n",
    "Now observe that (verified below)\n",
    "\n",
    "\\begin{align*}\n",
    "\\frac{16 a_{6}^{d}}{d^3}  & =P_{R,1}\n",
    "\\end{align*}\n",
    "\n",
    "Then we conclude that $v(a_{6}^{d})\\geq10$ since $v_2(P_{R,1})\\geq11$. Thus,  $\\mathcal{V}(F_{\\rm{II}^*,1})=\\left(\\infty,=1,=5,6,10\\right)$. It follows by **Proposition 3.4 that** $R^{d}=\\operatorname*{typ}(E^{d})=\\rm{I}_{7}^{\\ast}$**.**\n",
    "\n"
   ]
  },
  {
   "cell_type": "code",
   "execution_count": 53,
   "id": "96f9e6",
   "metadata": {
    "collapsed": false
   },
   "outputs": [
    {
     "name": "stdout",
     "output_type": "stream",
     "text": [
      "a1^d= 0\n",
      "a2^d= (1/4) * d * (a1^2 + 4*a2 + 6*a3)\n",
      "a3^d= (8) * d^2\n",
      "a4^d= (1/4) * d^2 * (a1^2*a3 + 2*a1*a3 + 4*a2*a3 + 3*a3^2 + 4*a4)\n",
      "a6^d= (-1/16) * d^3 * (-a1^2*a3^2 - 4*a1*a3^2 - 4*a2*a3^2 - 2*a3^3 - 4*a3^2 - 8*a3*a4 - 16*a6 + 256*d)\n",
      "True\n"
     ]
    }
   ],
   "source": [
    "print(ai_twist(F1IIstar_2))\n",
    "print(16*F1IIstar_2.a6()/d^3 == PIIstar_1)"
   ]
  },
  {
   "cell_type": "markdown",
   "id": "b45979",
   "metadata": {
    "collapsed": false
   },
   "source": [
    "**Case 10\\(iii\\):**  Suppose $v(a_{1})\\ge 2$ and $v(a_{3})=3$. Thus, $\\mathcal{V}(E)=\\left(2,2,=3,4,=5\\right)$. We consider the model $F_{\\rm{II}^*,3}$ which is $\\mathbb{Q}_2$\\-isomorphic to $E^d$. The Weierstrass coefficients $a_i^d$ of $F_{\\rm{II}^*,3}$ are \\(see below\\):\n",
    "\n",
    "\\begin{align*}\n",
    "a_1^d=& 0 \\\\\n",
    "a_2^d=& \\left(\\frac{1}{16}\\right) \\cdot d \\cdot (a_{1}^{2} + 4 a_{2}) \\\\\n",
    "a_3^d=& 0 \\\\\n",
    "a_4^d=& \\left(\\frac{1}{32}\\right) \\cdot d^{2} \\cdot (a_{1} a_{3} + 2 a_{4}) \\\\\n",
    "a_6^d=& \\left(\\frac{1}{256}\\right) \\cdot d^{3} \\cdot (a_{3}^{2} + 4 a_{6}) \\\\\n",
    "\\end{align*}\n",
    "\n",
    "Note that $v(\\frac{32a_4^d}{d^2})=4$ and  $v(\\frac{256a_6^d}{d^3})=6$. Then  $\\mathcal{V}(F_{\\rm{II}^*,3})=\\left(  \\infty,1,\\infty,=1,=1\\right) $. It follows by **Proposition 3.4 that** $R^{d}=\\operatorname*{typ}(E^{d})=\\rm{II}$**.**\n",
    "\n"
   ]
  },
  {
   "cell_type": "code",
   "execution_count": 61,
   "id": "f84d1d",
   "metadata": {
    "collapsed": false
   },
   "outputs": [
    {
     "name": "stdout",
     "output_type": "stream",
     "text": [
      "a1^d= 0\n",
      "a2^d= (1/16) * d * (a1^2 + 4*a2)\n",
      "a3^d= 0\n",
      "a4^d= (1/32) * d^2 * (a1*a3 + 2*a4)\n",
      "a6^d= (1/256) * d^3 * (a3^2 + 4*a6)\n"
     ]
    }
   ],
   "source": [
    "print(ai_twist(F1IIstar_3))"
   ]
  },
  {
   "cell_type": "markdown",
   "id": "d147ee",
   "metadata": {
    "collapsed": false
   },
   "source": [
    "**Case 10\\(iv\\):**  Suppose $v(a_{1})\\ge 2$ and $v(a_{3})\\geq 4$ and $v(P_{R,3})=12$. Thus, $\\mathcal{V}(E)=\\left(2,2,4,4,=5\\right)$. We consider the model $F_{\\rm{II}^*,4}$ which is $\\mathbb{Q}_2$\\-isomorphic to $E^d$. The Weierstrass coefficients $a_i^d$ of $F_{\\rm{II}^*,4}$ are \\(see below\\):\n",
    "\n",
    "\\begin{align*}\n",
    "a_1^d=& 0 \\\\\n",
    "a_2^d=& \\left(\\frac{1}{16}\\right) \\cdot d \\cdot (a_{1}^{2} + 4 a_{2} + 3 a_{4}) \\\\\n",
    "a_3^d=& d^{2} \\\\\n",
    "a_4^d=& \\left(\\frac{1}{256}\\right) \\cdot d^{2} \\cdot (2 a_{1}^{2} a_{4} + 8 a_{1} a_{3} + 8 a_{2} a_{4} + 3 a_{4}^{2} + 16 a_{4}) \\\\\n",
    "a_6^d=& \\left(-\\frac{1}{4096}\\right) \\cdot d^{3} \\cdot (-a_{1}^{2} a_{4}^{2} - 8 a_{1} a_{3} a_{4} - 4 a_{2} a_{4}^{2} - a_{4}^{3} - 16 a_{3}^{2} - 16 a_{4}^{2} - 64 a_{6} + 1024 d) \\\\\n",
    "\\end{align*}\n",
    "\n",
    "We claim that $\\mathcal{V}(F_{\\rm{II}^*,1})=\\left(\\infty,1,=2,3,=3\\right)$. The valuations for $a_1^d$, $a_2^d$, and $a_3^d$ are automatic given conditions in $\\mathcal{V}(E)$ . For $a_4^d$, observe that  each terms in $\\frac{256a_4^d}{d^2}$ is divisible by $2^9$ except for $3 a_{4}^{2} $ and $16 a_{4}$. But, $v_2(3 a_{4}^{2} + 16 a_{4})\\geq 9$. Hence,  $v(\\frac{256a_4^d}{d^2})\\geq9$, i.e.,  $v(a_4^d)\\geq3$.\n",
    "\n",
    "Now observe that (verified below)\n",
    "\n",
    "\\begin{align*}\n",
    "\\frac{4096 a_{6}^{d}}{d^3}  & =P_{R,3}.\n",
    "\\end{align*}\n",
    "\n",
    "Then we conclude that $v(a_{6}^{d})=3$ since $v(P_{R,3})=12$. Thus,  $\\mathcal{V}(F_{\\rm{II}^*,1})=\\left(\\infty,1,=2,3,=3\\right)$. It follows by **Proposition 3.4 that** $R^{d}=\\operatorname*{typ}(E^{d})=\\rm{I}_{0}^{\\ast}$**.**\n",
    "\n"
   ]
  },
  {
   "cell_type": "code",
   "execution_count": 7,
   "id": "4be73d",
   "metadata": {
    "collapsed": false
   },
   "outputs": [
    {
     "name": "stdout",
     "output_type": "stream",
     "text": [
      "a1^d= 0\n",
      "a2^d= (1/16) * d * (a1^2 + 4*a2 + 3*a4)\n",
      "a3^d= d^2\n",
      "a4^d= (1/256) * d^2 * (2*a1^2*a4 + 8*a1*a3 + 8*a2*a4 + 3*a4^2 + 16*a4)\n",
      "a6^d= (-1/4096) * d^3 * (-a1^2*a4^2 - 8*a1*a3*a4 - 4*a2*a4^2 - a4^3 - 16*a3^2 - 16*a4^2 - 64*a6 + 1024*d)\n",
      "True\n",
      "True\n"
     ]
    }
   ],
   "source": [
    "print(ai_twist(F1IIstar_4))\n",
    "print(4096*F1IIstar_4.a6()/d^3 == PIIstar_3)\n",
    "print(16*F1IIstar_4.a2()/d == PIIstar_4)"
   ]
  },
  {
   "cell_type": "markdown",
   "id": "600f38",
   "metadata": {
    "collapsed": false
   },
   "source": [
    "**Case 10\\(iv\\):**  Suppose $v(a_{1})\\ge 2$ and $v(a_{3})\\geq 4$ and $v(P_{R,3})\\geq 13$. Thus, $\\mathcal{V}(E)=\\left(2,2,4,4,=5\\right)$. We consider the model $F_{\\rm{II}^*,4}$ which is $\\mathbb{Q}_2$\\-isomorphic to $E^d$. The Weierstrass coefficients $a_i^d$ of $F_{\\rm{II}^*,4}$ are \\(see below\\):\n",
    "\n",
    "\\begin{align*}\n",
    "a_1^d=& 0 \\\\\n",
    "a_2^d=& \\left(\\frac{1}{16}\\right) \\cdot d \\cdot (a_{1}^{2} + 4 a_{2} + 3 a_{4}) \\\\\n",
    "a_3^d=& d^{2} \\\\\n",
    "a_4^d=& \\left(\\frac{1}{256}\\right) \\cdot d^{2} \\cdot (2 a_{1}^{2} a_{4} + 8 a_{1} a_{3} + 8 a_{2} a_{4} + 3 a_{4}^{2} + 16 a_{4}) \\\\\n",
    "a_6^d=& \\left(-\\frac{1}{4096}\\right) \\cdot d^{3} \\cdot (-a_{1}^{2} a_{4}^{2} - 8 a_{1} a_{3} a_{4} - 4 a_{2} a_{4}^{2} - a_{4}^{3} - 16 a_{3}^{2} - 16 a_{4}^{2} - 64 a_{6} + 1024 d) \\\\\n",
    "\\end{align*}\n",
    "\n",
    "We claim that $\\mathcal{V}(F_{\\rm{II}^*,4})=\\left(\\infty,1,=2,3,4\\right)$. The valuations for $a_1^d$ and $a_3^d$ are automatic given conditions in $\\mathcal{V}(E)$ . For $a_4^d$, observe that  each terms in $\\frac{256a_4^d}{d^2}$ is divisible by $2^9$ except for $3 a_{4}^{2} $ and $16 a_{4}$. But, $v_2(3 a_{4}^{2} + 16 a_{4})\\geq 9$. Hence,  $v(\\frac{256a_4^d}{d^2})\\geq9$, i.e.,  $v(a_4^d)\\geq3$.\n",
    "\n",
    "Now observe that (verified above)\n",
    "\n",
    "\\begin{align*}\n",
    "\\frac{16 a_{6}^{d}}{d}  & =P_{R,4},\n",
    "\\qquad \\frac{4096 a_{6}^{d}}{d^3}   =P_{R,3}.\n",
    "\\end{align*}\n",
    "\n",
    "Then we conclude that \n",
    "\\begin{align*}\n",
    "\\mathcal{V}(F_{\\rm{II}^*,4})\n",
    "&=\\begin{cases}\n",
    "\\left(\\infty,=1,=2,3,=3\\right) &\\text{ if } v(P_{R,4})=4,\\\\\n",
    "\\left(\\infty,2,=2,3,=3\\right) &\\text{ if } v(P_{R,4})\\ge5.\\\\\n",
    "\\end{cases}\n",
    "\\end{align*}\n",
    " It follows by **Proposition 3.4 that**\n",
    " \n",
    " \\begin{align*}\n",
    "R^{d}=\\operatorname*{typ}(E^{d})\n",
    "&=\\begin{cases}\n",
    "\\rm{I}_{1}^{\\ast} &\\text{ if } v(P_{R,4})=4,\\\\\n",
    "\\rm{IV}^{\\ast} &\\text{ if } v(P_{R,4})\\ge5.\n",
    "\\end{cases}\n",
    "\\end{align*}\n"
   ]
  },
  {
   "cell_type": "code",
   "execution_count": 0,
   "id": "df6c7d",
   "metadata": {
    "collapsed": false
   },
   "outputs": [
   ],
   "source": [
   ]
  }
 ],
 "metadata": {
  "kernelspec": {
   "argv": [
    "sage-9.6",
    "--python",
    "-m",
    "sage.repl.ipython_kernel",
    "--matplotlib=inline",
    "-f",
    "{connection_file}"
   ],
   "display_name": "SageMath 9.6",
   "env": {
   },
   "language": "sagemath",
   "metadata": {
    "cocalc": {
     "description": "Open-source mathematical software system",
     "priority": 1,
     "url": "https://www.sagemath.org/"
    }
   },
   "name": "sage-9.6",
   "resource_dir": "/ext/jupyter/kernels/sage-9.6"
  },
  "language_info": {
   "codemirror_mode": {
    "name": "ipython",
    "version": 3
   },
   "file_extension": ".py",
   "mimetype": "text/x-python",
   "name": "python",
   "nbconvert_exporter": "python",
   "pygments_lexer": "ipython3",
   "version": "3.10.12"
  }
 },
 "nbformat": 4,
 "nbformat_minor": 4
}