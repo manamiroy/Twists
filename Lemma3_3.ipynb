{
 "cells": [
  {
   "cell_type": "code",
   "execution_count": 1,
   "id": "33fe76",
   "metadata": {
    "collapsed": false
   },
   "outputs": [
   ],
   "source": [
    "load('definitions.sage')"
   ]
  },
  {
   "cell_type": "markdown",
   "id": "3998a5",
   "metadata": {
    "collapsed": false
   },
   "source": [
    "In this notebook, we verify the claims made in the proof of Lemma 3.3.\n",
    "\n",
    "Let $E/K$ be an elliptic curve. The code below, verifies that the discriminant $\\Delta$ of $E$ satisfies:\n",
    "$$\\Delta = a_3^2k_1 + a_4^2 k_2 + a_3 a_4 k_3 + a_6 k_4$$\n",
    "\n",
    "Observe that if $v(a_1)=0$, then $v(k_2)=v(k_3)=v(k_4)=0$."
   ]
  },
  {
   "cell_type": "code",
   "execution_count": 2,
   "id": "3495b5",
   "metadata": {
    "collapsed": false
   },
   "outputs": [
    {
     "name": "stdout",
     "output_type": "stream",
     "text": [
      "True\n"
     ]
    }
   ],
   "source": [
    "k1 = -(a1^4*a2 + 8*a1^2*a2^2 - a1^3*a3 + 16*a2^3 - 36*a1*a2*a3 + 30*a1^2*a4 + 27*a3^2 - 72*a2*a4 + 216*a6)\n",
    "k2 = (-1)* (-a1^4 - 8*a1^2*a2 - 16*a2^2 + 64*a4)\n",
    "k3 = (-1) * a1 * (-a1^4 - 8*a1^2*a2 - 16*a2^2 + 96*a4)\n",
    "k4 = (-1) * (a1^6 + 12*a1^4*a2 + 48*a1^2*a2^2 - 36*a1^3*a3 + 64*a2^3 - 144*a1*a2*a3 - 72*a1^2*a4 - 288*a2*a4 + 432*a6)\n",
    "print(Es.discriminant() == a3^2 * k1 + a4^2 * k2 + a4 * a3 *k3 + a6*  k4)"
   ]
  },
  {
   "cell_type": "code",
   "execution_count": 0,
   "id": "2beea0",
   "metadata": {
    "collapsed": false
   },
   "outputs": [
   ],
   "source": [
   ]
  }
 ],
 "metadata": {
  "kernelspec": {
   "argv": [
    "sage-9.6",
    "--python",
    "-m",
    "sage.repl.ipython_kernel",
    "--matplotlib=inline",
    "-f",
    "{connection_file}"
   ],
   "display_name": "SageMath 9.6",
   "env": {
   },
   "language": "sagemath",
   "metadata": {
    "cocalc": {
     "description": "Open-source mathematical software system",
     "priority": 1,
     "url": "https://www.sagemath.org/"
    }
   },
   "name": "sage-9.6",
   "resource_dir": "/ext/jupyter/kernels/sage-9.6"
  },
  "language_info": {
   "codemirror_mode": {
    "name": "ipython",
    "version": 3
   },
   "file_extension": ".py",
   "mimetype": "text/x-python",
   "name": "python",
   "nbconvert_exporter": "python",
   "pygments_lexer": "ipython3",
   "version": "3.10.12"
  }
 },
 "nbformat": 4,
 "nbformat_minor": 4
}