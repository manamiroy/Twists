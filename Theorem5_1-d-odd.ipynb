{
 "cells": [
  {
   "cell_type": "code",
   "execution_count": 29,
   "id": "2ddd26",
   "metadata": {
    "collapsed": false
   },
   "outputs": [
   ],
   "source": [
    "load('definitions.sage')\n",
    "load('models_for_twists.sage')\n",
    "load('polynomials.sage')"
   ]
  },
  {
   "cell_type": "markdown",
   "id": "856b63",
   "metadata": {
    "collapsed": false
   },
   "source": [
    "This notebook is the accompaniment for the proof of Theorem 5.1. In particular, we assume that $E/\\mathbb{Q}_2$ is given by a normal model. Let $E^d$ denote the quadratic twist of $E$ by $d$ where $v(d)=0$. We take the following as a Weierstrass model for $E^d$:\n",
    "$$E^d:y^2 = x^3 + (a_1^2d+4a_2 d)x^2 + (8a_1 a_3 d^2+16a_4 d^2)x + (16 a_3^2 d^3+64 a_6 d^3). $$ \n",
    "We note that this Weierstrass model corresponds to Ed in our code in 'definitions.sage'.\n",
    "\n",
    "In what follows, we do a case-by-case analysis corresponding to a fixed $R=\\operatorname{typ}(E)$. The proof of our theorem relies on the consideration of various Weierstrass models $F_{R,j}^0$ which are $\\mathbb{Q}_2$-isomorphic to $E^d$. For each $R$, the models used in the article are found in the accompanying file 'models_for_twists.sage'. We note that in the code, 'F0I0_i' corresponds to $F^0_{{\\rm I}_0,j}$. Our case-by-case analysis will be ordered based on the rows in Table 6. Specifically, we verify below the claims made in the table that lead to the deduction of $\\mathcal{V}(F_{R,j}^{0})$. In each case, we consider the Weierstrass coefficients $a_i^d$ of the model $F_{R,j}^{0}$ being considered in the case. In the code, we write aid in place of $a_i^d$. Further, since $v(d)=0$ throughout this notebook, we write $F_{R,j}$ instead of $F_{R,j}^0$.\n",
    "\n",
    "We note that the case numbers below do not necessarily align with those in the proof of Theorem 5.1, since said proof only considers those $R^d=\\operatorname{typ}(E^d)$ that do not uniquely determine the local Tamagawa number $c^d$. When verifying $c^d$ below, we will make reference to what is the corresponding case (or subcase) that considers this situation in the paper. \n",
    "\n",
    "Throughout the proof, we make many references to the model $F_{R,0}$. The Weierstrass coefficients $a_i^d$ are verified in the code below, and are:\n",
    "\n",
    "\\begin{align*}\n",
    "a_1^d&= a_{1} \\\\\n",
    "a_2^d&= \\left(\\frac{1}{4}\\right) \\cdot (a_{1}^{2} d - a_{1}^{2} + 4 a_{2} d) \\\\\n",
    "a_3^d&= a_{3} \\\\\n",
    "a_4^d&= \\left(\\frac{1}{2}\\right) \\cdot (a_{1} a_{3} d^{2} + 2 a_{4} d^{2} - a_{1} a_{3}) \\\\\n",
    "a_6^d&= \\left(\\frac{1}{4}\\right) \\cdot (a_{3}^{2} d^{3} + 4 a_{6} d^{3} - a_{3}^{2}) \\\\\n",
    "\\end{align*}\n",
    "\n",
    "In the proof below, we omit reference to the code that verifies the expressions for the Weierstrass coefficients $a_i^d$ of $F_{R,0}$.\n",
    "\n"
   ]
  },
  {
   "cell_type": "code",
   "execution_count": 11,
   "id": "a39611",
   "metadata": {
    "collapsed": false
   },
   "outputs": [
    {
     "name": "stdout",
     "output_type": "stream",
     "text": [
      "a1^d= a1\n",
      "a2^d= (1/4) * (a1^2*d - a1^2 + 4*a2*d)\n",
      "a3^d= a3\n",
      "a4^d= (1/2) * (a1*a3*d^2 + 2*a4*d^2 - a1*a3)\n",
      "a6^d= (1/4) * (a3^2*d^3 + 4*a6*d^3 - a3^2)\n"
     ]
    }
   ],
   "source": [
    "print(ai_twist(F0R0))"
   ]
  },
  {
   "cell_type": "markdown",
   "id": "a83fa6",
   "metadata": {
    "collapsed": false
   },
   "source": [
    "**Case 1:** Let $R=\\operatorname{typ}(E)=\\rm{I}_0$. Since $E$ is given by a normal model, we have that\n",
    "$$\\mathcal{V}(E)=\\begin{cases}\n",
    "(=0, 0, 2,  0, 0) \\text{ if (i) } v(a_4)=0,v(a_6)\\ge 1 \\text{ or (ii)} v(a_4)\\ge 1,v(a_6)=0\\\\\n",
    "( 1, 1,=0,  0, 0) \\text{ if } v_2(a_1)\\ge 1\\\\\n",
    "\\end{cases}$$\n",
    "\n",
    "**In the paper, we only verify the local Tamagawa number $c^d$ of $E^d$, which is also considered below. Specifically, subcases 1a and 1b of the paper are verified as parts of Subcases 1(iii) and 1(iv), respectively.**"
   ]
  },
  {
   "cell_type": "markdown",
   "id": "869533",
   "metadata": {
    "collapsed": false
   },
   "source": [
    "**Subcase 1(i):** Suppose $d\\equiv 1 \\mod 4$. Suppose further that $\\mathcal{V}(E)=(=0, 0, 2,  0,0)$ with (i) $v(a_4)=0,v(a_6)\\ge 1$ or (ii) $v(a_4)\\ge 1,v(a_6)=0$.\n",
    "\n",
    "We consider the elliptic curve $F_{{\\rm I}_0,1}$.  The code below, verifies that the Weierstrass coefficients of this model are the $a_i^d$ that are given below:\n",
    "\n",
    "\n",
    "\\begin{align*}\n",
    "a_1^d=& a_{1} \\\\\n",
    "a_2^d=& \\left(\\frac{1}{4}\\right) \\cdot (a_{1}^{2} d - a_{1}^{2} + 4 a_{2} d) \\\\\n",
    "a_3^d=& 0 \\\\\n",
    "a_4^d=& \\left(\\frac{1}{2}\\right) \\cdot d^{2} \\cdot (a_{1} a_{3} + 2 a_{4}) \\\\\n",
    "a_6^d=& \\left(\\frac{1}{4}\\right) \\cdot d^{3} \\cdot (a_{3}^{2} + 4 a_{6}) \\\\\n",
    "\\end{align*}\n",
    "\n",
    "We claim that $$\\mathcal{V}(F_{{\\rm I}_0,1})=\\left(  =0,0,\\infty,0,0\\right)$$ \n",
    "\n",
    "The only cases that don't follow automatically are $a_{2}^{d}$. Observe that $v(a_{2}^{d})\\ge 0$ since $4\\mid a_1^2(d-1)$ as $d\\equiv 1 \\mod 4$. \n",
    "\n",
    "**Since $\\mathcal{V}(F_{{\\rm I}_0,1})=\\left(  =0,0,\\infty,0,0\\right)$, by Proposition 3.4 from the paper, we get $R^d=\\operatorname{typ}(E^d)= \\operatorname{typ}(F_{{\\rm I}_0,1})=\\rm{I}_0$ and $c^d=1$.**"
   ]
  },
  {
   "cell_type": "code",
   "execution_count": 3,
   "id": "ccd61b",
   "metadata": {
    "collapsed": false
   },
   "outputs": [
    {
     "name": "stdout",
     "output_type": "stream",
     "text": [
      "a1^d= a1\n",
      "a2^d= (1/4) * (a1^2*d - a1^2 + 4*a2*d)\n",
      "a3^d= 0\n",
      "a4^d= (1/2) * d^2 * (a1*a3 + 2*a4)\n",
      "a6^d= (1/4) * d^3 * (a3^2 + 4*a6)\n"
     ]
    }
   ],
   "source": [
    "print(ai_twist(F0I0_1))"
   ]
  },
  {
   "cell_type": "markdown",
   "id": "be896c",
   "metadata": {
    "collapsed": false
   },
   "source": [
    "**Case 1(ii):**  Suppose $d\\equiv 1 \\mod 4$ with $v(a_1)\\ge1$. In particular, $\\mathcal{V}(E)=( 1, 1,=0,  0, 0)$.\n",
    "\n",
    "We consider the elliptic curve $F_{{\\rm I}_0,2}$.  The code below, verifies that the Weierstrass coefficients of this model are the $a_i^d$ that are given below:\n",
    "\n",
    "\\begin{align*}\n",
    "a_1^d&= a_{1} \\\\\n",
    "a_2^d&= \\left(\\frac{1}{4}\\right) \\cdot (a_{1}^{2} d - a_{1}^{2} + 4 a_{2} d) \\\\\n",
    "a_3^d&= 1 \\\\\n",
    "a_4^d&= \\left(\\frac{1}{2}\\right) \\cdot (a_{1} a_{3} d^{2} + 2 a_{4} d^{2} - a_{1}) \\\\\n",
    "a_6^d&= \\left(\\frac{1}{4}\\right) \\cdot (a_{3}^{2} d^{3} + 4 a_{6} d^{3} - 1) \\\\\n",
    "\\end{align*}\n",
    "\n",
    "We claim that $$\\mathcal{V}(F_{{\\rm I}_0,2})=(1, 1,=0,0,0).$$ \n",
    "\n",
    "The only cases that don't follow automatically are $a_{6}^{d}$. Observe that $v(a_{6}^{d})\\ge 0$ since $ a_{3}^{2} d^{3}-1\\equiv d^{3}-1\\equiv 0 \\mod 4$. \n",
    "\n",
    "**Since $\\mathcal{V}(F_{{\\rm I}_0,2})=(1, 1,=0,0,0)$, by Proposition 3.4 from the paper, we get $R^d=\\operatorname{typ}(E^d)= \\operatorname{typ}(F_{{\\rm I}_0,2})=\\rm{I}_0$ and $c^d=1$.**\n",
    "\n"
   ]
  },
  {
   "cell_type": "code",
   "execution_count": 4,
   "id": "f00809",
   "metadata": {
    "collapsed": false
   },
   "outputs": [
    {
     "name": "stdout",
     "output_type": "stream",
     "text": [
      "a1^d= a1\n",
      "a2^d= (1/4) * (a1^2*d - a1^2 + 4*a2*d)\n",
      "a3^d= 1\n",
      "a4^d= (1/2) * (a1*a3*d^2 + 2*a4*d^2 - a1)\n",
      "a6^d= (1/4) * (a3^2*d^3 + 4*a6*d^3 - 1)\n"
     ]
    }
   ],
   "source": [
    "print(ai_twist(F0I0_2))"
   ]
  },
  {
   "cell_type": "markdown",
   "id": "f72079",
   "metadata": {
    "collapsed": false
   },
   "source": [
    "**Case 1(iii):**  Suppose $d\\equiv 3 \\mod 4$, $v(a_1)=0$, $v(a_4)=0$, and $v(a_6)\\ge 1$. Consequently, $\\mathcal{V}(E)=(=0, 0, 2,  =0,1)$.\n",
    "\n",
    "We consider the elliptic curve $F_{{\\rm I}_0,3}$, which is isomorphic to $E^d$.  The code below, verifies that the Weierstrass coefficients of this model are the $a_i^d$ that are given below:\n",
    "\n",
    "\\begin{align*}\n",
    "a_1^d&= \\left(2\\right) \\cdot a_{1} \\\\\n",
    "a_2^d&= (a_{1}^{2} d - a_{1}^{2} + 4 a_{2} d) \\\\\n",
    "a_3^d&= 0 \\\\\n",
    "a_4^d&= \\left(8\\right) \\cdot d^{2} \\cdot (a_{1} a_{3} + 2 a_{4}) \\\\\n",
    "a_6^d&= \\left(16\\right) \\cdot d^{3} \\cdot (a_{3}^{2} + 4 a_{6}) \\\\\n",
    "\\end{align*}\n",
    "\n",
    " By inspection we see that $$\\mathcal{V}(F_{{\\rm I}_0,3})=(=1, =1,\\infty,=4,7).$$ \n",
    "\n",
    " **Since $\\mathcal{V}(F_{{\\rm I}_0,3})=(=1, =1,\\infty,=4,7)$, Proposition 3.4 implies that $R^d=\\operatorname{typ}(E^d)= \\operatorname{typ}(F_{{\\rm I}_0,3})=\\rm{I}_4^*$.** \n",
    "\n",
    " For $c^d$ we need to consider  $a_6^d= \\left(16\\right) \\cdot d^{3} \\cdot (a_{3}^{2} + 4 a_{6}) \\mod  2^8$. Note that\n",
    "\n",
    " \\begin{align*}\n",
    " \\frac{a_{6}^{d}}{64d^{3}} &\\equiv \\frac{a_{3}^{2}}{4} + a_{6}\\mod 4 \\equiv  a_{6}\\mod 4.\n",
    "\\end{align*}\n",
    "\n",
    "So, $v(a_6^d)=7$ when $a_{6}\\equiv  2\\mod 4$ and $v(a_6^d)\\ge8$ when $a_{6}\\equiv  0\\mod 4$. \n",
    "Hence, $c^d=\\begin{cases} 2 &a_{6}\\equiv  2\\mod 4,\\\\ 4 &a_{6}\\equiv  0\\mod 4.\\end{cases}$ \n",
    "\n"
   ]
  },
  {
   "cell_type": "code",
   "execution_count": 5,
   "id": "b7e34b",
   "metadata": {
    "collapsed": false
   },
   "outputs": [
    {
     "name": "stdout",
     "output_type": "stream",
     "text": [
      "a1^d= (2) * a1\n",
      "a2^d= a1^2*d - a1^2 + 4*a2*d\n",
      "a3^d= 0\n",
      "a4^d= (8) * d^2 * (a1*a3 + 2*a4)\n",
      "a6^d= (16) * d^3 * (a3^2 + 4*a6)\n"
     ]
    }
   ],
   "source": [
    "print(ai_twist(F0I0_3))"
   ]
  },
  {
   "cell_type": "markdown",
   "id": "c17871",
   "metadata": {
    "collapsed": false
   },
   "source": [
    "**Case 1\\(iv\\):**  Suppose $d\\equiv 3 \\mod 4$, $v(a_1)=0$, $v(a_4)\\ge 1$, and $v(a_6)=0$. Consequently, $\\mathcal{V}(E)=(=0, 0, 2,  1,=0)$.\n",
    "\n",
    "We consider the elliptic curve $F_{{\\rm I}_0,4}$.  The code below, verifies that the Weierstrass coefficients of this model are the $a_i^d$ that are given below:\n",
    "\n",
    "\\begin{align*}\n",
    "a_1^d&= \\left(2\\right) \\cdot a_{1} \\\\\n",
    "a_2^d&= (a_{1}^{2} d - a_{1}^{2} + 4 a_{2} d) \\\\\n",
    "a_3^d&= 16 \\\\\n",
    "a_4^d&= \\left(8\\right) \\cdot (a_{1} a_{3} d^{2} + 2 a_{4} d^{2} - 2 a_{1}) \\\\\n",
    "a_6^d&= \\left(16\\right) \\cdot (a_{3}^{2} d^{3} + 4 a_{6} d^{3} - 4) \\\\\n",
    "\\end{align*}\n",
    "\n",
    "We claim that $$\\mathcal{V}(F_{{\\rm I}_0,4})=(=1, =1,=4,=4,7).$$ \n",
    "\n",
    " The only cases that don't follow automatically is $v(a_{6}^{d})$. Observe that $v(a_{6}^{d})\\ge 7$ since $$\\frac{a_{6}^{d}}{64}=\\frac{a_{3}^{2} d^{3}}{4}+a_{6} d^{3} - 1 \\equiv a_{6} d^{3}-1\\equiv 2 \\text{ or } 0 \\mod 4.$$\n",
    "\n",
    " **By Proposition 3.4, we get $R^d=\\operatorname{typ}(E^d)= \\operatorname{typ}(F_{{\\rm I}_0,4})=\\rm{I}_4^*$.** \n",
    "\n",
    " For $c^d$ we consider  $a_6^d= \\left(16\\right) \\cdot d^{3} \\cdot (a_{3}^{2} + 4 a_{6}) \\mod  2^8$, i.e., $\\frac{a_{6}^{d}}{64}\\equiv a_{6} d-1 \\mod 4.$\n",
    "\n",
    "So, $v(a_6^d)=7$ when $a_{6}\\equiv  1\\mod 4$ and $v(a_6^d)\\ge8$ when $a_{6}\\equiv  3\\mod 4$. \n",
    "Hence, $c^d=\\begin{cases} 2 &a_{6}\\equiv  1\\mod 4,\\\\ 4 &a_{6}\\equiv  3\\mod 4.\\end{cases}$ \n",
    "\n",
    "\n",
    "\n",
    "**Combining Case 1\\(iii\\) and Case 1\\(iv\\), we see that when $d\\equiv 3 \\mod 4$ and $v(a_1)=0$, we have that $R^d=\\operatorname{typ}(E^d)=\\rm{I}_4^*$ with**  \n",
    "$$c^d=\\begin{cases} 2 &a_{6}\\equiv  1, 2\\mod 4,\\\\ 4 &a_{6}\\equiv  0, 3\\mod 4.\\end{cases}$$"
   ]
  },
  {
   "cell_type": "code",
   "execution_count": 6,
   "id": "31c1aa",
   "metadata": {
    "collapsed": false
   },
   "outputs": [
    {
     "name": "stdout",
     "output_type": "stream",
     "text": [
      "a1^d= (2) * a1\n",
      "a2^d= a1^2*d - a1^2 + 4*a2*d\n",
      "a3^d= 2^4\n",
      "a4^d= (8) * (a1*a3*d^2 + 2*a4*d^2 - 2*a1)\n",
      "a6^d= (16) * (a3^2*d^3 + 4*a6*d^3 - 4)\n"
     ]
    }
   ],
   "source": [
    "print(ai_twist(F0I0_4))"
   ]
  },
  {
   "cell_type": "markdown",
   "id": "d3864c",
   "metadata": {
    "collapsed": false
   },
   "source": [
    "**Case 1\\(v\\):**  Suppose $d\\equiv 3 \\mod 4$ and $v_2(a_1)\\ge1$. In this case we have $\\mathcal{V}_{2}(E)=(1, 1, =0,  0, 0)$. \n",
    "\n",
    "We consider the elliptic curve $F_{{\\rm I}_0,5}$. The code below, verifies that the Weierstrass coefficients of this model are the $a_i^d$ that are given below:\n",
    "\n",
    "\\begin{align*}\n",
    "a_1^d&= 0 \\\\\n",
    "a_2^d&= d \\cdot (a_{1}^{2} + 4 a_{2}) \\\\\n",
    "a_3^d&= 8 \\\\\n",
    "a_4^d&= \\left(8\\right) \\cdot d^{2} \\cdot (a_{1} a_{3} + 2 a_{4}) \\\\\n",
    "a_6^d= \\left(16\\right) \\cdot (a_{3}^{2} d^{3} + 4 a_{6} d^{3} - 1) \\\\\n",
    "\\end{align*}\n",
    "\n",
    "We claim that $$\\mathcal{V}(F_{{\\rm I}_0,5})=(\\infty, 2,=3,4,=5).$$ \n",
    "\n",
    " The only case that does not follow automatically is $v(a_{6}^{d})$. Observe that $v(a_{6}^{d})=5$ since $ a_{3}^{2} d^{3} + 4 a_{6} d^{3} - 1 \\equiv d-1  \\equiv 2\\mod 4.$\n",
    "\n",
    " **By Proposition 3.4, we get $R^d=\\operatorname{typ}(E^d)= \\operatorname{typ}(F_{{\\rm I}_0,5})=\\rm{II}^*$ and $c^d=1$.** "
   ]
  },
  {
   "cell_type": "code",
   "execution_count": 7,
   "id": "ec96b5",
   "metadata": {
    "collapsed": false
   },
   "outputs": [
    {
     "name": "stdout",
     "output_type": "stream",
     "text": [
      "a1^d= 0\n",
      "a2^d= d * (a1^2 + 4*a2)\n",
      "a3^d= 2^3\n",
      "a4^d= (8) * d^2 * (a1*a3 + 2*a4)\n",
      "a6^d= (16) * (a3^2*d^3 + 4*a6*d^3 - 1)\n"
     ]
    }
   ],
   "source": [
    "print(ai_twist(F0I0_5))"
   ]
  },
  {
   "cell_type": "markdown",
   "id": "5be386",
   "metadata": {
    "collapsed": false
   },
   "source": [
    "**Case 2:** Let $R=\\operatorname*{typ}(E)=\\rm{I}_{n>0}$. Since $E$ is given by a normal model, we have that\n",
    "\n",
    "$$\\mathcal{V}(E)=\\begin{cases} \\left(  =0,0,=\\frac{n+1}{2},\\frac{n+1}{2},=n\\right)  &\\text{if } n \\text{ is odd},\\\\ \\left(  =0,0,\\frac{n+2}{2},=\\frac{n}{2},n+1\\right) &\\text{if } n \\text{ is even}.\\end{cases}$$\n",
    "\n",
    "\n",
    "In the paper, we only verify the local Tamagawa number $c^{d}$ of $E^{d}$, which is also considered below. Specifically, subcases 2(i) and 2(ii) correspond to Subcase 2a, whereas subases 2(iii) and 2(iv) correspond to Subcase 2b in the paper.\n",
    "\n",
    "**Subcase 2(i):** Suppose $d\\equiv1\\ \\operatorname{mod}4$ with $v(n)=0$. We consider the elliptic curve  $F_{{\\rm I}_{n},0}$. The Weierstrass coefficients of this model are the $a_i^d$ that are given below:\n",
    "\n",
    "\\begin{align*}\n",
    "a_1^d&= a_{1} \\\\\n",
    "a_2^d&= \\left(\\frac{1}{4}\\right) \\cdot (a_{1}^{2} d - a_{1}^{2} + 4 a_{2} d) \\\\\n",
    "a_3^d&= a_{3} \\\\\n",
    "a_4^d&= \\left(\\frac{1}{2}\\right) \\cdot (a_{1} a_{3} d^{2} + 2 a_{4} d^{2} - a_{1} a_{3}) \\\\\n",
    "a_6^d&= \\left(\\frac{1}{4}\\right) \\cdot (a_{3}^{2} d^{3} + 4 a_{6} d^{3} - a_{3}^{2}) \\\\\n",
    "\\end{align*}\n",
    "\n",
    "By inspection,\n",
    "$$\\mathcal{V}(F_{I_{n},0})=\\left(  =0,0,=\\frac{n+1}{2},\\frac{n+1}{2},=n\\right)  .$$\n",
    "\n",
    "\n",
    "For $v(a_{2}^{d})$ observe that $4a_{2}^{d}=a_{1}^{2}(d-1)+4a_{2}d\\equiv0\\ \\operatorname{mod}4$ since $d\\equiv1\\ \\operatorname{mod}4$.\n",
    "\n",
    "\n",
    "\n",
    "**By Proposition 3.4, we get that $R^{d}=\\operatorname*{typ}(E^{d})=\\rm{I}_{n}$.** For the local Tamagawa number $c^{d}$, observe that\n",
    "$$4a_{2}^{d}=a_{1}^{2}(d-1)+4a_{2}d\\equiv d-1+4a_{2}\\ \\operatorname{mod}8.$$\n",
    "\n",
    "By Corollary 3.6,\n",
    "$$c^{d}=\\left\\{\n",
    "\\begin{align*}\n",
    "n & \\text{ if }v(d-1+4a_{2})\\geq3,\\\\\n",
    "1 & \\text{ if }v(d-1+4a_{2})=2.\n",
    "\\end{align*}\n",
    "\\right.$$"
   ]
  },
  {
   "cell_type": "markdown",
   "id": "bea88d",
   "metadata": {
    "collapsed": false
   },
   "source": [
    "**Subcase 2(ii):** Suppose $d\\equiv1\\ \\operatorname{mod}4$ with $v(n)\\ge 1$. We consider the elliptic curve  $F_{{\\rm I}_{n},0}$. The Weierstrass coefficients of this model are the $a_i^d$ that are given below:\n",
    "\n",
    "\\begin{align*}\n",
    "a_1^d&= a_{1} \\\\\n",
    "a_2^d&= \\left(\\frac{1}{4}\\right) \\cdot (a_{1}^{2} d - a_{1}^{2} + 4 a_{2} d) \\\\\n",
    "a_3^d&= a_{3} \\\\\n",
    "a_4^d&= \\left(\\frac{1}{2}\\right) \\cdot (a_{1} a_{3} d^{2} + 2 a_{4} d^{2} - a_{1} a_{3}) \\\\\n",
    "a_6^d&= \\left(\\frac{1}{4}\\right) \\cdot (a_{3}^{2} d^{3} + 4 a_{6} d^{3} - a_{3}^{2}) \\\\\n",
    "\\end{align*}\n",
    "\n",
    "By inspection,\n",
    "$$\\mathcal{V}(F_{I_{n},0})=\\left(  =0,0,\\frac{n+2}{2},=\\frac{n}{2},n+1\\right)  .$$\n",
    "\n",
    "For $v(a_{2}^{d})$ observe that $4a_{2}^{d}=a_{1}^{2}(d-1)+4a_{2}d\\equiv0\\ \\operatorname{mod}4$ since $d\\equiv1\\ \\operatorname{mod}4$.\n",
    "\n",
    "**By Proposition 3.4, we get that $R^{d}=\\operatorname*{typ}(E^{d})=I_{n}$.** For the local Tamagawa number $c^{d}$, observe that\n",
    "$$4a_{2}^{d}=a_{1}^{2}(d-1)+4a_{2}d\\equiv d-1+4a_{2}\\ \\operatorname{mod}8.$$\n",
    "\n",
    "By Corollary 3.6,\n",
    "$$c^{d}=\\left\\{\n",
    "\\begin{align*}\n",
    "n & \\text{ if }v(d-1+4a_{2})\\geq3,\\\\\n",
    "2 & \\text{ if }v(d-1+4a_{2})=2.\n",
    "\\end{align*}\n",
    "\\right.$$\n",
    "\n"
   ]
  },
  {
   "cell_type": "markdown",
   "id": "523e5a",
   "metadata": {
    "collapsed": false
   },
   "source": [
    "**Subcase 2(iii):** Suppose $d\\equiv3\\ \\operatorname{mod}4$ with $v(n)=0$. We consider the elliptic curve  $F_{{\\rm I}_{n>1},0}$. The code below, verifies that the Weierstrass coefficients of this model are the $a_i^d$ that are given below:\n",
    "$$\\begin{align*}\n",
    "a_1^d&= \\left(2\\right) \\cdot a_{1} \\\\\n",
    "a_2^d&= (a_{1}^{2} d - a_{1}^{2} + 4 a_{2} d) \\\\\n",
    "a_3^d&= \\left(8\\right) \\cdot a_{3} \\\\\n",
    "a_4^d&= \\left(8\\right) \\cdot (a_{1} a_{3} d^{2} + 2 a_{4} d^{2} - a_{1} a_{3}) \\\\\n",
    "a_6^d= \\left(16\\right) \\cdot (a_{3}^{2} d^{3} + 4 a_{6} d^{3} - a_{3}^{2}) \\\\\n",
    "\\end{align*}$$\n",
    "\n",
    "We claim that\n",
    "$$\\mathcal{V}(F_{I_{n},0})=\\left(  =1,=1,=\\frac{n+7}{2},\\frac{n+9}{2},n+7\\right)$$\n",
    "The valuations for $v(a_{1}^{d})$ and $v(a_{3}^{d})$ are automatic. For $v(a_{2}^{d})$, observe that $a_{2}^{d}=a_{1}^{2}\\left(  d-1\\right)+4a_{2}d\\equiv2\\ \\operatorname{mod}4$. Similarly, $v(a_{4}^{d})$ is as given since $v(8a_{1}a_{3}(d^{2}-1))\\geq\\frac{n+13}{2}$ since $d^{2}-1\\equiv 0\\ \\operatorname{mod}8$. Since $v(16a_{4}d^{2})\\geq\\frac{n+9}{2}$, it follows that, $v(a_{4}^{d})\\geq\\frac{n+9}{2}$. Lastly, $v(16a_{3}^{2}(d^{3}-1))=5+2v(a_{3})=n+6$ and $v(64a_{6}d^{3})=n+6$. Therefore, $v(a_{6}^{d})\\geq n+7$ which establishes the claim.\n",
    "\n",
    "**By Proposition 3.4, we conclude that $\\operatorname*{typ}(F_{I_{n>0},1})=I_{n+4}^{\\ast}$.** For the local Tamagawa number $c^{d}$, we have by Corollary 3.6 that\n",
    "$$c^{d}=\\left\\{\n",
    "\\begin{align*}\n",
    "2 & \\text{ if }v(a_{6}^{d})=n+7,\\\\\n",
    "4 & \\text{ if }v(a_{6}^{d})\\geq n+8.\n",
    "\\end{align*}\n",
    "\\right.$$\n",
    "Now consider,\n",
    "$$\\begin{align*}\n",
    "\\frac{a_{6}^{d}}{2^{n+5}}  &  =\\frac{16\\left(  a_{3}^{2}(d^{3}-1)+4a_{6}%\n",
    "d^{3}\\right)  }{2^{n+5}}\\\\\n",
    "&  =\\frac{\\left(  a_{3}^{2}(d^{3}-1)+4a_{6}d^{3}\\right)  }{2^{n+1}}\\\\\n",
    "&  =\\left(  \\frac{a_{3}}{2^{\\frac{n+1}{2}}}\\right)  ^{2}\\left(  d^{3}%\n",
    "-1\\right)  +2\\left(  \\frac{a_{6}}{2^{n}}\\right)  d^{3}\\\\\n",
    "&  \\equiv\\left(  d-1\\right)  +2\\left(  \\frac{a_{6}}{2^{n}}\\right)\n",
    "d\\ \\operatorname{mod}8.\n",
    "\\end{align*}$$\n",
    "Therefore,\n",
    "$$c^{d}=\\left\\{\n",
    "\\begin{align*}\n",
    "2 & \\text{ if }2^{n-1}\\left(  d-1\\right)  +a_{6}d\\equiv2^{n+1}%\n",
    "\\ \\operatorname{mod}2^{n+2},\\\\\n",
    "4 & \\text{ if }2^{n-1}\\left(  d-1\\right)  +a_{6}d\\equiv0\\ \\operatorname{mod}%\n",
    "2^{n+2}.\n",
    "\\end{align*}\n",
    "\\right.$$"
   ]
  },
  {
   "cell_type": "code",
   "execution_count": 10,
   "id": "cbfaa8",
   "metadata": {
    "collapsed": false
   },
   "outputs": [
    {
     "name": "stdout",
     "output_type": "stream",
     "text": [
      "a1^d= (2) * a1\n",
      "a2^d= a1^2*d - a1^2 + 4*a2*d\n",
      "a3^d= (8) * a3\n",
      "a4^d= (8) * (a1*a3*d^2 + 2*a4*d^2 - a1*a3)\n",
      "a6^d= (16) * (a3^2*d^3 + 4*a6*d^3 - a3^2)\n"
     ]
    }
   ],
   "source": [
    "print(ai_twist(F0In_1))"
   ]
  },
  {
   "cell_type": "markdown",
   "id": "17273b",
   "metadata": {
    "collapsed": false
   },
   "source": [
    "**Subcase 2(iv):** Suppose $d\\equiv3\\ \\operatorname{mod}4$ with $v(n)\\ge 1$. We consider the elliptic curve  $F_{{\\rm I}_{n>1},0}$. The code below, verifies that the Weierstrass coefficients of this model are the $a_i^d$ that are given below:\n",
    "$$\\begin{align*}\n",
    "a_1^d&= \\left(2\\right) \\cdot a_{1} \\\\\n",
    "a_2^d&= (a_{1}^{2} d - a_{1}^{2} + 4 a_{2} d) \\\\\n",
    "a_3^d&= \\left(8\\right) \\cdot a_{3} \\\\\n",
    "a_4^d&= \\left(8\\right) \\cdot (a_{1} a_{3} d^{2} + 2 a_{4} d^{2} - a_{1} a_{3}) \\\\\n",
    "a_6^d&= \\left(16\\right) \\cdot (a_{3}^{2} d^{3} + 4 a_{6} d^{3} - a_{3}^{2}) \\\\\n",
    "\\end{align*}$$\n",
    "\n",
    "We claim that\n",
    "$$\\mathcal{V}(F_{I_{n},0})=\\left(  =1,=1,\\frac{n+8}{2},=\\frac{n+8}{2},n+7\\right)$$\n",
    "\n",
    "\n",
    "\n",
    "\n",
    "\n",
    "The valuations for $v(a_{1}^{d})$ and $v(a_{3}^{d})$ are automatic. For $v(a_{2}^{d})$, observe that $a_{2}^{d}=a_{1}^{2}\\left(  d-1\\right)+4a_{2}d\\equiv2\\ \\operatorname{mod}4$. For $v(a_{4}^{d})$, we note that $v(a_{1}a_{3}(d^{2}-1))\\geq\\frac{n+8}{2}$ and $v(2a_{4}d^{2})=\\frac{n+2}{2}$. Thus, $v(a_{4}^{d})=\\frac{n+8}{2}$. Similarly, for $v(a_{6}^{d})$ we have that $v(a_{3}^{2}(d^{3}-1))\\geq n+3$ and $v(4a_{6})\\geq n+3$. Therefore, $v(a_{6}^{d})\\geq n+7$ which establishes the claim.\n",
    "\n",
    "**By Proposition 3.4, we conclude that $\\operatorname*{typ}(F_{I_{n>0},1})=I_{n+4}^{\\ast}$.** For the local Tamagawa number $c^{d}$, we have by Corollary 3.6 that\n",
    "$$c^{d}=\\left\\{\n",
    "\\begin{align*}\n",
    "2 & \\text{ if }v(a_{6}^{d})=n+7,\\\\\n",
    "4 & \\text{ if }v(a_{6}^{d})\\geq n+8.\n",
    "\\end{align*}\n",
    "\\right.$$\n",
    "Now consider,\n",
    "$$\\begin{align*}\n",
    "\\frac{a_{6}^{d}}{2^{n+6}}  & =\\frac{16\\left(  a_{3}^{2}(d^{3}-1)+4a_{6}%\n",
    "d^{3}\\right)  }{2^{n+6}}\\\\\n",
    "& =\\frac{\\left(  a_{3}^{2}(d^{3}-1)+4a_{6}d^{3}\\right)  }{2^{n+2}}\\\\\n",
    "& =\\left(  \\frac{a_{3}}{2^{\\frac{n+2}{2}}}\\right)  ^{2}\\left(  d^{3}-1\\right)\n",
    "+2\\left(  \\frac{a_{6}}{2^{n+1}}\\right)  d^{3}\\\\\n",
    "& \\equiv\\frac{a_{3}^{2}}{2^{n+1}}+2\\left(  \\frac{a_{6}}{2^{n+1}}\\right)\n",
    "\\ \\operatorname{mod}4.\n",
    "\\end{align*}$$\n",
    "Therefore,\n",
    "$$c^{d}=\\left\\{\n",
    "\\begin{align*}\n",
    "2 & \\text{ if }v(a_{3}^{2}+2a_{6})=n+2,\\\\\n",
    "4 & \\text{ if }v(a_{3}^{2}+2a_{6})\\geq n+3.\n",
    "\\end{align*}\n",
    "\\right.$$"
   ]
  },
  {
   "cell_type": "code",
   "execution_count": 10,
   "id": "9b8b73",
   "metadata": {
    "collapsed": false
   },
   "outputs": [
    {
     "name": "stdout",
     "output_type": "stream",
     "text": [
      "a1^d= (2) * a1\n",
      "a2^d= a1^2*d - a1^2 + 4*a2*d\n",
      "a3^d= (8) * a3\n",
      "a4^d= (8) * (a1*a3*d^2 + 2*a4*d^2 - a1*a3)\n",
      "a6^d= (16) * (a3^2*d^3 + 4*a6*d^3 - a3^2)\n"
     ]
    }
   ],
   "source": [
    "print(ai_twist(F0In_1))"
   ]
  },
  {
   "cell_type": "markdown",
   "id": "ee80a7",
   "metadata": {
    "collapsed": false
   },
   "source": [
    "**Case 3:** Let $R=\\operatorname{typ}(E)=\\rm{II}$, so that \n",
    "$$\\mathcal{V}(E)=(1,1,1,1,=1).$$\n",
    "\n",
    "We now consider the cases in order of appearance in Table 6. For each case, we will consider the model $F_{\\rm{II},0}$ which is $\\mathbb{Q}_2$-isomorphic to $E^d$. The Weierstrass coefficients $a_i^d$ of $F_{\\rm{II},0}$ are verified at the start of this notebook, and are listed below for ease of reference.\n",
    "\n",
    "\\begin{align*}\n",
    "a_1^d=& a_{1} \\\\\n",
    "a_2^d=& \\left(\\frac{1}{4}\\right) \\cdot (a_{1}^{2}( d - 1) + 4 a_{2} d) \\\\\n",
    "a_3^d=& a_{3} \\\\\n",
    "a_4^d=& \\left(\\frac{1}{2}\\right) \\cdot (a_{1} a_{3} (d^{2} -1) + 2 a_{4} d^{2}) \\\\\n",
    "a_6^d=& \\left(\\frac{1}{4}\\right) \\cdot (a_{3}^{2}( d^{3}  -1 ) + 4 a_{6} d^{3} ) \\\\\n",
    "\\end{align*}\n",
    "\n",
    "In each case below, $v(a_1),v(a_2) \\ge1$ and $v(d)=0$. Consequently, $a_{1}^{2}( d-1) + 4 a_{2} d \\equiv 0 \\mod 8$. Thus, $v(a_2^d)\\ge1$.\n",
    "\n",
    "In the paper, Case 3 of Theorem 5.1 corresponds to Subcase 3(iv) below."
   ]
  },
  {
   "cell_type": "markdown",
   "id": "f4c8c3",
   "metadata": {
    "collapsed": false
   },
   "source": [
    "**Case 3\\(i\\):** Suppose $v(a_{3})\\ge2$. So we have $\\mathcal{V}(E)=(1, 1, 2, 1,=1)$.\n",
    "\n",
    "By inspection,\n",
    "\n",
    "$$\\mathcal{V}(F_{{\\rm II},0})=(1,1,2,1,=1).$$\n",
    "\n",
    "**Since $\\mathcal{V}(F_{{\\rm II},0})=(1,1,2,1,=1)$, by Proposition 3.4, we get $R^d=\\operatorname{typ}(E^d)=\\rm{II}$ and $c_2^d=1$.**"
   ]
  },
  {
   "cell_type": "markdown",
   "id": "410f3a",
   "metadata": {
    "collapsed": false
   },
   "source": [
    "**Case 3\\(ii\\):**  Suppose $v(a_{3})=1$  and $d \\equiv 1 \\mod 4$ . So we have $\\mathcal{V}(E)=(1, 1, =1, 1,=1)$ . We claim that\n",
    "\n",
    "$$\\mathcal{V}(F_{{\\rm II},0})=(1,1,=1,1,=1).$$\n",
    "\n",
    "The only case that does not necessarily follow from direct observation is $v(a_6^d)$. For $v(a_6^d)$, observe that $v(4a_6d^3)=3$ and $(d^3-1) \\equiv 0 \\mod 4$ since $d\\equiv 1 \\mod 4$.\n",
    "\n",
    "**Since $\\mathcal{V}(F_{{\\rm II},0})=(1,1,=1,1,=1)$, by Proposition 3.4, we get $R^d=\\operatorname{typ}(E^d)=\\rm{II}$ and $c^d=1$.**\n"
   ]
  },
  {
   "cell_type": "markdown",
   "id": "cfc42b",
   "metadata": {
    "collapsed": false
   },
   "source": [
    "**Case 3\\(iii\\):** Suppose $v(a_{3})=1$, $d \\equiv 3 \\mod 4$, and $v(a_4)=1$. So we have $\\mathcal{V}(E)=(1, 1, =1, =1,=1)$. We claim that\n",
    "\n",
    "$$\\mathcal{V}_{2}(F_{{\\rm II},0})=(1,1,=1,=1,2).$$\n",
    "\n",
    "The only cases that need further justification are $v(a_4^d)$ and $v(a_6^d)$. We have that $v(a_4^d)=1$ since $v(a_1a_3(d^2-1))\\ge5$ and $v(2a_4d)=2$. For $v(a_6^d)$, we note that $d\\equiv 3 \\mod 4$ implies that $v(d^3-1)=1$. It follows that $v(4a_6^d)\\ge 4$ since $v(a_3^2(d^3-1))=3$ and $v(4a_6d^3)=3$.\n",
    "\n",
    "**Since $\\mathcal{V}(F_{{\\rm II},0})=(1,1,=1,=1,2)$, by Proposition 3.4, we get $R^d=\\operatorname{typ}(E^d)=\\rm{III}$ and $c^d=2$.**"
   ]
  },
  {
   "cell_type": "markdown",
   "id": "561abf",
   "metadata": {
    "collapsed": false
   },
   "source": [
    "**Case 3\\(iv\\):** Suppose $v(a_{3})=1$, $d \\equiv 3 \\mod 4$, and $v(a_4) \\geq 2$. So we have $\\mathcal{V}(E)=(1, 1, =1, 2,=1)$. We claim that\n",
    "\n",
    "$$\\mathcal{V}(F_{{\\rm II},0})=(1,1,=1,2,2).$$\n",
    "\n",
    "The only case that needs further justification is $v(a_6^d)\\ge 2$. This is equivalent to $v(4a_6^d)\\ge 4$. This inequality follows since $v(a_3^2(d^3-1))=3$ and $v(4a_6d^3)\\ge 4$. Here, we use the fact that $v(d^3-1)=1$ since $d \\equiv 3 \\mod 4$.\n",
    "\n",
    "**Since $\\mathcal{V}(F_{{\\rm II},0})=(1,1,=1,2,2)$, by Proposition 3.4, we get $R^d=\\operatorname{typ}(E^d)=\\rm{IV}$.**\n",
    "\n",
    "By Corollary 3.6, the local Tamagawa number is determined by whether $v(a_6^d)=2$ or $\\ge 3$. To this end, observe that\n",
    "\n",
    "$$a_{6}^d  = \\frac{a_3^2(d^3-1)+4a_6d^3}{4} = \\left(\\frac{a_3}{2}\\right)^2(d^3-1)+a_6d^3\\equiv (d-1)+a_6d \\mod 8 = d+a_6d-1 \\mod 8.$$\n",
    "\n",
    "Then \n",
    "\n",
    "$$c^d=\\begin{cases} 1 &\\text{if }v(da_{6}+d-1) =2,\\\\ 3 &\\text{if }v(da_{6}+d-1) \\ge 3.\\end{cases}$$"
   ]
  },
  {
   "cell_type": "markdown",
   "id": "b03134",
   "metadata": {
    "collapsed": false
   },
   "source": [
    "**Case 4:** Let $R=\\operatorname{typ}(E)=\\rm{III}$. Then $\\mathcal{V}(E)=(1,1,1,=1,2)$. We now consider the cases in order of appearance in Table 6. For each case, we will consider the model $F_{\\rm{III},0}$ which is $\\mathbb{Q}_2$-isomorphic to $E^d$. The Weierstrass coefficients $a_i^d$ of $F_{\\rm{III},0}$ are verified at the start of this notebook, and are listed below for ease of reference.\n",
    "\n",
    "\\begin{align*}\n",
    "a_1^d&= a_{1} \\\\\n",
    "a_2^d&= \\left(\\frac{1}{4}\\right) \\cdot (a_{1}^{2}( d - 1) + 4 a_{2} d) \\\\\n",
    "a_3^d&= a_{3} \\\\\n",
    "a_4^d&= \\left(\\frac{1}{2}\\right) \\cdot (a_{1} a_{3} (d^{2} -1) + 2 a_{4} d^{2}) \\\\\n",
    "a_6^d&= \\left(\\frac{1}{4}\\right) \\cdot (a_{3}^{2}( d^{3}  -1 ) + 4 a_{6} d^{3} ) \\\\\n",
    "\\end{align*}\n",
    "\n",
    "In each case below, $v(a_1),v(a_2) \\ge1$ and $v(d)=0$. Consequently, $a_{1}^{2}( d-1) + 4 a_{2} d \\equiv 0 \\mod 8$. Thus, $v(a_2^d)\\ge1$."
   ]
  },
  {
   "cell_type": "markdown",
   "id": "c9f3cf",
   "metadata": {
    "collapsed": false
   },
   "source": [
    "**Case 4\\(i\\):** Suppose $d \\equiv 1 \\mod 4$. Recall that $\\mathcal{V}(E)=(1, 1, 1, =1,2)$. From the valuations and the fact that $v(d^3-1)\\ge2$ and $v(d^2-1)\\ge3$, it is easily verified that\n",
    "\n",
    "$$\\mathcal{V}(F_{{\\rm III},0})=(1,1,1,=1,2).$$\n",
    "\n",
    "**Since $\\mathcal{V}(F_{{\\rm III},0})=(1,1,1,=1,2)$, Proposition 3.4 implies that $R^d=\\operatorname{typ}(E^d)=\\rm{III}$ and $c^d=2$.**"
   ]
  },
  {
   "cell_type": "markdown",
   "id": "ac8410",
   "metadata": {
    "collapsed": false
   },
   "source": [
    "**Case 4\\(ii\\):** Suppose $d \\equiv 3 \\mod 4$ and $v(a_3)=1$. Thus, $\\mathcal{V}(E)=(1, 1, =1, =1,2)$. Since $d \\equiv 3 \\mod 4$ implies that $v(d^3-1)=1$, it is easily verified that\n",
    "\n",
    "$$\\mathcal{V}(F_{{\\rm III},0})=(1,1,=1,=1,=1).$$\n",
    "\n",
    "**Since $\\mathcal{V}(F_{{\\rm III},0})=(1,1,=1,=1,=1)$, Proposition 3.4 implies that $R^d=\\operatorname{typ}(E^d)=\\rm{II}$ and $c^d=1$.**"
   ]
  },
  {
   "cell_type": "markdown",
   "id": "5244b8",
   "metadata": {
    "collapsed": false
   },
   "source": [
    "**Case 4\\(iii\\):** Suppose $d \\equiv 3 \\mod 4$ and $v(a_3) \\geq2$ . Thus, $\\mathcal{V}(E)=(1, 1, 2, =1,2)$. It is then easily verified that\n",
    "\n",
    "$$\\mathcal{V}(F_{{\\rm III},0})=(1,1,2,=1,2).$$\n",
    "\n",
    "**Since $\\mathcal{V}(F_{{\\rm III},0})=(1,1,2,=1,2)$, Proposition 3.4 implies that $R^d=\\operatorname{typ}(E^d)=\\rm{III}$ and $c^d=2$.**"
   ]
  },
  {
   "cell_type": "markdown",
   "id": "590dc4",
   "metadata": {
    "collapsed": false
   },
   "source": [
    "**Case 5:** Let $R=\\operatorname{typ}(E)=\\rm{IV}$. Then $\\mathcal{V}(E)=\\left(  1,1,=1,2,2\\right)$. By Corollary 3.6,\n",
    "$$c=\\begin{cases} 1 &v_2(a_{6})=2,\\\\ 3 &v_2(a_{6})\\ge 3.\\end{cases}$$\n",
    "\n",
    "\n",
    "We now consider the cases in order of appearance in Table 6. For each case, we will consider the model $F_{\\rm{IV},0}$ which is $\\mathbb{Q}_2$-isomorphic to $E^d$. The Weierstrass coefficients $a_i^d$ of $F_{\\rm{IV},0}$ are verified at the start of this notebook, and are listed below for ease of reference.\n",
    "\n",
    "\\begin{align*}\n",
    "a_1^d&= a_{1} \\\\\n",
    "a_2^d&= \\left(\\frac{1}{4}\\right) \\cdot (a_{1}^{2}( d - 1) + 4 a_{2} d) \\\\\n",
    "a_3^d&= a_{3} \\\\\n",
    "a_4^d&= \\left(\\frac{1}{2}\\right) \\cdot (a_{1} a_{3} (d^{2} -1) + 2 a_{4} d^{2}) \\\\\n",
    "a_6^d&= \\left(\\frac{1}{4}\\right) \\cdot (a_{3}^{2}( d^{3}  -1 ) + 4 a_{6} d^{3} ) \\\\\n",
    "\\end{align*}\n",
    "\n",
    "In each case below, $v(a_1),v(a_2) \\ge1$ and $v(d)=0$. Consequently, $a_{1}^{2}( d-1) + 4 a_{2} d \\equiv 0 \\mod 8$. Thus, $v(a_2^d)\\ge1$."
   ]
  },
  {
   "cell_type": "markdown",
   "id": "25ccb1",
   "metadata": {
    "collapsed": false
   },
   "source": [
    "**Case 5\\(i\\):** Suppose $d \\equiv 3 \\mod 4$. Recall that $\\mathcal{V}(E)=\\left(  1,1,=1,2,2\\right)$. Since $d \\equiv 3 \\mod 4$, it follows that $v(d^3-1)=1$. It is then easily verified that\n",
    "$$\\mathcal{V}(F_{{\\rm IV},0})=(1,1,=1,2,=1).$$\n",
    "\n",
    "**Since $\\mathcal{V}(F_{{\\rm IV},0})=(1,1,=1,2,=1)$, Proposition 3.4 implies that $R^d=\\operatorname{typ}(E^d)=\\rm{II}$ and $c^d=1$.**"
   ]
  },
  {
   "cell_type": "markdown",
   "id": "de66d4",
   "metadata": {
    "collapsed": false
   },
   "source": [
    "**Case 5\\(ii\\):** Suppose $d \\equiv 1 \\mod 4$. Recall that $\\mathcal{V}(E)=\\left(  1,1,=1,2,2\\right)$. Since $d \\equiv 1 \\mod 4$ implies that $v(d^3-1)\\ge2$, it is easily verified that \n",
    "$$\\mathcal{V}(F_{{\\rm IV},0})=(1,1,=1,2,2).$$\n",
    "\n",
    "**Since $\\mathcal{V}(F_{{\\rm IV},0})=(1,1,=1,2,2)$, Proposition 3.4 implies that $R^d=\\operatorname{typ}(E^d)=\\rm{IV}$.**\n",
    "\n",
    " For local Tamagawa number $c^d$, Corollary 3.6 implies\n",
    "$$c^d=\\begin{cases} 1 &\\text{ if } v(a_{6}^d)=2,\\\\ 3 &\\text{ if } v(a_{6}^d)\\ge 3.\\end{cases}$$\n",
    "\n",
    "Now observe that\n",
    "\n",
    "$$a_{6}^d  = \\frac{a_3^2(d^3-1)+4a_6d^3}{4} = \\left(\\frac{a_3}{2}\\right)^2(d^3-1)+a_6d^3\\equiv (d-1)+a_6d \\mod 8 = d+a_6d-1 \\mod 8.$$\n",
    "\n",
    "Therefore,\n",
    "\n",
    "$$c^d=\\begin{cases} 1 &\\text{if }v(da_{6}+d-1) =2,\\\\ 3 &\\text{if }v(da_{6}+d-1) \\ge 3.\\end{cases}$$"
   ]
  },
  {
   "cell_type": "markdown",
   "id": "8c1b1c",
   "metadata": {
    "collapsed": false
   },
   "source": [
    "**Case 6:** Let $R=\\operatorname{typ}(E)=\\rm{I}_0^*$ so that $\\mathcal{V}(E)=\\left(  1,1,2,3,=3\\right)$. By Corollary 3.6,\n",
    "$$c=\\begin{cases} 1 &v(a_{2})=1,\\\\ 2 &v(a_{2})\\ge 2.\\end{cases}$$\n",
    "\n",
    "We now consider the cases in order of appearance in Table 6. For each case, we will consider the model $F_{\\rm{I}_0^*,0}$ which is $\\mathbb{Q}_2$-isomorphic to $E^d$. The Weierstrass coefficients $a_i^d$ of $F_{\\rm{I}_0^*,0}$ are verified at the start of this notebook, and are listed below for ease of reference.\n",
    "\n",
    "\\begin{align*}\n",
    "a_1^d&= a_{1} \\\\\n",
    "a_2^d&= \\left(\\frac{1}{4}\\right) \\cdot (a_{1}^{2}( d - 1) + 4 a_{2} d) \\\\\n",
    "a_3^d&= a_{3} \\\\\n",
    "a_4^d&= \\left(\\frac{1}{2}\\right) \\cdot (a_{1} a_{3} (d^{2} -1) + 2 a_{4} d^{2}) \\\\\n",
    "a_6^d&= \\left(\\frac{1}{4}\\right) \\cdot (a_{3}^{2}( d^{3}  -1 ) + 4 a_{6} d^{3} ) \\\\\n",
    "\\end{align*}\n",
    "\n",
    "In each case below, $v(a_1),v(a_2) \\ge1$ and $v(d)=0$. Consequently, $a_{1}^{2}( d-1) + 4 a_{2} d \\equiv 0 \\mod 8$. Thus, $v(a_2^d)\\ge1$."
   ]
  },
  {
   "cell_type": "markdown",
   "id": "296eef",
   "metadata": {
    "collapsed": false
   },
   "source": [
    "\n",
    "**Case 6 (i):** Assume that  $d\\equiv1 \\mod 4$ and recall that $\\mathcal{V}(E)=\\left(  1,1,2,3,=3\\right)$. Since $d\\equiv1 \\mod 4$ implies that $v(d^3-1)\\ge 2$, it is easily verified that\n",
    "$$\\mathcal{V}(F_{{{\\rm I}_0^*},0})=\\left(  1,1,2,3,=3\\right).$$\n",
    "\n",
    "**Since $\\mathcal{V}(F_{{{\\rm I}_0^*},0})=(1,1,2,3,=3)$, Proposition 3.4 implies that $R^d=\\operatorname{typ}(E^d)=\\rm{I}_0^*$.** \n",
    "\n",
    "For the local Tamagawa number, note that Corollay 3.6 implies $c^d=1$ (resp. $2$) if $v(a_2^d)=1$ (resp. $\\ge 2$). Now observe that \n",
    "\n",
    "$$a_2^d =\\left(\\frac{a_1}{2}\\right)^2(d-1) + a_2 d\\equiv a_2 \\mod 4. $$\n",
    "\n",
    "Thus, $v(a_2^d)\\ge 2$ if and only if $v(a_2)\\ge 2$. Hence,\n",
    "\n",
    "$$c^d=\\begin{cases} 1 &v(a_{2})=1,\\\\ 2 &v(a_{2})\\ge 2.\\end{cases}$$\n"
   ]
  },
  {
   "cell_type": "markdown",
   "id": "6da5cb",
   "metadata": {
    "collapsed": false
   },
   "source": [
    "**Case 6 (ii):** Assume that  $d\\equiv3 \\mod 4$ and $v_2(a_3)\\ge 3$.  Consequently, $\\mathcal{V}(E)=\\left(  1,1,3,3,=3\\right).$  It is then easily checked that\n",
    "$$\\mathcal{V}(F_{{{\\rm I}_0^*},0})=\\left(  1,1,3,3,=3\\right).$$\n",
    "\n",
    "**Since $\\mathcal{V}(F_{{{\\rm I}_0^*},0})=(1,1,3,3,=3)$, Proposition 3.4 implies that $R^d=\\operatorname{typ}(E^d)=\\rm{I}_0^*$.** \n",
    "\n",
    "For the local Tamagawa number, note that Corollay 3.6 implies $c^d=1$ (resp. $2$) if $v(a_2^d)=1$ (resp. $\\ge 2$). Now observe that \n",
    "\n",
    "$$a_2^d =\\left(\\frac{a_1}{2}\\right)^2(d-1) + a_2 d \\equiv 2\\left(\\frac{a_1}{2}\\right)^2+ a_2 \\mod 4 =\\frac{a_1^2}{2} + a_2 \\mod 4 =a_1 + a_2 \\mod 4$$\n",
    "\n",
    "Thus, $v(a_2^d)\\ge 2$ if and only if $v(a_1 + a_2)\\ge 2$.  Hence,\n",
    "\n",
    "$$c^{d}=\\left\\{\n",
    "\\begin{align*}\n",
    "1 & \\text{ if }  \\ v(a_{1}+a_2)=1,\\\\\n",
    "2 & \\text{ if }  \\ v(a_{1}+a_2)\\ge2.\n",
    "\\end{align*}\n",
    "\\right.$$\n"
   ]
  },
  {
   "cell_type": "markdown",
   "id": "f984ae",
   "metadata": {
    "collapsed": false
   },
   "source": [
    "\n",
    "**Case 6 (iii):** Assume that  $d\\equiv3 \\mod 4$ and $v(a_3)=2$. Consequently, $\\mathcal{V}(E)=\\left(  1,1,=2,3,=3\\right).$ Observe that $v(a_3^2(d^3-1))=5$ and $v(4a_4d^3)=5$. Thus, $v(a_6^d)\\ge 4$. It is now easily checked that\n",
    "$$\\mathcal{V}(F_{{{\\rm I}_0^*},0})=\\left(  1,1,=2,3,4\\right).$$\n",
    "**By Proposition 3.4 we conclude that**\n",
    "$$R^d=\\operatorname{typ}(E^d)=\n",
    "\\begin{cases}\n",
    "\\rm{I}_1^* &  \\text{ if } \\mathcal{V}(F_{{{\\rm I}_0^*},0})=(1,=1,=2,3,4),\\\\\n",
    "\\rm{IV}^* & \\text{ if } \\mathcal{V}(F_{{{\\rm I}_0^*},0})=(1,2,=2,3,4).\n",
    "\\end{cases}\n",
    "$$\n",
    "\n",
    "In particular, $\\operatorname{typ}(E^d)$ depends on whether $v(a_2^d)=1$ or $v(a_2^d)\\ge 2$. As in the previous case,\n",
    "$$a_2^d =\\left(\\frac{a_1}{2}\\right)^2(d-1) + a_2 d \\equiv 2\\left(\\frac{a_1}{2}\\right)^2+ a_2 \\mod 4 =\\frac{a_1^2}{2} + a_2 \\mod 4 =a_1 + a_2 \\mod 4$$\n",
    "\n",
    "Thus, $v(a_2^d)\\ge 2$ if and only if $v(a_1 + a_2)\\ge 2$.  Hence,  \n",
    "$$R^d=\\operatorname{typ}(E^d)=\n",
    "\\begin{cases}\n",
    "\\rm{I}_1^* &  \\text{ if } v(a_1+a_2)=1,\\\\\n",
    "\\rm{IV}^* & \\text{ if } v(a_1+a_2)\\ge2.\n",
    "\\end{cases}$$\n",
    "\n",
    "It remains to consider the local tamagawa number $c^d$. By Corollary 3.6, $c^d$ depends on $v(a_6^d)$. Since $a_6^d$ does not depend on $a_1$ or $a_2$, we can treat both cases together. To this end, observe that\n",
    "$$a_{6}^{d}=4\\left(  \\left(  \\frac{a_{3}}{4}\\right)  ^{2}\\left(  d^{3}-1\\right)+\\frac{a_{6}d}{4}\\right)  .$$\n",
    "Since\n",
    "$$\\left(  \\frac{a_{3}}{4}\\right)  ^{2}\\left(  d^{3}-1\\right)  +\\frac{a_{6}d}{4}\\equiv\\left(  d-1\\right)  +3\\frac{a_{6}d}{4}\\ \\operatorname{mod}8,$$\n",
    "we conclude that\n",
    "\n",
    "$$v(a_{6}^{d})=\\left\\{\n",
    "\\begin{align*}\n",
    "4 & \\text{ if }v(4(d-1)+3a_{6}d)=4,\\\\\n",
    "\\geq5 & \\text{ if }v(4(d-1)+3a_{6}d)\\geq5.\n",
    "\\end{align*}\n",
    "\\right.$$\n",
    "\n",
    "Thus, the local Tamagawa number $c^{d}$ is as claimed."
   ]
  },
  {
   "cell_type": "markdown",
   "id": "7e224d",
   "metadata": {
    "collapsed": false
   },
   "source": [
    "**Case 7.** Let $R=\\operatorname*{typ}(E)=\\rm{I}^*_{n>0}$. Since $E$ is given by a normal model, we have that\n",
    "\n",
    "$$\\mathcal{V}(E)=\\begin{cases} \\left(  1,=1,=\\frac{n+3}{2},\\frac{n+5}{2},n+3\\right)  &\\text{if } n \\text{ is odd},\\\\ \\left(  1,=1,\\frac{n+4}{2},=\\frac{n+4}{2},n+3\\right) &\\text{if } n \\text{ is even}.\\end{cases}$$\n",
    "\n",
    "\n",
    "In the paper, we only verify the local Tamagawa number $c^{d}$ of $E^{d}$, which is also considered below. In several of the cases below, we consider the elliptic curve $F_{{\\rm I}^*_{n},0}$ that is $\\mathbb{Q}_2$-isomorphic to $E^d$. Its Weierstrass coefficients are\n",
    "\n",
    "\\begin{align*}\n",
    "a_1^d&= a_{1} \\\\\n",
    "a_2^d&= \\left(\\frac{1}{4}\\right) \\cdot (a_{1}^{2}( d-1)  + 4 a_{2} d) \\\\\n",
    "a_3^d&= a_{3} \\\\\n",
    "a_4^d&= \\left(\\frac{1}{2}\\right) \\cdot (a_{1} a_{3}( d^{2}-1) + 2 a_{4} d^{2} ) \\\\\n",
    "a_6^d&= \\left(\\frac{1}{4}\\right) \\cdot (a_{3}^{2} (d^{3}-1) + 4 a_{6} d^{3}) \\\\\n",
    "\\end{align*}\n",
    "\n",
    "To ease the presentation below, we make several observations on the model $F_{{\\rm I}^*_{n},0}$. Namely, since $E$ is given by a normal model, we have that\n",
    "$$a_{2}^{d}=\\left(  \\frac{a_{1}}{2}\\right)  ^{2}\\left(  d-1\\right)\n",
    "+a_{2}d\\equiv\\left\\{\n",
    "\\begin{align*}\n",
    "2\\ \\operatorname{mod}4 & \\text{ if }\\left(  i\\right)  \\ d\\equiv\n",
    "1\\ \\operatorname{mod}4\\text{ or }\\left(  ii\\right)  \\ d\\equiv\n",
    "3\\ \\operatorname{mod}4\\text{ with }v(a_{1})\\geq2,\\\\\n",
    "0\\ \\operatorname{mod}4 & \\text{ if }\\left(  i\\right)  \\ d\\equiv\n",
    "3\\ \\operatorname{mod}4\\text{ and }v(a_{1})=1.\n",
    "\\end{align*}\n",
    "\\right.$$\n",
    "\n",
    "Thus,\n",
    "$$v(a_{2}^{d})=\\left\\{\n",
    "\\begin{align*}\n",
    "1 & \\text{if }\\left(  i\\right)  \\ d\\equiv1\\ \\operatorname{mod}4\\text{ or\n",
    "}\\left(  ii\\right)  \\ d\\equiv3\\ \\operatorname{mod}4\\text{ with }v(a_{1})\\geq2,\\\\\n",
    "\\geq2 & \\text{if }\\left(  i\\right)  \\ d\\equiv3\\ \\operatorname{mod}4\\text{ and\n",
    "}v(a_{1})=1.\n",
    "\\end{align*}\n",
    "\\right.$$\n",
    "\n",
    "Next, since $d$ is odd we have that $v(d^{2}-1)\\geq3$. Hence,\n",
    "$$v(a_{4}^{d})=\\left\\{\n",
    "\\begin{align*}\n",
    "\\geq\\frac{n+5}{2} & \\text{ if }n\\text{ is odd,}\\\\\n",
    "\\frac{n+4}{2} & \\text{ if }n\\text{ is even.}\n",
    "\\end{align*}\n",
    "\\right.$$\n",
    "\n",
    "Now observe that\n",
    "$$v\\!\\left(  \\frac{1}{4}a_{3}^{2}\\left(  d^{3}-1\\right)  \\right)  =\\left\\{\n",
    "\\begin{align*}\n",
    "\\geq n+3 & \\text{ if }n\\text{ is odd and }d\\equiv1\\ \\operatorname{mod}4,\\\\\n",
    "n+2 & \\text{ if }n\\text{ is odd and }d\\equiv3\\ \\operatorname{mod}4,\\\\\n",
    "\\geq n+3 & \\text{ if }n\\text{ is even.}\n",
    "\\end{align*}\n",
    "\\right. $$\n",
    "\n",
    "Consequently,\n",
    "$$v(a_{6}^{d})=\\left\\{\n",
    "\\begin{align*}\n",
    "n+2 & \\text{ if }n\\text{ is odd and }d\\equiv3\\ \\operatorname{mod}4,\\\\\n",
    "\\geq n+3 & \\text{ if }\\left(  i\\right)  \\ n\\text{ is odd and }d\\equiv\n",
    "1\\ \\operatorname{mod}4\\text{ or }\\left(  ii\\right)  \\ n\\ \\text{is even.}\n",
    "\\end{align*}\n",
    "\\right.$$\n",
    "\n",
    "In sum, we have show that\n",
    "$$\\mathcal{V}(F_{I_{n}^{\\ast},0})=\\left\\{\n",
    "\\begin{align*}\n",
    "\\left(  1,=1,=\\frac{n+3}{2},\\frac{n+5}{2},n+3\\right)   & \\text{ if }d\\equiv1\\ \\operatorname{mod}4\\text{ and }n\\text{ is odd,}\\\\\n",
    "\\left(  1,=1,\\frac{n+4}{2},=\\frac{n+4}{2},n+3\\right)   & \\text{ if }d\\equiv1\\ \\operatorname{mod}4\\text{ and }n\\text{ is even,}\\\\\n",
    "\\left(  =1,2,=\\frac{n+3}{2},\\frac{n+5}{2},=n+2\\right)   & \\text{ if  }d\\equiv3\\ \\operatorname{mod}4,\\ v(a_{1})=1,\\text{ and }n\\text{ is odd,}\\\\\n",
    "\\left(  2,=1,=\\frac{n+3}{2},\\frac{n+5}{2},=n+2\\right)   & \\text{ if }d\\equiv3\\ \\operatorname{mod}4,\\ v(a_{1})\\geq2,\\text{ and }n\\text{ is odd,}\\\\\n",
    "\\left(  =1,2,\\frac{n+4}{2},=\\frac{n+4}{2},n+3\\right)   & \\text{ if }d\\equiv3\\ \\operatorname{mod}4,\\ v(a_{1})=1,\\text{ and }n\\text{ is even,}\\\\\n",
    "\\left(  2,=1,\\frac{n+4}{2},=\\frac{n+4}{2},n+3\\right)   & \\text{ if } d\\equiv3\\ \\operatorname{mod}4,\\ v(a_{1})\\geq2,\\text{ and }n\\text{ is even.}\n",
    "\\end{align*}\n",
    "\\right.$$"
   ]
  },
  {
   "cell_type": "markdown",
   "id": "c791af",
   "metadata": {
    "collapsed": false
   },
   "source": [
    "**Subcase 7(i):** Suppose $d\\equiv1\\ \\operatorname{mod}4$. We consider the elliptic curve  $F_{{\\rm I}^*_{n},0}$. By the comments at the end of the **Case 7** discussion, we have that\n",
    "$$\\mathcal{V}(F_{I_{n}^{\\ast},0})=\\left\\{\n",
    "\\begin{align*}\n",
    "\\left(  1,=1,=\\frac{n+3}{2},\\frac{n+5}{2},n+3\\right)   & \\text{ if }n\\text{ is odd,}\\\\\n",
    "\\left(  1,=1,\\frac{n+4}{2},=\\frac{n+4}{2},n+3\\right)   & \\text{ if }n\\text{ is even.}\n",
    "\\end{align*}\n",
    "\\right.$$\n",
    "\n",
    "**By Proposition 3.4, we get that $R^{d}=\\operatorname*{typ}(E^{d})=\\rm{I}_{n}^*$.** \n",
    "\n",
    "For the local Tamagawa number $c^{d}$,  let $k=n+3$ (resp. $n+4$) if $n$ is odd (resp. even). Then\n",
    "$$\\frac{a_{6}^{d}}{2^{k}}=\\left\\{\n",
    "\\begin{align*}\n",
    "\\left(  \\frac{a_{3}}{2^{\\frac{n+3}{2}}}\\right)  ^{2}\\left(  d^{3}-1\\right)\n",
    "+\\frac{a_{6}}{2^{n+1}}d^{3} & \\equiv d-1+\\frac{a_{6}}{2^{n+1}}\\ \\operatorname{mod}8 & \\text{ if }n\\text{ is odd,}\\\\\n",
    "\\left(  \\frac{a_{3}}{2^{\\frac{n+4}{2}}}\\right)  ^{2}\\left(  d^{3}-1\\right)\n",
    "+\\frac{a_{6}}{2^{n+2}}d^{3} & \\equiv\\frac{a_{6}}{2^{n+2}}\\ \\operatorname{mod} 4 & \\text{ if }n\\text{ is even.}\n",
    "\\end{align*}\n",
    "\\right.$$\n",
    "\n",
    "\n",
    "It follows from Corollary 3.6 that:\n",
    "\\begin{align*}\n",
    "c^{d}&=\n",
    "\\begin{cases}\n",
    "2 & \\text{ if }v(2^{n+1}(d-1)+a_{6})=n+3,\\\\\n",
    "4 & \\text{ if }v(2^{n+1}(d-1)+a_{6})\\geq n+4,\n",
    "\\end{cases}     \\text{ if } n  \\text{ and } \\not \\in 2\\mathbb{Z}, \\\\\n",
    "c^{d}&=\n",
    "\\begin{cases}\n",
    "2 & \\text{ if }v(a_{6})=n+3,\\\\\n",
    "4 & \\text{ if }v(a_{6})\\geq n+4.\n",
    "\\end{cases} \\text{ if } n  \\text{ and } \\in2\\mathbb{Z}.\n",
    "\\end{align*}\n"
   ]
  },
  {
   "cell_type": "markdown",
   "id": "e2c49a",
   "metadata": {
    "collapsed": false
   },
   "source": [
    "**Subcase 7(ii):** Suppose $d\\equiv3\\ \\operatorname{mod}4$ and $n=1$. We consider the elliptic curve  $F_{{\\rm I}^*_{n},0}$. By the comments at the end of the **Case 7** discussion, we have that\n",
    "\n",
    "$$\\mathcal{V}(F_{I_{n}^{\\ast},0}) = \\left(  1,1,=2,3,=3\\right).$$\n",
    "\n",
    "**By Proposition 3.4, we get that $R^{d}=\\operatorname*{typ}(E^{d})=\\rm{I}_{0}^*$.** \n",
    "\n",
    "By Corollary 3.6, the local Tamagawa number depends on $v(a_2^d)$. By the discussion about $v(a_2^d)$ at the start of **Case 7**, we conclude that\n",
    "$$c^{d}=\\left\\{\n",
    "\\begin{align*}\n",
    "1 & \\text{ if }v(a_{1})\\ge 2,\\\\\n",
    "2 & \\text{ if }v(a_{1})=1.\n",
    "\\end{align*}\n",
    "\\right.$$"
   ]
  },
  {
   "cell_type": "markdown",
   "id": "41d35d",
   "metadata": {
    "collapsed": false
   },
   "source": [
    "**Subcase 7(iii):** Suppose $d\\equiv3\\ \\operatorname{mod}4$, $n=2$, and $v(a_1)=1$. We consider the elliptic curve  $F_{{\\rm I}^*_{n},0}$. By the comments at the end of the **Case 7** discussion, we have that\n",
    "$$\\mathcal{V}(F_{I_{n}^{\\ast},0})=\\left(  =1,2,3,=3,6\\right).$$\n",
    "\n",
    "**By Proposition 3.4, we get that $R^{d}=\\operatorname*{typ}(E^{d})=\\rm{III}^*$ with $c^d=2$.**"
   ]
  },
  {
   "cell_type": "markdown",
   "id": "ce2293",
   "metadata": {
    "collapsed": false
   },
   "source": [
    "**Subcase 7(iv):** Suppose $d\\equiv3\\ \\operatorname{mod}4$, $v(n)\\ge1$, and $v(a_1)\\ge 2$. We consider the elliptic curve  $F_{{\\rm I}^*_{n},0}$. By the comments at the end of the **Case 7** discussion, we have that\n",
    "$$\\mathcal{V}(F_{I_{n}^{\\ast},0})=\\left(  2,=1,\\frac{n+4}{2},=\\frac{n+4}{2},n+3\\right).$$\n",
    "\n",
    "**By Proposition 3.4, we get that $R^{d}=\\operatorname*{typ}(E^{d})=\\rm{I}_{n}^*$.**\n",
    "\n",
    "Now observe, using the equality for $a_6^d$ given in Subcase 7 (i) for $n$ even, that\n",
    "$$\\frac{a_{6}^{d}}{2^{n+2}}=\\left(  \\frac{a_{3}}{2^{\\frac{n+4}{2}}}\\right)\n",
    "^{2}\\left(  d^{3}-1\\right)  +\\frac{a_{6}}{2^{n+2}}d^{3}\\equiv\\frac{a_{3}^{2}%\n",
    "}{2^{n+3}}+\\frac{a_{6}}{2^{n+2}}\\ \\operatorname{mod}4.$$\n",
    "We conclude from Corollary 3.6 that\n",
    "$$c^{d}=\\left\\{\n",
    "\\begin{align*}\n",
    "2 & \\text{ if }v(a_{3}^{2}+2a_{6})=n+4,\\\\\n",
    "4 & \\text{ if }v(a_{3}^{2}+2a_{6})\\geq n+5.\n",
    "\\end{align*}\n",
    "\\right.$$"
   ]
  },
  {
   "cell_type": "markdown",
   "id": "2475b9",
   "metadata": {
    "collapsed": false
   },
   "source": [
    "**Subcase 7(v):** Suppose $d\\equiv3\\ \\operatorname{mod}4$, $n=3$, and $v(a_1)=1$. We consider the elliptic curve  $F_{{\\rm I}^*_{n},0}$. By the comments at the end of the **Case 7** discussion, we have that\n",
    "$$\\mathcal{V}(F_{I_{n}^{\\ast},0})=\\left(  =1,2,=3,4,=5\\right).$$\n",
    "\n",
    "**By Proposition 3.4, we get that $R^{d}=\\operatorname*{typ}(E^{d})=\\rm{II}^*$ with $c^d=1$.**"
   ]
  },
  {
   "cell_type": "markdown",
   "id": "cbd31b",
   "metadata": {
    "collapsed": false
   },
   "source": [
    "**Subcase 7(vi):** Suppose $d\\equiv3\\ \\operatorname{mod}4$, $n=3$, and $v(a_1)\\ge 2$. We consider the elliptic curve  $F_{{\\rm I}^*_{n},1}$. It's Weierstrass coefficients $a_i^d$ are given below, and verified in the next cell.\n",
    "\\begin{align*}\n",
    "a_1^d&= 0 \\\\\n",
    "a_2^d&= \\left(\\frac{1}{4}\\right) \\cdot (a_{1}^{2} d + 4 a_{2} d + 6 a_{3}) \\\\\n",
    "a_3^d&= a_{3} \\\\\n",
    "a_4^d&= \\left(\\frac{1}{4}\\right) \\cdot (a_{1}^{2} a_{3} d + 2 a_{1} a_{3} d^{2} + 4 a_{2} a_{3} d + 4 a_{4} d^{2} + 3 a_{3}^{2}) \\\\\n",
    "a_6^d&= \\left(\\frac{1}{16}\\right) \\cdot (a_{1}^{2} a_{3}^{2} d + 4 a_{1} a_{3}^{2} d^{2} + 4 a_{3}^{2} d^{3} + 4 a_{2} a_{3}^{2} d + 8 a_{3} a_{4} d^{2} + 16 a_{6} d^{3} + 2 a_{3}^{3} - 4 a_{3}^{2}) \\\\\n",
    "\\end{align*}\n",
    "\n",
    "Observe that $a_{2}^{d}\\equiv a_{2}d\\ \\operatorname{mod}4$ since $v(a_{1}^{2}d),v(6a_{3})\\geq4$. Consequently, $v(a_{2}^{d})=1.$It is easily verified that each term appearing in $4a_{4}^{d}$ has a valuation of at least $\\frac{n+9}{2}$. Thus, $v(a_{4}^{d})\\geq\\frac{n+5}{2}$. Next, consider $16a_{6}^{d}$. By inspection, the only terms whose valuation is less than $n+7$ are: $4a_{3}^{2}d^{3},-4a_{3}^{2},$ and $4a_{2}a_{3}^{2}d$. Since \n",
    "$$4a_{3}^{2}d^{3}-4a_{3}^{2}+4a_{2}a_{3}^{2}d=4a_{3}^{2}\\left(  d^{3}-1+a_{2}d\\right)  $$ and \n",
    "$$d^{3}-1+a_{2}d\\equiv0\\ \\operatorname{mod}4,$$ we conclude that $v(16a_{6}^{d})\\geq n+7$. In sum, we have shown that\n",
    "$$\\mathcal{V}(F_{\\rm{I}_{n}^{\\ast},1})=\\left(  \\infty,=1,=\\frac{n+3}{2},\\frac{n+5}{2},n+3\\right)  .$$\n",
    "\n",
    "**By Proposition 3.4, we get that $R^{d}=\\operatorname*{typ}(E^{d})=\\rm{I}_n^*$**.\n",
    "\n",
    "To compute $c^{d}$, we must determine when equality holds in $v(a_{6}^{d})\\geq n+3$ by Corollary 3.6. To this end, we have that\n",
    "$$\\begin{align*}\n",
    "16a_{6}^{d}  & =a_{1}a_{3}^{2}d(a_{1}+4d)+4a_{3}^{2}(d^{3}-1+a_{2}%\n",
    "d)+8a_{3}a_{4}d^{2}+16a_{6}d^{3}+2a_{3}^{3}\\\\\n",
    "& =2^{n+5}\\left(  \\frac{a_{1}a_{3}^{2}d}{2^{n+5}}(a_{1}+4d)+\\frac{a_{3}^{2}%\n",
    "}{2^{n+3}}(d^{3}-1+a_{2}d)+\\frac{a_{3}a_{4}d^{2}}{2^{n+2}}+\\frac{a_{6}d^{3}%\n",
    "}{2^{n+1}}+\\frac{a_{3}^{3}}{2^{n+4}}\\right)  .\n",
    "\\end{align*}$$\n",
    "Considering the cases $v(a_{1})=2$ and $v(\\alpha_{1})\\geq3$, it is easily checked that $v\\!\\left(  \\frac{a_{1}a_{3}^{2}d}{2^{n+5}}(a_{1}+4d)\\right)\\geq3$. Thus,\n",
    "$$\\begin{align*}\n",
    "\\frac{a_{6}^{d}}{2^{n+1}}  & \\equiv d^{3}-1+a_{2}d+\\frac{a_{3}a_{4}d^{2}%\n",
    "}{2^{n+2}}+\\frac{a_{6}d^{3}}{2^{n+1}}+\\left(  \\frac{a_{3}}{2^{\\frac{n+3}{2}}}\\right)  ^{2}\\frac{a_{3}}{2}\\ \\operatorname{mod}8\\\\\n",
    "& \\equiv d-1+a_{2}d+\\frac{a_{3}a_{4}}{2^{n+2}}+\\frac{a_{6}}{2^{n+1}}%\n",
    "+\\frac{a_{3}}{2}\\ \\operatorname{mod}8.\n",
    "\\end{align*}$$\n",
    "It follows from Corollary 3.6 that\n",
    "$$c^{d}=\\left\\{\n",
    "\\begin{align*}\n",
    "2 & \\text{ if }v(2^{n+2}(d-1+a_{2}d)+a_{3}a_{4}+2a_{6}+2^{n+1}a_{3})=n+4,\\\\\n",
    "4 & \\text{ if }v(2^{n+2}(d-1+a_{2}d)+a_{3}a_{4}+2a_{6}+2^{n+1}a_{3})\\geq n+5.\n",
    "\\end{align*}\n",
    "\\right.$$"
   ]
  },
  {
   "cell_type": "code",
   "execution_count": 8,
   "id": "eacf92",
   "metadata": {
    "collapsed": false
   },
   "outputs": [
    {
     "name": "stdout",
     "output_type": "stream",
     "text": [
      "a1^d= 0\n",
      "a2^d= (1/4) * (a1^2*d + 4*a2*d + 6*a3)\n",
      "a3^d= a3\n",
      "a4^d= (1/4) * (a1^2*a3*d + 2*a1*a3*d^2 + 4*a2*a3*d + 4*a4*d^2 + 3*a3^2)\n",
      "a6^d= (1/16) * (a1^2*a3^2*d + 4*a1*a3^2*d^2 + 4*a3^2*d^3 + 4*a2*a3^2*d + 8*a3*a4*d^2 + 16*a6*d^3 + 2*a3^3 - 4*a3^2)\n"
     ]
    }
   ],
   "source": [
    "print(ai_twist(F0Instar_1))"
   ]
  },
  {
   "cell_type": "markdown",
   "id": "91a10f",
   "metadata": {
    "collapsed": false
   },
   "source": [
    "**Subcase 7(vii):** Suppose $d\\equiv3\\ \\operatorname{mod}4$, $n=4$, and $v(a_1)=1$. Thus, $\\mathcal{V}(E)=(=1,=1,4,=4,7)$. We consider the elliptic curve  $F_{{\\rm I}^*_{n},2}$. It's Weierstrass coefficients $a_i^d$ are given below, and verified in the next cell.\n",
    "\\begin{align*}\n",
    "a_1^d&= \\left(\\frac{1}{2}\\right) \\cdot a_{1} \\\\\n",
    "a_2^d&= \\left(\\frac{1}{16}\\right) \\cdot (a_{1}^{2} d - a_{1}^{2} + 4 a_{2} d) \\\\\n",
    "a_3^d&= 0 \\\\\n",
    "a_4^d&= \\left(\\frac{1}{32}\\right) \\cdot d^{2} \\cdot (a_{1} a_{3} + 2 a_{4}) \\\\\n",
    "a_6^d&= \\left(\\frac{1}{256}\\right) \\cdot d^{3} \\cdot (a_{3}^{2} + 4 a_{6}) \\\\\n",
    "\\end{align*}\n",
    "\n",
    "Since $v(a_{1}^{2}\\left(  d-1\\right)  )=3$ and $v(4a_{2}d)=3$, we have that\n",
    "$v(a_{2}^{d})\\geq0$. Now observe that\n",
    "$$\\begin{align*}\n",
    "v(a_{1}a_{3}+2a_{4})  & =\\left\\{\n",
    "\\begin{align*}\n",
    "\\geq6 & \\text{ if }v(a_{3})=4,\\\\\n",
    "5 & \\text{ if }v(a_{3})\\geq5,\n",
    "\\end{align*}\n",
    "\\right.  \\\\\n",
    "v(a_{3}^{2}+4a_{6})  & =\\left\\{\\begin{align*}\n",
    "8 & \\text{ if }v(a_{3})=4,\\\\\n",
    "\\geq9 & \\text{ if }v(a_{3})\\geq5.\n",
    "\\end{align*}\n",
    "\\right.\n",
    "\\end{align*}$$\n",
    "Consequently,\n",
    "$$\\left(  v(a_{4}^{d}),v(a_{6}^{d})\\right)  =\\left\\{\n",
    "\\begin{align*}\n",
    "\\left(  \\geq1,0\\right)   & \\text{ if }v(a_{3})=4,\\\\\n",
    "\\left(  0,\\geq1\\right)   & \\text{ if }v(a_{3})\\geq5.\n",
    "\\end{align*}\n",
    "\\right.$$\n",
    "Thus, $\\mathcal{V}(F_{I_{n}^{\\ast},2})=\\left(  =0,0,\\infty,0,0|v(a_{4}^{d}+a_{6}^{d})=0\\right)  $.\n",
    "\n",
    "\n",
    "**By Proposition 3.4, we get that $R^{d}=\\operatorname*{typ}(E^{d})=\\rm{I}_0$ with $c^d=1$.**"
   ]
  },
  {
   "cell_type": "code",
   "execution_count": 7,
   "id": "52756a",
   "metadata": {
    "collapsed": false
   },
   "outputs": [
    {
     "name": "stdout",
     "output_type": "stream",
     "text": [
      "a1^d= (1/2) * a1\n",
      "a2^d= (1/16) * (a1^2*d - a1^2 + 4*a2*d)\n",
      "a3^d= 0\n",
      "a4^d= (1/32) * d^2 * (a1*a3 + 2*a4)\n",
      "a6^d= (1/256) * d^3 * (a3^2 + 4*a6)\n"
     ]
    }
   ],
   "source": [
    "print(ai_twist(F0Instar_2))"
   ]
  },
  {
   "cell_type": "markdown",
   "id": "a8a43f",
   "metadata": {
    "collapsed": false
   },
   "source": [
    "**Subcase 7(viii):** Suppose $d\\equiv3\\ \\operatorname{mod}4$, $n\\ge 5$, and $v(a_1)=1$. We consider the elliptic curve  $F_{{\\rm I}^*_{n},3}$. It's Weierstrass coefficients $a_i^d$ are given below, and verified in the next cell.\n",
    "\\begin{align*}\n",
    "a_1^d&= \\left(\\frac{1}{2}\\right) \\cdot a_{1} \\\\\n",
    "a_2^d&= \\left(\\frac{1}{16}\\right) \\cdot (a_{1}^{2} d - a_{1}^{2} + 4 a_{2} d) \\\\\n",
    "a_3^d&= \\left(\\frac{1}{8}\\right) \\cdot a_{3} \\\\\n",
    "a_4^d&= \\left(\\frac{1}{32}\\right) \\cdot (a_{1} a_{3} d^{2} + 2 a_{4} d^{2} - a_{1} a_{3}) \\\\\n",
    "a_6^d&= \\left(\\frac{1}{256}\\right) \\cdot (a_{3}^{2} d^{3} + 4 a_{6} d^{3} - a_{3}^{2}) \\\\\n",
    "\\end{align*}\n",
    "\n",
    "Observe that $v(a_2^d)\\ge 0$ by the argument given in the previous subcase. Since\n",
    "$$\\begin{align*}\n",
    "v(a_{1}a_{3}(d^{2}-1))  & \\geq\\left\\{\n",
    "\\begin{align*}\n",
    "\\frac{n+11}{2} & \\text{ if }n\\text{ is odd,}\\\\\n",
    "\\frac{n+12}{2} & \\text{ if }n\\text{ is even,}\n",
    "\\end{align*}\n",
    "\\right.  \\\\\n",
    "v(a_{3}^{2}\\left(  d^{3}-1\\right)  )  & =\\left\\{\n",
    "\\begin{align*}\n",
    "n+4 & \\text{ if }n\\text{ is odd,}\\\\\n",
    "\\geq n+5 & \\text{ if }n\\text{ is even.}\n",
    "\\end{align*}\n",
    "\\right.\n",
    "\\end{align*}$$\n",
    "It follows that\n",
    "$$\\mathcal{V}(F_{I_{n}^{\\ast},3})=\\left\\{\n",
    "\\begin{align*}\n",
    "\\left(  =0,0,=\\frac{n-3}{2},\\frac{n-3}{2},=n-4\\right)   & \\text{ if }n\\text{ is odd,}\\\\\n",
    "\\left(  =0,0,\\frac{n-2}{2},=\\frac{n-4}{2},n-3\\right)   & \\text{ if }n\\text{ is even.}\n",
    "\\end{align*}\n",
    "\\right.$$\n",
    "\n",
    "**By Proposition 3.4, we get that $R^{d}=\\operatorname*{typ}(E^{d})=\\rm{I}_{n-4}$.**\n",
    "\n",
    "Since\n",
    "\\begin{align*}\n",
    "4a_{2}^{d}  & =\\left(  \\frac{a_{1}}{2}\\right)  ^{2}\\left(  d-1\\right)\n",
    "+a_{2}d\\\\\n",
    "& \\equiv d-1+a_{2}d\\ \\operatorname{mod}8,\n",
    "\\end{align*}\n",
    "we conclude by Corollary 3.6 that\n",
    "$$c^{d}=\\left\\{\n",
    "\\begin{align*}\n",
    "2-\\left(  n\\ \\operatorname{mod}2\\right)   & \\text{ if }v(d-1+a_{2}d)=2,\\\\\n",
    "n-4 & \\text{ if }v(d-1+a_{2}d)\\geq3.\n",
    "\\end{align*}\n",
    "\\right.$$\n",
    "\n"
   ]
  },
  {
   "cell_type": "code",
   "execution_count": 10,
   "id": "b569e5",
   "metadata": {
    "collapsed": false
   },
   "outputs": [
    {
     "name": "stdout",
     "output_type": "stream",
     "text": [
      "a1^d= (1/2) * a1\n",
      "a2^d= (1/16) * (a1^2*d - a1^2 + 4*a2*d)\n",
      "a3^d= (1/8) * a3\n",
      "a4^d= (1/32) * (a1*a3*d^2 + 2*a4*d^2 - a1*a3)\n",
      "a6^d= (1/256) * (a3^2*d^3 + 4*a6*d^3 - a3^2)\n"
     ]
    }
   ],
   "source": [
    "print(ai_twist(F0Instar_3))"
   ]
  },
  {
   "cell_type": "markdown",
   "id": "9681c8",
   "metadata": {
    "collapsed": false
   },
   "source": [
    "**Case 8.** Let $R=\\operatorname*{typ}(E)=\\rm{IV}^*$. Since $E$ is given by a normal model, we have that\n",
    "\n",
    "$$\\mathcal{V}(E)= \\left( 1,2,=2,3,4\\right).$$\n",
    "\n",
    "\n",
    "In the paper, we only verify the local Tamagawa number $c^{d}$ of $E^{d}$, which is also considered below. In this case, we consider the elliptic curve $F_{{\\rm IV}^*,0}$ that is $\\mathbb{Q}_2$-isomorphic to $E^d$. The Weierstrass coefficients of  $F_{{\\rm IV}^*,0}$ are:\n",
    "\n",
    "\\begin{align*}\n",
    "a_1^d&= a_{1} \\\\\n",
    "a_2^d&= \\left(\\frac{1}{4}\\right) \\cdot (a_{1}^{2}( d-1)  + 4 a_{2} d) \\\\\n",
    "a_3^d&= a_{3} \\\\\n",
    "a_4^d&= \\left(\\frac{1}{2}\\right) \\cdot (a_{1} a_{3}( d^{2}-1) + 2 a_{4} d^{2} ) \\\\\n",
    "a_6^d&= \\left(\\frac{1}{4}\\right) \\cdot (a_{3}^{2} (d^{3}-1) + 4 a_{6} d^{3}) \\\\\n",
    "\\end{align*}\n",
    "\n",
    "Now observe that\n",
    "\\begin{align*}\n",
    "v(a_{2}^{d})  & =\n",
    "\\begin{cases}\n",
    "\\geq2 & \\text{ if }d\\equiv1\\ \\operatorname{mod}4,\\\\\n",
    "\\geq1 & \\text{ if }d\\equiv3\\ \\operatorname{mod}4,\n",
    "\\end{cases} \\\\\n",
    "v(a_{6}^{d})  & =\n",
    "\\begin{cases}\n",
    "\\geq4 & \\text{ if }d\\equiv1\\ \\operatorname{mod}4,\\\\\n",
    "3 & \\text{ if }d\\equiv3\\ \\operatorname{mod}4.\n",
    "\\end{cases}\n",
    "\\end{align*}\n",
    "\n",
    "We also have that $v(a_{1}a_{3}(d^{2}-1))\\geq6$ and $v(2a_{4}d^{2})\\geq4$.\n",
    "Thus, $v(a_{4}^{d})\\geq3$. From the above, we conclude that\n",
    "$$\\mathcal{V}(F_{IV^{\\ast},0})=\\left\\{\n",
    "\\begin{align*}\n",
    "\\left(  1,2,=2,3,4\\right)   & \\text{ if }d\\equiv1\\ \\operatorname{mod}4,\\\\\n",
    "\\left(  1,1,=2,3,=3\\right)   & \\text{ if }d\\equiv3\\ \\operatorname{mod}4.\n",
    "\\end{align*}\n",
    "\\right.$$\n",
    "\n",
    "\n",
    "**By Proposition 3.4, we get that** \n",
    "$$R^{d}=\\operatorname*{typ}(E^{d})=\\left\\{\n",
    "\\begin{align*}\n",
    "\\rm{IV}^{\\ast} & \\text{ if }d\\equiv1\\ \\operatorname{mod}4,\\\\\n",
    "\\rm{I}_{0}^{\\ast} & \\text{ if }d\\equiv3\\ \\operatorname{mod}4.\n",
    "\\end{align*}\n",
    "\\right.$$.\n",
    "\n",
    "Now suppose $d \\equiv 1 \\mod 4$ so that $\\operatorname{typ}(E^d)=\\rm{IV}^*$. Then,\n",
    "\\begin{align*}\n",
    "\\frac{a_{6}^{d}}{4}  & =\\left(  \\frac{a_{3}}{4}\\right)  ^{2}\\left(\n",
    "d^{3}-1\\right)  +\\frac{a_{6}}{4}d^{3}\\\\\n",
    "& \\equiv d-1+\\frac{a_{6}}{4}\\ \\operatorname{mod}8.\n",
    "\\end{align*}\n",
    "We conclude from Corollary 3.6 that\n",
    "$$c^{d}=\\left\\{\n",
    "\\begin{align*}\n",
    "1 & \\text{ if }v(4d-4+a_{6})=4,\\\\\n",
    "3 & \\text{ if }v(4d-4+a_{6})\\geq5.\n",
    "\\end{align*}\n",
    "\\right.$$\n",
    "\n",
    "Now suppose $d \\equiv 3 \\mod 4$ so that $\\operatorname{typ}(E^d)=\\rm{I}_0^*$. Then,\n",
    "$$a_{2}^{d}=\\left(  \\frac{a_{1}}{2}\\right)  ^{2}\\left(  d-1\\right)\n",
    "+a_{2}d\\equiv\\frac{a_{1}^{2}}{4}\\ \\operatorname{mod}4,$$\n",
    "it follows from Corollary 3.6 that\n",
    "$$c^{d}=\\left\\{\n",
    "\\begin{align*}\n",
    "1 & \\text{ if }v(a_{1})=1,\\\\\n",
    "2 & \\text{ if }v(a_{1})\\geq2.\n",
    "\\end{align*}\n",
    "\\right.$$"
   ]
  },
  {
   "cell_type": "markdown",
   "id": "d7c8db",
   "metadata": {
    "collapsed": false
   },
   "source": [
    "**Case 9.** Let $R=\\operatorname*{typ}(E)=\\rm{III}^*$. Since $E$ is given by a normal model, we have that\n",
    "\n",
    "$$\\mathcal{V}(E)= \\left( 1,2,3,=3,5\\right).$$\n",
    "\n",
    "\n",
    "In the paper, we only verify the local Tamagawa number $c^{d}$ of $E^{d}$, which is also considered below. In this case, we consider the elliptic curve $F_{{\\rm III}^*,0}$ that is $\\mathbb{Q}_2$-isomorphic to $E^d$. The Weierstrass coefficients of  $F_{{\\rm III}^*,0}$ are:\n",
    "\n",
    "\\begin{align*}\n",
    "a_1^d&= a_{1} \\\\\n",
    "a_2^d&= \\left(\\frac{1}{4}\\right) \\cdot (a_{1}^{2}( d-1)  + 4 a_{2} d) \\\\\n",
    "a_3^d&= a_{3} \\\\\n",
    "a_4^d&= \\left(\\frac{1}{2}\\right) \\cdot (a_{1} a_{3}( d^{2}-1) + 2 a_{4} d^{2} ) \\\\\n",
    "a_6^d&= \\left(\\frac{1}{4}\\right) \\cdot (a_{3}^{2} (d^{3}-1) + 4 a_{6} d^{3}) \\\\\n",
    "\\end{align*}\n",
    "\n",
    "Now Observe that\n",
    "\\begin{align*}\n",
    "a_{2}^{d} &  =\\left(  \\frac{a_{1}}{2}\\right)  ^{2}\\left(  d-1\\right)\n",
    "+a_{2}d\\\\\n",
    "&  \\equiv\\left(  \\frac{a_{1}}{2}\\right)  ^{2}\\left(  d-1\\right)\n",
    "\\ \\operatorname{mod}4\\\\\n",
    "&  \\equiv\n",
    "\\begin{cases}\n",
    "2\\ \\operatorname{mod}4 & \\text{if }d\\equiv3\\ \\operatorname{mod}4\\text{ and\n",
    "}v(a_{1})=1,\\\\\n",
    "0\\ \\operatorname{mod}4 & \\text{if }\\left(  i\\right)  \\ d\\equiv\n",
    "1\\ \\operatorname{mod}4\\text{ or }\\left(  ii\\right)  \\ d\\equiv\n",
    "3\\ \\operatorname{mod}4\\text{ with }v(a_{1})\\geq2.\n",
    "\\end{cases}\n",
    "\\end{align*}\n",
    "It is easily verified that $v(a_{4}^{d})=3$ and $v(a_{6}^{d})\\geq5$. Thus,\n",
    "$$\\mathcal{V}(F_{\\rm{III}^{\\ast},0})=\n",
    "\\begin{cases}\n",
    "\\left(  =1,=1,3,=3,5\\right)   & \\text{if }v(a_{1})=1\\text{ and }%\n",
    "d\\equiv3\\ \\operatorname{mod}4,\\\\\n",
    "\\left(  2,2,3,=3,5\\right)   & \\text{if }\\left(  i\\right)  \\ d\\equiv\n",
    "1\\ \\operatorname{mod}4\\text{ or }\\left(  ii\\right)  \\ d\\equiv\n",
    "3\\ \\operatorname{mod}4\\text{ with }v(a_{1})\\geq2.\n",
    "\\end{cases}$$\n",
    "We conclude from Proposition 3.4 that\n",
    "$$\n",
    "\\operatorname*{typ}(E^{d})=\n",
    "\\begin{cases}\n",
    "\\rm{III}^{\\ast} & \\text{if }\\left(  i\\right)  \\ d\\equiv1\\ \\operatorname{mod}4\\text{\n",
    "or }\\left(  ii\\right)  \\ d\\equiv3\\ \\operatorname{mod}4\\text{ with }v(a_{1})\\geq2.\\\\\n",
    "\\rm{I}_{2}^{\\ast} & \\text{if }v(a_{1})=1\\text{ and }d\\equiv3\\ \\operatorname{mod}4.\n",
    "\\end{cases}$$\n",
    "\n",
    "It remains to consider $c^{d}$ in the case when $\\operatorname*{typ}%\n",
    "(E^{d})=\\rm{I}_{2}^{\\ast}$."
   ]
  },
  {
   "cell_type": "markdown",
   "id": "5dd05f",
   "metadata": {
    "collapsed": false
   },
   "source": [
    "**Case 10.** Let $R=\\operatorname*{typ}(E)=\\rm{II}^*$. Since $E$ is given by a normal model, we have that\n",
    "\n",
    "$$\\mathcal{V}(E)= \\left( 1,2,3,4,=5\\right).$$\n",
    "\n",
    "In the paper, we only verify the local Tamagawa number $c^{d}$ of $E^{d}$, which is also considered below. In several of the cases below, we consider the elliptic curve $F_{{\\rm II}^*,0}$ that is $\\mathbb{Q}_2$-isomorphic to $E^d$. The Weierstrass coefficients of  $F_{{\\rm II}^*,0}$ are:\n",
    "\n",
    "\\begin{align*}\n",
    "a_1^d&= a_{1} \\\\\n",
    "a_2^d&= \\left(\\frac{1}{4}\\right) \\cdot (a_{1}^{2}( d-1)  + 4 a_{2} d) \\\\\n",
    "a_3^d&= a_{3} \\\\\n",
    "a_4^d&= \\left(\\frac{1}{2}\\right) \\cdot (a_{1} a_{3}( d^{2}-1) + 2 a_{4} d^{2} ) \\\\\n",
    "a_6^d&= \\left(\\frac{1}{4}\\right) \\cdot (a_{3}^{2} (d^{3}-1) + 4 a_{6} d^{3}) \\\\\n",
    "\\end{align*}\n",
    "\n",
    "Observe that under the given assumptions $v(a_{2}^{d})\\geq1$. In fact, if\n",
    "$v(a_{1})\\geq2$, then $v(a_{2}^{d})\\geq2$. Next, observe that $v\\left(\n",
    "a_{1}a_{3}\\left(  d^{2}-1\\right)  \\right)  \\geq7$ and thus $v(a_{4}^{d})\\geq\n",
    "4$. Now observe that\n",
    "$$v\\left(  a_{3}^{2}\\left(  d^{3}-1\\right)  \\right)  =\n",
    "\\begin{cases}\n",
    "\\geq8 & \\text{ if }d\\equiv1\\ \\operatorname{mod}4,\\\\\n",
    "7 & \\text{ if }d\\equiv3\\ \\operatorname{mod}4\\text{ and }v(a_{3})=3,\\\\\n",
    "\\geq9 & \\text{ if }d\\equiv3\\ \\operatorname{mod}4\\text{ and }v(a_{3})\\geq4.\n",
    "\\end{cases}\n",
    "$$\n",
    "From the above discussion, we conclude that%\n",
    "$$\\mathcal{V}(F_{\\rm{II}^{\\ast},0})=\n",
    "\\begin{cases}\n",
    "\\left(  1,1,3,4,=5\\right)   & \\text{ if }d\\equiv1\\ \\operatorname{mod}4,\\\\\n",
    "\\left(  =1,1,=3,4,6\\right)   & \\text{ if }d\\equiv3\\ \\operatorname{mod}%\n",
    "4,v(a_{1})=1,\\text{ and }v(a_{3})=3,\\\\\n",
    "\\left(  2,2,4,4,=5\\right)   & \\text{ if }d\\equiv3\\ \\operatorname{mod}%\n",
    "4,v(a_{1})\\geq2,\\text{ and }v(a_{3})\\geq4.\n",
    "\\end{cases}$$\n",
    "From Proposition 3.4 we conclude that\n",
    "$$\\operatorname*{typ}(E^{d})=\n",
    "\\begin{cases}\n",
    "\\rm{II}^{\\ast} & \\text{if }\\left(  i\\right)  \\ d\\equiv3\\ \\operatorname{mod}4\\text{\n",
    "or }\\left(  ii\\right)  \\ \\text{if }d\\equiv3\\ \\operatorname{mod}4,v(a_{1}\n",
    ")\\geq2,\\text{ and }v(a_{3})\\geq4,\\\\\n",
    "\\rm{I}_{3}^{\\ast} & \\text{if }d\\equiv3\\ \\operatorname{mod}4,v(a_{1})=1,\\text{ and\n",
    "}v(a_{3})=3.\n",
    "\\end{cases}$$\n"
   ]
  },
  {
   "cell_type": "markdown",
   "id": "fa79ee",
   "metadata": {
    "collapsed": false
   },
   "source": [
    "In particular, $c^{d}=1$ if $\\operatorname*{typ}(E^{d})=II^{\\ast}$. So suppose\n",
    "that $\\operatorname*{typ}(E^{d})=I_{3}^{\\ast}$ so that $d\\equiv\n",
    "3\\ \\operatorname{mod}4,v(a_{1})=1,$ and $v(a_{3})=3$. By Corollary 3.6, it\n",
    "suffices to determine when equality holds in $v(a_{6}^{d})\\geq6$. Now observe\n",
    "that\n",
    "\\begin{align*}\n",
    "\\frac{a_{6}^{d}}{16}  & =\\left(  \\frac{a_{3}}{8}\\right)  ^{2}\\left(\n",
    "d^{3}-1\\right)  +\\frac{a_{6}}{16}d^{3}\\\\\n",
    "& \\equiv d-1+\\frac{a_{6}}{16}d\\ \\operatorname{mod}8.\n",
    "\\end{align*}\n",
    "Consequently,\n",
    "$$c^{d}=\n",
    "\\begin{cases}\n",
    "2 & \\text{if }v(16d-16+a_{6}d)=6,\\\\\n",
    "4 & \\text{if }v(16d-16+a_{6}d)\\geq7.\n",
    "\\end{cases}$$\n",
    "\n",
    "We now consider the two remaining cases separately."
   ]
  },
  {
   "cell_type": "markdown",
   "id": "7aed51",
   "metadata": {
    "collapsed": false
   },
   "source": [
    "**Subcase 10(i):** Suppose $d\\equiv 3 \\mod 4$, $v(a_1)=1$, and $v(a_3)\\ge4$. Consequently, $\\mathcal{V}(E)=(=1,2,4,4=5)$.\n",
    "\n",
    "We consider the elliptic curve $F_{{\\rm II}^*,1}$, which is isomorphic to $E^d$.  The code below, verifies that the Weierstrass coefficients of this model are the $a_i^d$ that are given below:\n",
    "\\begin{align*}\n",
    "a_1^d&= a_{1} \\\\\n",
    "a_2^d&= \\left(\\frac{1}{4}\\right) \\cdot (3 a_{1}^{4} + a_{1}^{2} d - a_{1}^{2} + 4 a_{2} d) \\\\\n",
    "a_3^d&= \\left(\\frac{1}{4}\\right) \\cdot a_{6} \\\\\n",
    "a_4^d&= \\left(\\frac{1}{16}\\right) \\cdot (3 a_{1}^{8} + 2 a_{1}^{6} d + 8 a_{1}^{4} a_{2} d + 8 a_{1} a_{3} d^{2} + 16 a_{4} d^{2} - 2 a_{1} a_{6}) \\\\\n",
    "a_6^d&= \\left(\\frac{1}{64}\\right) \\cdot (a_{1}^{12} + a_{1}^{10} d + 4 a_{1}^{8} a_{2} d + 8 a_{1}^{5} a_{3} d^{2} + 16 a_{1}^{4} a_{4} d^{2} + 16 a_{3}^{2} d^{3} + 64 a_{6} d^{3} - a_{6}^{2}) \\\\\n",
    "\\end{align*}\n",
    "\n",
    "Since $v(3a_{1}^{4}+4a_{2}d)\\geq4$ and $d\\equiv3\\ \\operatorname{mod}4$, we have that $v(a_{2}^{d})=1$. Now observe that $v(2a_{1}^{6}d)=v(2a_{1}a_{6})=7$. Thus, $v(2a_{1}^{6}d-2a_{1}a_{6})\\geq8$. It is now checked that each of\n",
    "the remaining terms in $16a_{4}^{d}$ has valuation at least $8$. Thus, $v(a_{4}^{d})\\geq4$. Next, consider $64a_{6}^{d}$. With the exception of the terms $a_{1}^{10}d,\\ 64a_{6}d^{3},$ and $-a_{6}^{2}$, the other terms have\n",
    "valuation at least $12$. Now observe that\n",
    "\\begin{align*}\n",
    "\\frac{a_{1}^{10}d-a_{6}^{2}+\\ 64a_{6}d^{3}}{2^{10}}  & =\\left(  \\frac\n",
    "{a_{1}^{5}}{2^{5}}\\right)  ^{2}d-\\left(  \\frac{a_{6}}{2^{5}}\\right)\n",
    "^{2}+\\frac{a_{6}}{16}d^{3}\\\\\n",
    "& \\equiv d-1+\\frac{a_{6}}{16}d\\ \\operatorname{mod}4=0\\ \\operatorname{mod}4.\n",
    "\\end{align*}\n",
    "Thus, $v(a_{1}^{10}d-a_{6}^{2}+\\ 64a_{6}d^{3})\\geq12$, which shows that\n",
    "$v(a_{6}^{d})\\geq6$. We conclude that%\n",
    "$$\\mathcal{V}(F_{II^{\\ast},1})=\\left(  =1,=1,=3,4,6\\right)  .$$\n",
    "**It follows from Proposition 3.4 that $\\operatorname*{typ}(E^{d})=\\rm{I}_{3}^{\\ast}$.**\n",
    "\n",
    "For $c^{d}$, we observe that by Corollary 3.6 it suffices to determine when\n",
    "equality occurs in $v(a_{6}^{d})\\geq6$. To this end, observe that%\n",
    "\\begin{align*}\n",
    "\\frac{a_{6}^{d}}{16}  & =\\left(  \\frac{a_{1}}{2}\\right)  ^{10}a_{1}%\n",
    "^{2}+\\left(  \\frac{a_{1}}{2}\\right)  ^{5}\\frac{a_{3}}{4}d^{2}+\\left(\n",
    "\\frac{a_{1}}{2}\\right)  ^{8}a_{2}d+\\left(  \\frac{a_{1}}{2}\\right)  ^{4}%\n",
    "\\frac{a_{4}}{4}d^{2}+\\left(  \\frac{a_{3}}{8}\\right)  ^{2}d^{3}+\\left(\n",
    "\\frac{a_{1}}{2}\\right)  ^{10}d-\\left(  \\frac{a_{6}}{2^{5}}\\right)  ^{2}%\n",
    "+\\frac{a_{6}}{16}d^{3}\\\\\n",
    "& \\equiv4+\\left(  \\frac{a_{1}}{2}\\right)  \\frac{a_{3}}{4}+a_{2}d+\\frac{a_{4}%\n",
    "}{4}+\\left(  \\frac{a_{3}}{8}\\right)  ^{2}d+d-1+\\frac{a_{6}}{16}%\n",
    "d\\ \\operatorname{mod}8\\\\\n",
    "& \\equiv3+a_{2}d+\\frac{a_{4}}{4}+d+\\frac{a_{6}}{16}d\\ \\operatorname{mod}8.\n",
    "\\end{align*}\n",
    "It follows that\n",
    "$$c^{d}=\n",
    "\\begin{cases}\n",
    "2 & \\text{ if }v(48+16a_{2}d+4a_{4}+16d+a_{6}d)=6,\\\\\n",
    "4 & \\text{ if }v(48+16a_{2}d+4a_{4}+16d+a_{6}d)\\geq7.\n",
    "\\end{cases}$$\n"
   ]
  },
  {
   "cell_type": "code",
   "execution_count": 8,
   "id": "446406",
   "metadata": {
    "collapsed": false
   },
   "outputs": [
    {
     "name": "stdout",
     "output_type": "stream",
     "text": [
      "a1^d= a1\n",
      "a2^d= (1/4) * (3*a1^4 + a1^2*d - a1^2 + 4*a2*d)\n",
      "a3^d= (1/4) * a6\n",
      "a4^d= (1/16) * (3*a1^8 + 2*a1^6*d + 8*a1^4*a2*d + 8*a1*a3*d^2 + 16*a4*d^2 - 2*a1*a6)\n",
      "a6^d= (1/64) * (a1^12 + a1^10*d + 4*a1^8*a2*d + 8*a1^5*a3*d^2 + 16*a1^4*a4*d^2 + 16*a3^2*d^3 + 64*a6*d^3 - a6^2)\n"
     ]
    }
   ],
   "source": [
    "print(ai_twist(F0IIstar_1))"
   ]
  },
  {
   "cell_type": "markdown",
   "id": "45ee0f",
   "metadata": {
    "collapsed": false
   },
   "source": [
    "**Subcase 10(ii):** Suppose $d\\equiv 3 \\mod 4$, $v(a_1)\\ge 2$, and $v(a_3)=3$. Consequently, $\\mathcal{V}(E)=(2,2,=3,4=5)$.\n",
    "\n",
    "We consider the elliptic curve $F_{{\\rm II}^*,2}$, which is isomorphic to $E^d$.  The code below, verifies that the Weierstrass coefficients of this model are the $a_i^d$ that are given below:\n",
    "\\begin{align*}\n",
    "a_1^d&= 0 \\\\\n",
    "a_2^d&= \\left(\\frac{1}{4}\\right) \\cdot d \\cdot (a_{1}^{2} + 4 a_{2}) \\\\\n",
    "a_3^d&= \\left(\\frac{1}{8}\\right) \\cdot a_{3} \\\\\n",
    "a_4^d&= \\left(\\frac{1}{256}\\right) \\cdot d^{2} \\cdot (5 a_{1}^{4} + 40 a_{1}^{2} a_{2} + 80 a_{2}^{2} + 8 a_{1} a_{3} + 16 a_{4}) \\\\\n",
    "a_6^d&= \\left(\\frac{1}{2048}\\right) \\cdot (a_{1}^{6} d^{3} + 12 a_{1}^{4} a_{2} d^{3} + 48 a_{1}^{2} a_{2}^{2} d^{3} + 4 a_{1}^{3} a_{3} d^{3} + 64 a_{2}^{3} d^{3} + 16 a_{1} a_{2} a_{3} d^{3} + 8 a_{1}^{2} a_{4} d^{3} + 8 a_{3}^{2} d^{3} + 32 a_{2} a_{4} d^{3} + 32 a_{6} d^{3} - 8 a_{3}^{2}) \\\\\n",
    "\\end{align*}\n",
    "\n",
    "By inspection, $v(a_{2}^{d})\\geq2$ and $v(a_{3}^{d})=0$. Now observe that each\n",
    "term in $256a_{4}^{d}$ has valuation at least $8$. Thus, $v(a_{4}^{d})\\geq0$.\n",
    "Next, we consider the terms appearing in the expression of $2048a_{6}^{d}$. By\n",
    "inspection, each of the terms, except for $8a_{3}^{2}d^{3},-8a_{3}^{2},$ and\n",
    "$32a_{6}d^{3}$, have valuation at least $11$. Since\n",
    "\\begin{align*}\n",
    "\\frac{8a_{3}^{2}d^{3}-8a_{3}^{2}+32a_{6}d^{3}}{2^{9}}  & =\\left(  \\frac{a_{3}}{8}\\right)  ^{2}\\left(  d^{3}-1\\right)  +2\\frac{a_{6}}{32}d^{3}\\\\\n",
    "& \\equiv0\\ \\operatorname{mod}4,\n",
    "\\end{align*}\n",
    "we conclude that $v(a_{6}^{d})\\geq0$. In sum, we have shown that\n",
    "$\\mathcal{V}(F_{\\rm{II}^{\\ast},2})=\\left(  \\infty,2,=0,0,0\\right)  $.\n",
    "\n",
    "**From Proposition 3.4 we conclude that $\\operatorname*{typ}(E^{d})=\\rm{I}_{0}$ with $c^{d}=1$.**"
   ]
  },
  {
   "cell_type": "code",
   "execution_count": 31,
   "id": "1c3dde",
   "metadata": {
    "collapsed": false
   },
   "outputs": [
    {
     "name": "stdout",
     "output_type": "stream",
     "text": [
      "a1^d= 0\n",
      "a2^d= (1/4) * d * (a1^2 + 4*a2)\n",
      "a3^d= (1/8) * a3\n",
      "a4^d= (1/256) * d^2 * (5*a1^4 + 40*a1^2*a2 + 80*a2^2 + 8*a1*a3 + 16*a4)\n",
      "a6^d= (1/2048) * (a1^6*d^3 + 12*a1^4*a2*d^3 + 48*a1^2*a2^2*d^3 + 4*a1^3*a3*d^3 + 64*a2^3*d^3 + 16*a1*a2*a3*d^3 + 8*a1^2*a4*d^3 + 8*a3^2*d^3 + 32*a2*a4*d^3 + 32*a6*d^3 - 8*a3^2)\n"
     ]
    }
   ],
   "source": [
    "print(ai_twist(F0IIstar_2))"
   ]
  },
  {
   "cell_type": "code",
   "execution_count": 0,
   "id": "53e8ed",
   "metadata": {
    "collapsed": false
   },
   "outputs": [
   ],
   "source": [
   ]
  },
  {
   "cell_type": "code",
   "execution_count": 0,
   "id": "efec55",
   "metadata": {
    "collapsed": false
   },
   "outputs": [
   ],
   "source": [
   ]
  }
 ],
 "metadata": {
  "kernelspec": {
   "argv": [
    "sage-9.6",
    "--python",
    "-m",
    "sage.repl.ipython_kernel",
    "--matplotlib=inline",
    "-f",
    "{connection_file}"
   ],
   "display_name": "SageMath 9.6",
   "env": {
   },
   "language": "sagemath",
   "metadata": {
    "cocalc": {
     "description": "Open-source mathematical software system",
     "priority": 1,
     "url": "https://www.sagemath.org/"
    }
   },
   "name": "sage-9.6",
   "resource_dir": "/ext/jupyter/kernels/sage-9.6"
  }
 },
 "nbformat": 4,
 "nbformat_minor": 4
}