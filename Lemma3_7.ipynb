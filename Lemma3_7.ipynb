{
 "cells": [
  {
   "cell_type": "code",
   "execution_count": 1,
   "id": "65ceea",
   "metadata": {
    "collapsed": false
   },
   "outputs": [
   ],
   "source": [
    "load('definitions.sage')"
   ]
  },
  {
   "cell_type": "code",
   "execution_count": 2,
   "id": "9aab80",
   "metadata": {
    "collapsed": false
   },
   "outputs": [
   ],
   "source": [
    "def Edisc(h,n1,n2,n3,n4,n6,n,g):\n",
    "    R = IntegerModRing(2^(n+1))\n",
    "    S.<A1,A2,A3,A4,A6>=R[]\n",
    "    T.<A1,A2,A3,A4,A6> = QQ[]\n",
    "    E = EllipticCurve([2^n1*A1,2^n2*A2,2^n3*A3,2^n4*A4,2^n6*A6])\n",
    "    return f'Suppose V(E)={h}. Then Delta= {factor(T(S(E.discriminant())))} mod {2^(n+1)} = {g}.'"
   ]
  },
  {
   "cell_type": "markdown",
   "id": "1f53b9",
   "metadata": {
    "collapsed": false
   },
   "source": [
    "The verification of Lemma 3.7 is a straightforward case-by-case analysis. Namely, for a fixed $\\operatorname{typ}(E)$, we consider a normal model for $E$. In particular, $\\mathcal{V}(E)=(n_1,n_2,n_3,n_4,n_6)$. Table 4 then gives further restrictions on the quantities $n_i$, and the proof below does the case-by-case analysis following this order. \n",
    "\n",
    "Then, for a given case, we note that the Weierstrass coefficients $a_i$ of $E$ are of the form $a_i = 2^{n_i}A_i$. Note that $A_i$ is odd if and only if $v(a_i)=n_i$. If the corresponding case says that $\\delta_2 = n$, then we must verify that $\\Delta \\equiv 2^n \\mod 2^{n+1}$. This is what is done below.\n",
    "\n",
    "**Case 1.** Suppose $\\operatorname{typ}(E)=\\rm{II}$. Then $\\mathcal{V}(E)=(1,1,1,1,=1)$. The code below verifies the cases listed in the table."
   ]
  },
  {
   "cell_type": "code",
   "execution_count": 71,
   "id": "63f638",
   "metadata": {
    "collapsed": false
   },
   "outputs": [
    {
     "name": "stdout",
     "output_type": "stream",
     "text": [
      "Suppose V(E)=(1,1,=1,1,=1). Then Delta= (16) * A3^4 mod 64 = 16 mod 32 since A3 is odd.\n",
      "Suppose V(E)=(2,1,2,1,=1). Then Delta= (64) * A6^2 mod 128 = 64 mod 128 since A6 is odd.\n",
      "Suppose V(E)=(=1,1,2,=1,=1). Then Delta= (64) * (2*A1^6*A6 + A1^4*A4^2 + 2*A1^2*A4*A6 + A6^2) mod 256 = 128 mod 256 since A1^4*A4^2 + A6^2 = 2 mod 4 and 2*(A1^6*A6 + A1^2*A4*A6) = 0 mod 4.\n",
      "Suppose V(E)=(=1,1,2,2,=1). Then Delta= (64) * A6^2 mod 128 = 64 mod 128 since A6 is odd.\n"
     ]
    }
   ],
   "source": [
    "print(Edisc('(1,1,=1,1,=1)',1,1,1,1,1,5,'16 mod 32 since A3 is odd'))\n",
    "print(Edisc('(2,1,2,1,=1)',2,1,2,1,1,6,'64 mod 128 since A6 is odd'))\n",
    "print(Edisc('(=1,1,2,=1,=1)',1,1,2,1,1,7,'128 mod 256 since A1^4*A4^2 + A6^2 = 2 mod 4 and 2*(A1^6*A6 + A1^2*A4*A6) = 0 mod 4'))\n",
    "print(Edisc('(=1,1,2,2,=1)',1,1,2,2,1,6,'64 mod 128 since A6 is odd'))"
   ]
  },
  {
   "cell_type": "markdown",
   "id": "9f4301",
   "metadata": {
    "collapsed": false
   },
   "source": [
    "**Case 2.** Suppose $\\operatorname{typ}(E)=\\rm{III}$. Then $\\mathcal{V}(E)=(1,1,1,=1,2)$. The code below verifies the cases listed in the table. \n",
    "\n",
    "Note that the condition $v(a_3^2+4a_6)=4$ with $v(a_3)\\ge 2$ is equivalent to \n",
    "\n",
    "$(i)$ $v(a_3)=2$ and $v(a_6)\\ge 3$ or $(ii)$ $v(a_3)\\ge 3$ and $v(a_6) = 2$. \n",
    "\n",
    "Similarly, $v(a_3^2+4a_6)\\ge 5$ is equivalent to \n",
    "\n",
    "$(i)$ $v(a_3)=2$ and $v(a_6)=2$ or $(ii)$ $v(a_3)\\ge 3$ and $v(a_6) \\ge 3$."
   ]
  },
  {
   "cell_type": "code",
   "execution_count": 12,
   "id": "b52fc8",
   "metadata": {
    "collapsed": false
   },
   "outputs": [
    {
     "name": "stdout",
     "output_type": "stream",
     "text": [
      "Suppose V(E)=(1,1,=1,=1,2). Then Delta= (16) * A3^4 mod 32 = =16 mod 32 since A3 is odd.\n",
      "Suppose V(E)=(=1,1,2,=1,2). Then Delta= (64) * A4^2 * A1^4 mod 128 = 64 mod 128 since A1*A4 is odd.\n",
      "Suppose V(E)=(2,=1,=2,=1,3). Then Delta= (256) * (A3^4 + 2*A2*A3^2*A4 + A2^2*A4^2 + 2*A4^3) mod 1024 = 512 mod 1024 since A3^4 + A2^2*A4^2 = 2 mod 4 and 2*(A2*A3^2*A4 + A4^3)=0 mod 4.\n",
      "Suppose V(E)=(2,=1,3,=1,=2). Then Delta= (256) * (A2^2*A4^2 + 2*A4^3 + 2*A2*A4*A6 + A6^2) mod 1024 = 512 mod 1024 since A2^2*A4^2 + A6^2 = 2 mod 4 and 2*(A4^3 + A2*A4*A6) = 0 mod 4.\n",
      "Suppose V(E)=(2,=1,=2,=1,=2). Then Delta= (256) * (A3^4 + A2^2*A4^2 + A6^2) mod 512 = 256 mod 512 since A3^4 + A6^2 = 2 mod 4 and A2^2*A4^2 = 1 mod 2.\n",
      "Suppose V(E)=(2,=1,3,=1,3). Then Delta= (256) * A4^2 * A2^2 mod 512 = 256 mod 512 since A2*A4 is odd.\n",
      "Suppose V(E)=(2,2,=2,=1,3). Then Delta= (256) * A3^4 mod 512 = =256 mod 512 since A3 is odd.\n",
      "Suppose V(E)=(2,2,3,=1,=2). Then Delta= (256) * A6^2 mod 512 = =256 mod 512 since A6 is odd.\n",
      "Suppose V(E)=(2,2,=2,=1,=2). Then Delta= (256) * (A3^4 + 2*A4^3 + 2*A3^2*A6 + A6^2) mod 1024 = 512 mod 1024 since A3^4 + A6^2 = 2 mod 4 and 2(A4^3 + A3^2*A6) = 0 mod 4.\n",
      "Suppose V(E)=(2,2,3,=1,3). Then Delta= (512) * A4^3 mod 1024 = 512 mod 1024 since A4 is odd.\n"
     ]
    }
   ],
   "source": [
    "print(Edisc('(1,1,=1,=1,2)',1,1,1,1,2,4,'=16 mod 32 since A3 is odd'))\n",
    "print(Edisc('(=1,1,2,=1,2)',1,1,2,1,2,6,'64 mod 128 since A1*A4 is odd'))\n",
    "print(Edisc('(2,=1,=2,=1,3)',2,1,2,1,3,9,'512 mod 1024 since A3^4 + A2^2*A4^2 = 2 mod 4 and 2*(A2*A3^2*A4 + A4^3)=0 mod 4'))\n",
    "print(Edisc('(2,=1,3,=1,=2)',2,1,3,1,2,9,'512 mod 1024 since A2^2*A4^2 + A6^2 = 2 mod 4 and 2*(A4^3 + A2*A4*A6) = 0 mod 4'))\n",
    "print(Edisc('(2,=1,=2,=1,=2)',2,1,2,1,2,8,'256 mod 512 since A3^4 + A6^2 = 2 mod 4 and A2^2*A4^2 = 1 mod 2'))\n",
    "print(Edisc('(2,=1,3,=1,3)',2,1,3,1,3,8,'256 mod 512 since A2*A4 is odd'))\n",
    "print(Edisc('(2,2,=2,=1,3)',2,2,2,1,3,8,'=256 mod 512 since A3 is odd'))\n",
    "print(Edisc('(2,2,3,=1,=2)',2,2,3,1,2,8,'=256 mod 512 since A6 is odd'))\n",
    "print(Edisc('(2,2,=2,=1,=2)',2,2,2,1,2,9,'512 mod 1024 since A3^4 + A6^2 = 2 mod 4 and 2(A4^3 + A3^2*A6) = 0 mod 4'))\n",
    "print(Edisc('(2,2,3,=1,3)',2,2,3,1,3,9,'512 mod 1024 since A4 is odd'))"
   ]
  },
  {
   "cell_type": "markdown",
   "id": "e660e8",
   "metadata": {
    "collapsed": false
   },
   "source": [
    "**Case 3.** Suppose $\\operatorname{typ}(E)=\\rm{IV}$. Nothing to show since the minimal discriminant valuation is always $4$.\n",
    "\n",
    "**Case 4.** Suppose $\\operatorname{typ}(E)=\\rm{I}_0^*$. Then $\\mathcal{V}(E)=(1,1,2,3,=3)$. The code below verifies the cases listed in the table."
   ]
  },
  {
   "cell_type": "code",
   "execution_count": 77,
   "id": "18b694",
   "metadata": {
    "collapsed": false
   },
   "outputs": [
    {
     "name": "stdout",
     "output_type": "stream",
     "text": [
      "Suppose V(E)=(1,1,=2,3,=3). Then Delta= (256) * A3^4 mod 512 = 256 mod 512 since A3 is odd.\n",
      "Suppose V(E)=(=1,1,3,3,=3). Then Delta= (512) * A6 * A1^6 mod 1024 = 512 mod 1024 since A1*A6 is odd.\n",
      "Suppose V(E)=(2,1,3,3,=3). Then Delta= (1024) * A6^2 mod 2048 = =1024 mod 2048 since A6 is odd.\n"
     ]
    }
   ],
   "source": [
    "print(Edisc('(1,1,=2,3,=3)',1,1,2,3,3,8,'256 mod 512 since A3 is odd'))\n",
    "print(Edisc('(=1,1,3,3,=3)',1,1,3,3,3,9,'512 mod 1024 since A1*A6 is odd'))\n",
    "print(Edisc('(2,1,3,3,=3)',2,1,3,3,3,10,'=1024 mod 2048 since A6 is odd'))"
   ]
  },
  {
   "cell_type": "markdown",
   "id": "cb9632",
   "metadata": {
    "collapsed": false
   },
   "source": [
    "**Case 5.** Suppose $\\operatorname{typ}(E)=\\rm{I}_1^*$. Nothing to show since the minimal discriminant valuation is always $8$.\n",
    "\n",
    "**Case 6.** Suppose $\\operatorname{typ}(E)=\\rm{I}_2^*$. Then $\\mathcal{V}(E)=(1,=1,3,=3,5)$. The code below verifies the cases listed in the table."
   ]
  },
  {
   "cell_type": "code",
   "execution_count": 80,
   "id": "6f28f1",
   "metadata": {
    "collapsed": false
   },
   "outputs": [
    {
     "name": "stdout",
     "output_type": "stream",
     "text": [
      "Suppose V(E)=(=1,=1,3,=3,5). Then Delta= (1024) * A4^2 * A1^4 mod 2048 = 1024 mod 2048 since A1*A4 is odd.\n",
      "Suppose V(E)=(2,=1,=3,=3,5). Then Delta= (4096) * (2*A2^3*A3^2 + A3^4 + 2*A2*A3^2*A4 + A2^2*A4^2) mod 16384 = 8192 mod 16384 since A3^4 + A2^2*A4^2 = 2 mod 4 and 2(A2^3*A3^2 + A2*A3^2*A4) = 0 mod 4 .\n",
      "Suppose V(E)=(2,=1,4,=3,5). Then Delta= (4096) * A4^2 * A2^2 mod 8192 = 4096 mod 8192 since A2*A4 is odd.\n"
     ]
    }
   ],
   "source": [
    "print(Edisc('(=1,=1,3,=3,5)',1,1,3,3,6,10,'1024 mod 2048 since A1*A4 is odd'))\n",
    "print(Edisc('(2,=1,=3,=3,5)',2,1,3,3,6,13,'8192 mod 16384 since A3^4 + A2^2*A4^2 = 2 mod 4 and 2(A2^3*A3^2 + A2*A3^2*A4) = 0 mod 4 '))\n",
    "print(Edisc('(2,=1,4,=3,5)',2,1,4,3,6,12,'4096 mod 8192 since A2*A4 is odd'))"
   ]
  },
  {
   "cell_type": "markdown",
   "id": "7a24f5",
   "metadata": {
    "collapsed": false
   },
   "source": [
    "**Case 7.** Suppose $\\operatorname{typ}(E)=\\rm{I}_3^*$. Then $\\mathcal{V}(E)=(1,=1,=3,4,6)$. The code below verifies the cases listed in the table."
   ]
  },
  {
   "cell_type": "code",
   "execution_count": 82,
   "id": "bb9f17",
   "metadata": {
    "collapsed": false
   },
   "outputs": [
    {
     "name": "stdout",
     "output_type": "stream",
     "text": [
      "Suppose V(E)=(=1,=1,=3,4,6). Then Delta= (2048) * A2 * A3^2 * A1^4 mod 4096 = 2048 mod 4096 since A1*A2*A3 is odd.\n",
      "Suppose V(E)=(2,=1,=3,4,6). Then Delta= (4096) * A3^4 mod 8192 = 4096 mod 8192 since A3 is odd.\n"
     ]
    }
   ],
   "source": [
    "print(Edisc('(=1,=1,=3,4,6)',1,1,3,4,6,11,'2048 mod 4096 since A1*A2*A3 is odd'))\n",
    "print(Edisc('(2,=1,=3,4,6)',2,1,3,4,6,12,'4096 mod 8192 since A3 is odd'))"
   ]
  },
  {
   "cell_type": "markdown",
   "id": "959a91",
   "metadata": {
    "collapsed": false
   },
   "source": [
    "**Case 8.** Suppose $\\operatorname{typ}(E)=\\rm{I}_{n\\ge4}^*$. Then \n",
    "$$\\mathcal{V}(E)=\\left\\{\\begin{align*}\n",
    "\\left(  1,=1,=\\frac{n+3}{2},\\frac{n+5}{2},n+3\\right)  & \\text{if }n\\text{ is odd,}\\\\\n",
    "\\left(  1,=1,\\frac{n+4}{2},=\\frac{n+4}{2},n+3\\right)  & \\text{if }n\\text{ is even.}\n",
    "\\end{align*}\n",
    "\\right.$$\n",
    "\n",
    "Let\n",
    "$$r=\\left\\{\\begin{align*}\n",
    "2^{(n+3)/2}  & \\text{if }n\\text{ is odd,}\\\\\n",
    "2^{(n+4)/2}  & \\text{if }n\\text{ is even.}\n",
    "\\end{align*}\n",
    "\\right.$$\n",
    "\n",
    "In particular, $v(r) \\ge 4$. Now set\n",
    "\n",
    "\n",
    "$$\n",
    "(a_1,a_2,a_3,a_4,a_6)=\\left\\{\\begin{align*}\n",
    "(2A_1,2A_2,rA_3,2rA_4,r^2A_6)  & \\text{ if }n\\text{ is odd,}\\\\\n",
    "(2A_1,2A_2,rA_3,rA_4,\\frac{r^2}{2}A_6)  & \\text{ if }n\\text{ is even.}\n",
    "\\end{align*}\n",
    "\\right.\n",
    "$$\n",
    "\n",
    "By assumption, $v(A_i)\\ge0$, and $v(A_2)=0$. Moreover, if $n$ is odd, then $v(A_3)=0$. If $n$ is even, then $v(A_4)=0$. Moreover, $A_1$ is odd if and only if $v(a_1)=1$. With this notation, we now proceed by cases corresponding to whether $n$ is even or odd.\n",
    "\n",
    "**Subcase 8a.** Suppose $n\\ge5$ is odd. Then, the code below verifies that the discriminant $\\Delta$ of $E$ satisfies\n",
    "$$\\frac{\\Delta}{r^2} =32(A_1^2 + 2A_2)^2 k_1+8rk_2 + r^2k_3$$\n",
    "where $k_i$ is defined below for $i\\in\\{1,2,3\\}$. Since $A_2A_3$ is odd, $v(k_1)=0$. Thus,\n",
    "$$v(32(A_{1}^{2}+2A_{2})^{2}k_{1})=\\left\\{\n",
    "\\begin{align*}\n",
    "5 & \\text{ if }v(a_{1})=1,\\\\\n",
    "7 & \\text{ if }v(a_{1})\\geq2.\n",
    "\\end{align*}\n",
    "\\right\\}.$$\n",
    "By inspection, we observe that\n",
    "$$v(k_{2})=\\left\\{\n",
    "\\begin{align*}\n",
    "0 & \\text{ if }v(a_{1})=1,\\\\\n",
    "\\geq2 & \\text{ if }v(a_{1})\\geq2.\n",
    "\\end{align*}\n",
    "\\right.$$\n",
    "Thus,\n",
    "$$v(8rk_{2})\\geq\\left\\{\n",
    "\\begin{align*}\n",
    "7 & \\text{ if }v(a_{1})=1,\\\\\n",
    "9 & \\text{ if }v(a_{1})\\geq2.\n",
    "\\end{align*}\n",
    "\\right.$$\n",
    "Since $v(r^{2}k_{3})\\geq8$, we conclude that%\n",
    "$$v\\!\\left(  \\frac{\\Delta}{r^{2}}\\right)  =\\left\\{\n",
    "\\begin{align*}\n",
    "5 & \\text{ if }v(a_{1})=1,\\\\\n",
    "7 & \\text{ if }v(a_{1})\\geq2.\n",
    "\\end{align*}\n",
    "\\right.$$\n",
    "The claim now follows since $v(r^{2})=n+3$.\n",
    "\n"
   ]
  },
  {
   "cell_type": "code",
   "execution_count": 5,
   "id": "e320da",
   "metadata": {
    "collapsed": false
   },
   "outputs": [
    {
     "name": "stdout",
     "output_type": "stream",
     "text": [
      "True\n"
     ]
    }
   ],
   "source": [
    "k1 = - (A2*A3^2 - 2*A1*A3*A4 + 2*A1^2*A6 - 2*A4^2 + 4*A2*A6)\n",
    "k2 = (A1*A3 + 2*A4) * (A1^2*A3^2 + 18*A2*A3^2 - 32*A1*A3*A4 + 36*A1^2*A6 - 32*A4^2 + 72*A2*A6)\n",
    "k3 = (-27) * (A3^2 + 4*A6)^2\n",
    "print(EllipticCurve([2*A1,2*A2,r*A3,2*r*A4,r^2*A6]).discriminant()/r^2 ==32*(A1^2 + 2*A2)^2* k1+8*r*k2 + r^2*k3)"
   ]
  },
  {
   "cell_type": "markdown",
   "id": "e1c025",
   "metadata": {
    "collapsed": false
   },
   "source": [
    "**Subcase 8b.** Suppose $n\\ge4$ is even. The code below verifies that the discriminant $\\Delta$ of $E$ satisfies\n",
    "$$\\frac{\\Delta}{r^{2}}=16(A_{1}^{2}+2A_{2})^{2}m_{1}+8rm_{2}+r^{2}m_{3},$$\n",
    "where $m_{i}$ is defined below for $i\\in\\{1,2,3\\}$. Since $v(A_{4})=0$, we have that $v(m_{1})=0$. Thus,\n",
    "$$v(16(A_{1}^{2}+2A_{2})^{2}m_{1})=\\left\\{\n",
    "\\begin{align*}\n",
    "4 & \\text{ if }v(a_{1})=1,\\\\\n",
    "6 & \\text{ if }v(a_{1})\\geq2.\n",
    "\\end{align*}\n",
    "\\right.$$\n",
    "\n",
    "Since $v(8rm_{2})\\geq7$ and $v(r^{2}m_{3})\\geq8$, we conclude that\n",
    "$$v\\!\\left(  \\frac{\\Delta}{r^{2}}\\right)  =\\left\\{\n",
    "\\begin{align*}\n",
    "4 & \\text{ if }v(a_{1})=1,\\\\\n",
    "6 & \\text{ if }v(a_{1})\\geq2.\n",
    "\\end{align*}\n",
    "\\right.$$\n",
    "\n",
    "The claim now follows since $v(r^{2})=n+4$."
   ]
  },
  {
   "cell_type": "code",
   "execution_count": 7,
   "id": "1f9312",
   "metadata": {
    "collapsed": false
   },
   "outputs": [
    {
     "name": "stdout",
     "output_type": "stream",
     "text": [
      "True\n"
     ]
    }
   ],
   "source": [
    "m1 = -(2*A2*A3^2 - 2*A1*A3*A4 + 2*A1^2*A6 - A4^2 + 4*A2*A6)\n",
    "m2 = (A1*A3 + A4) * (A1^2*A3^2 + 18*A2*A3^2 - 16*A1*A3*A4 + 18*A1^2*A6 - 8*A4^2 + 36*A2*A6)\n",
    "m3 = -27 * (A3^2 + 2*A6)^2\n",
    "print(EllipticCurve([2*A1,2*A2,r*A3,r*A4,r^2/2*A6]).discriminant()/r^2 == 16 * (A1^2 + 2*A2)^2 * m1 + 8*r*m2 + r^2 * m3)"
   ]
  },
  {
   "cell_type": "markdown",
   "id": "204ec0",
   "metadata": {
    "collapsed": false
   },
   "source": [
    "**Case 9.** Suppose $\\operatorname{typ}(E)=\\rm{IV}^*$. Nothing to show since the minimal discriminant valuation is always $8$.\n",
    "\n",
    "**Case 10.** Suppose $\\operatorname{typ}(E)=\\rm{III}^*$. Then $\\mathcal{V}(E)=(1,2,3,=3,5)$. The code below verifies the cases listed in the table. \n",
    "\n",
    "Note that the condition $v(a_1^2+4a_2)=4$ with $v(a_1)\\ge2$ is equivalent to\n",
    "\n",
    "$(i)$ $v(a_1)=2$ and $v(a_2)\\ge 3$ or $(ii)$ $v(a_1)\\ge 3$ and $v(a_2) = 2$. \n",
    "\n",
    "Similarly, $v(a_1^2+4a_2)\\ge 5$ is equivalent to \n",
    "\n",
    "$(i)$ $v(a_1)=2$ and $v(a_2)=2$ or $(ii)$ $v(a_1)\\ge 3$ and $v(a_2) \\ge 3$."
   ]
  },
  {
   "cell_type": "code",
   "execution_count": 11,
   "id": "f37834",
   "metadata": {
    "collapsed": false
   },
   "outputs": [
    {
     "name": "stdout",
     "output_type": "stream",
     "text": [
      "Suppose V(E)=(=1,2,3,=3,5). Then Delta= (1024) * A4^2 * A1^4 mod 2048 = 1024 mod 2048 since A1*A4 is odd.\n",
      "Suppose V(E)=(2,2,=3,=3,5). Then Delta= (4096) * A3^4 mod 8192 = 4096 mod 8192 since A3 is odd.\n",
      "Suppose V(E)=(=2,3,4,=3,=5). Then Delta= (16384) * (A1^4*A4^2 + 2*A1^2*A4*A6 + 2*A4^3 + A6^2) mod 65536 = 32768 mod 65536 since A1^4*A4^2 + A6^2 = 2 mod 4 and 2(A1^2*A4*A6 + A4^3) = 0 mod 4 .\n",
      "Suppose V(E)=(3,=2,4,=3,=5). Then Delta= (16384) * (A2^2*A4^2 + 2*A4^3 + 2*A2*A4*A6 + A6^2) mod 65536 = 32768 mod 65536 since A2^2*A4^2 + A6^2 = 2 mod 4 and 2(A4^3 + A2*A4*A6) = 0 mod 4.\n",
      "Suppose V(E)=(=2,=2,4,=3,=5). Then Delta= (16384) * (A1^4*A4^2 + A2^2*A4^2 + A6^2) mod 32768 = 16384 mod 32768 since A1^4*A4^2 + A2^2*A4^2 + A6^2 is odd.\n",
      "Suppose V(E)=(3,3,4,=3,=5). Then Delta= (16384) * A6^2 mod 32768 = 16384 mod 32768 since A6 is odd.\n",
      "Suppose V(E)=(=2,3,4,=3,6). Then Delta= (16384) * A4^2 * A1^4 mod 32768 = 16384 mod 32768 since A1*A4 is odd.\n",
      "Suppose V(E)=(3,=2,4,=3,6). Then Delta= (16384) * A4^2 * A2^2 mod 32768 = 16384 mod 32768 since A2*A4 is odd.\n",
      "Suppose V(E)=(=2,=2,4,=3,6). Then Delta= (16384) * A4^2 * (A1^4 + 2*A1^2*A2 + A2^2 + 2*A4) mod 65536 = 32768 mod 65536 since A4 is odd and A1^4 + A2^2 = 2 mod 4 and 2(A1^2*A2 + A4) = 0 mod 4.\n",
      "Suppose V(E)=(3,3,4,=3,6). Then Delta= (32768) * A4^3 mod 65536 = 32768 mod 65536 since A4 is odd.\n"
     ]
    }
   ],
   "source": [
    "print(Edisc('(=1,2,3,=3,5)',1,2,3,3,5,10,'1024 mod 2048 since A1*A4 is odd'))\n",
    "print(Edisc('(2,2,=3,=3,5)',2,2,3,3,5,12,'4096 mod 8192 since A3 is odd'))\n",
    "print(Edisc('(=2,3,4,=3,=5)',2,3,4,3,5,15,'32768 mod 65536 since A1^4*A4^2 + A6^2 = 2 mod 4 and 2(A1^2*A4*A6 + A4^3) = 0 mod 4 '))\n",
    "print(Edisc('(3,=2,4,=3,=5)',3,2,4,3,5,15,'32768 mod 65536 since A2^2*A4^2 + A6^2 = 2 mod 4 and 2(A4^3 + A2*A4*A6) = 0 mod 4'))\n",
    "print(Edisc('(=2,=2,4,=3,=5)',2,2,4,3,5,14,'16384 mod 32768 since A1^4*A4^2 + A2^2*A4^2 + A6^2 is odd'))\n",
    "print(Edisc('(3,3,4,=3,=5)',3,3,4,3,5,14,'16384 mod 32768 since A6 is odd'))\n",
    "print(Edisc('(=2,3,4,=3,6)',2,3,4,3,6,14,'16384 mod 32768 since A1*A4 is odd'))\n",
    "print(Edisc('(3,=2,4,=3,6)',3,2,4,3,6,14,'16384 mod 32768 since A2*A4 is odd'))\n",
    "print(Edisc('(=2,=2,4,=3,6)',2,2,4,3,6,15,'32768 mod 65536 since A4 is odd and A1^4 + A2^2 = 2 mod 4 and 2(A1^2*A2 + A4) = 0 mod 4'))\n",
    "print(Edisc('(3,3,4,=3,6)',3,3,4,3,6,15,'32768 mod 65536 since A4 is odd'))"
   ]
  },
  {
   "cell_type": "markdown",
   "id": "fb3ed6",
   "metadata": {
    "collapsed": false
   },
   "source": [
    "**Case 11.** Suppose $\\operatorname{typ}(E)=\\rm{II}^*$. Then $\\mathcal{V}(E)=(1,2,3,4,=5)$. The code below verifies the cases listed in the table."
   ]
  },
  {
   "cell_type": "code",
   "execution_count": 14,
   "id": "87da47",
   "metadata": {
    "collapsed": false
   },
   "outputs": [
    {
     "name": "stdout",
     "output_type": "stream",
     "text": [
      "Suppose V(E)=(=1,2,3,4,=5). Then Delta= (2048) * A6 * A1^6 mod 4096 = 2048 mod 4096 since A1*A6 is odd.\n",
      "Suppose V(E)=(2,2,=3,4,=5). Then Delta= (4096) * A3^4 mod 8192 = 4096 mod 8192 since A3 is odd.\n",
      "Suppose V(E)=(2,2,4,4,=5). Then Delta= (16384) * A6^2 mod 32768 = 16384 mod 32768 since A6 is odd.\n"
     ]
    }
   ],
   "source": [
    "print(Edisc('(=1,2,3,4,=5)',1,2,3,4,5,11,'2048 mod 4096 since A1*A6 is odd'))\n",
    "print(Edisc('(2,2,=3,4,=5)',2,2,3,4,5,12,'4096 mod 8192 since A3 is odd'))\n",
    "print(Edisc('(2,2,4,4,=5)',2,2,4,4,5,14,'16384 mod 32768 since A6 is odd'))"
   ]
  },
  {
   "cell_type": "code",
   "execution_count": 0,
   "id": "e8dfdf",
   "metadata": {
    "collapsed": false
   },
   "outputs": [
   ],
   "source": [
   ]
  }
 ],
 "metadata": {
  "kernelspec": {
   "argv": [
    "sage-9.6",
    "--python",
    "-m",
    "sage.repl.ipython_kernel",
    "--matplotlib=inline",
    "-f",
    "{connection_file}"
   ],
   "display_name": "SageMath 9.6",
   "env": {
   },
   "language": "sagemath",
   "metadata": {
    "cocalc": {
     "description": "Open-source mathematical software system",
     "priority": 1,
     "url": "https://www.sagemath.org/"
    }
   },
   "name": "sage-9.6",
   "resource_dir": "/ext/jupyter/kernels/sage-9.6"
  }
 },
 "nbformat": 4,
 "nbformat_minor": 4
}